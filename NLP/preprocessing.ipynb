{
 "cells": [
  {
   "cell_type": "code",
   "execution_count": null,
   "metadata": {},
   "outputs": [],
   "source": [
    "\n"
   ]
  },
  {
   "cell_type": "code",
   "execution_count": 56,
   "metadata": {},
   "outputs": [],
   "source": [
    "paragraph = \"\"\" One of the most important and ongoing works of the king involves Kidu, a tradition based on the rule of a Dharma king whose sacred duty is to care for his people. The people can access Kidu in several ways: by applying to the Office of the Royal Chamberlain, which accepts applications during working hours; by sending applications through Dzongkhag Kidu Officers in every district, whose responsibility is to collect such applications as well as identify people who need help; and by appealing to the king directly. To give the people the opportunity for direct appeal, the king on his numerous road trips across the country stops for every potential appellant along the road.[48]\n",
    "\n",
    "There are several Kidu schemes designed to help certain groups of people, such as students unable to afford even the free education available in the country, elderly citizens, and those requiring medical treatment. The king has also continued the tradition of giving state land to landless farmers around the country. The ongoing project takes him to remote villages and communities.[49] Kidu includes providing immediate assistance to victims of natural disasters. The king personally supervised the rebuilding efforts following major earthquakes and floods in 2009 and 2011.[50][51]\n",
    "\n",
    "In 2012, the king granted Nu.100 million from the Armed Forces to the Zhung Dratshang for the Dzong Reconstruction Fund, as on 24 June, the historic Wangduephodrang Dzong was destroyed by fire. As Supreme Commander of the Armed Forces, he commanded the armed forces and De-Suups to the site immediately, and with help from dzongkhag officials and citizens, many things were saved from the fire.\"\"\""
   ]
  },
  {
   "cell_type": "code",
   "execution_count": 57,
   "metadata": {},
   "outputs": [
    {
     "data": {
      "text/plain": [
       "' One of the most important and ongoing works of the king involves Kidu, a tradition based on the rule of a Dharma king whose sacred duty is to care for his people. The people can access Kidu in several ways: by applying to the Office of the Royal Chamberlain, which accepts applications during working hours; by sending applications through Dzongkhag Kidu Officers in every district, whose responsibility is to collect such applications as well as identify people who need help; and by appealing to the king directly. To give the people the opportunity for direct appeal, the king on his numerous road trips across the country stops for every potential appellant along the road.[48]\\n\\nThere are several Kidu schemes designed to help certain groups of people, such as students unable to afford even the free education available in the country, elderly citizens, and those requiring medical treatment. The king has also continued the tradition of giving state land to landless farmers around the country. The ongoing project takes him to remote villages and communities.[49] Kidu includes providing immediate assistance to victims of natural disasters. The king personally supervised the rebuilding efforts following major earthquakes and floods in 2009 and 2011.[50][51]\\n\\nIn 2012, the king granted Nu.100 million from the Armed Forces to the Zhung Dratshang for the Dzong Reconstruction Fund, as on 24 June, the historic Wangduephodrang Dzong was destroyed by fire. As Supreme Commander of the Armed Forces, he commanded the armed forces and De-Suups to the site immediately, and with help from dzongkhag officials and citizens, many things were saved from the fire.'"
      ]
     },
     "execution_count": 57,
     "metadata": {},
     "output_type": "execute_result"
    }
   ],
   "source": [
    "paragraph\n"
   ]
  },
  {
   "cell_type": "code",
   "execution_count": 58,
   "metadata": {},
   "outputs": [],
   "source": [
    "from nltk.stem import PorterStemmer\n",
    "from  nltk.corpus import stopwords\n",
    "import nltk"
   ]
  },
  {
   "cell_type": "code",
   "execution_count": 59,
   "metadata": {},
   "outputs": [
    {
     "name": "stderr",
     "output_type": "stream",
     "text": [
      "[nltk_data] Downloading package punkt to\n",
      "[nltk_data]     C:\\Users\\GyeltshenWangdi\\AppData\\Roaming\\nltk_data...\n",
      "[nltk_data]   Package punkt is already up-to-date!\n"
     ]
    },
    {
     "data": {
      "text/plain": [
       "[' One of the most important and ongoing works of the king involves Kidu, a tradition based on the rule of a Dharma king whose sacred duty is to care for his people.',\n",
       " 'The people can access Kidu in several ways: by applying to the Office of the Royal Chamberlain, which accepts applications during working hours; by sending applications through Dzongkhag Kidu Officers in every district, whose responsibility is to collect such applications as well as identify people who need help; and by appealing to the king directly.',\n",
       " 'To give the people the opportunity for direct appeal, the king on his numerous road trips across the country stops for every potential appellant along the road.',\n",
       " '[48]\\n\\nThere are several Kidu schemes designed to help certain groups of people, such as students unable to afford even the free education available in the country, elderly citizens, and those requiring medical treatment.',\n",
       " 'The king has also continued the tradition of giving state land to landless farmers around the country.',\n",
       " 'The ongoing project takes him to remote villages and communities.',\n",
       " '[49] Kidu includes providing immediate assistance to victims of natural disasters.',\n",
       " 'The king personally supervised the rebuilding efforts following major earthquakes and floods in 2009 and 2011.',\n",
       " '[50][51]\\n\\nIn 2012, the king granted Nu.100 million from the Armed Forces to the Zhung Dratshang for the Dzong Reconstruction Fund, as on 24 June, the historic Wangduephodrang Dzong was destroyed by fire.',\n",
       " 'As Supreme Commander of the Armed Forces, he commanded the armed forces and De-Suups to the site immediately, and with help from dzongkhag officials and citizens, many things were saved from the fire.']"
      ]
     },
     "execution_count": 59,
     "metadata": {},
     "output_type": "execute_result"
    }
   ],
   "source": [
    "### tokenization -- convert paragraphs to sentences \n",
    "## download punkt to use tokenation\n",
    "nltk.download('punkt')\n",
    "sentences = nltk.sent_tokenize(paragraph)\n",
    "sentences\n"
   ]
  },
  {
   "cell_type": "code",
   "execution_count": 60,
   "metadata": {},
   "outputs": [
    {
     "data": {
      "text/plain": [
       "'drink'"
      ]
     },
     "execution_count": 60,
     "metadata": {},
     "output_type": "execute_result"
    }
   ],
   "source": [
    "##steming\n",
    "\n",
    "stemmer = PorterStemmer()\n",
    "stemmer.stem('drinking')"
   ]
  },
  {
   "cell_type": "code",
   "execution_count": 61,
   "metadata": {},
   "outputs": [
    {
     "name": "stderr",
     "output_type": "stream",
     "text": [
      "[nltk_data] Downloading package wordnet to\n",
      "[nltk_data]     C:\\Users\\GyeltshenWangdi\\AppData\\Roaming\\nltk_data...\n",
      "[nltk_data]   Package wordnet is already up-to-date!\n"
     ]
    },
    {
     "data": {
      "text/plain": [
       "True"
      ]
     },
     "execution_count": 61,
     "metadata": {},
     "output_type": "execute_result"
    }
   ],
   "source": [
    "nltk.download('wordnet')"
   ]
  },
  {
   "cell_type": "code",
   "execution_count": 62,
   "metadata": {},
   "outputs": [
    {
     "data": {
      "text/plain": [
       "'go'"
      ]
     },
     "execution_count": 62,
     "metadata": {},
     "output_type": "execute_result"
    }
   ],
   "source": [
    "from nltk.stem import WordNetLemmatizer\n",
    "lemitization = WordNetLemmatizer()\n",
    "lemitizer = lemitization.lemmatize('goes')\n",
    "lemitizer"
   ]
  },
  {
   "cell_type": "code",
   "execution_count": 63,
   "metadata": {},
   "outputs": [],
   "source": [
    "import re\n",
    "\n",
    "corpus = []\n",
    "\n",
    "for i in range( len(sentences)):\n",
    "    text = re.sub('[^a-zA-Z]', ' ', sentences[i])\n",
    "    text = text.lower()\n",
    "    corpus.append(text)\n",
    "    "
   ]
  },
  {
   "cell_type": "code",
   "execution_count": 64,
   "metadata": {},
   "outputs": [
    {
     "data": {
      "text/plain": [
       "[' one of the most important and ongoing works of the king involves kidu  a tradition based on the rule of a dharma king whose sacred duty is to care for his people ',\n",
       " 'the people can access kidu in several ways  by applying to the office of the royal chamberlain  which accepts applications during working hours  by sending applications through dzongkhag kidu officers in every district  whose responsibility is to collect such applications as well as identify people who need help  and by appealing to the king directly ',\n",
       " 'to give the people the opportunity for direct appeal  the king on his numerous road trips across the country stops for every potential appellant along the road ',\n",
       " '      there are several kidu schemes designed to help certain groups of people  such as students unable to afford even the free education available in the country  elderly citizens  and those requiring medical treatment ',\n",
       " 'the king has also continued the tradition of giving state land to landless farmers around the country ',\n",
       " 'the ongoing project takes him to remote villages and communities ',\n",
       " '     kidu includes providing immediate assistance to victims of natural disasters ',\n",
       " 'the king personally supervised the rebuilding efforts following major earthquakes and floods in      and      ',\n",
       " '          in       the king granted nu     million from the armed forces to the zhung dratshang for the dzong reconstruction fund  as on    june  the historic wangduephodrang dzong was destroyed by fire ',\n",
       " 'as supreme commander of the armed forces  he commanded the armed forces and de suups to the site immediately  and with help from dzongkhag officials and citizens  many things were saved from the fire ']"
      ]
     },
     "execution_count": 64,
     "metadata": {},
     "output_type": "execute_result"
    }
   ],
   "source": [
    "corpus"
   ]
  },
  {
   "cell_type": "code",
   "execution_count": 65,
   "metadata": {},
   "outputs": [
    {
     "name": "stderr",
     "output_type": "stream",
     "text": [
      "[nltk_data] Downloading package stopwords to\n",
      "[nltk_data]     C:\\Users\\GyeltshenWangdi\\AppData\\Roaming\\nltk_data...\n",
      "[nltk_data]   Package stopwords is already up-to-date!\n"
     ]
    },
    {
     "data": {
      "text/plain": [
       "True"
      ]
     },
     "execution_count": 65,
     "metadata": {},
     "output_type": "execute_result"
    }
   ],
   "source": [
    "nltk.download('stopwords')"
   ]
  },
  {
   "cell_type": "code",
   "execution_count": 71,
   "metadata": {},
   "outputs": [
    {
     "name": "stdout",
     "output_type": "stream",
     "text": [
      "one\n",
      "import\n",
      "ongo\n",
      "work\n",
      "king\n",
      "involv\n",
      "kidu\n",
      "tradit\n",
      "base\n",
      "rule\n",
      "dharma\n",
      "king\n",
      "whose\n",
      "sacr\n",
      "duti\n",
      "care\n",
      "peopl\n",
      "peopl\n",
      "access\n",
      "kidu\n",
      "sever\n",
      "way\n",
      "appli\n",
      "offic\n",
      "royal\n",
      "chamberlain\n",
      "accept\n",
      "applic\n",
      "work\n",
      "hour\n",
      "send\n",
      "applic\n",
      "dzongkhag\n",
      "kidu\n",
      "offic\n",
      "everi\n",
      "district\n",
      "whose\n",
      "respons\n",
      "collect\n",
      "applic\n",
      "well\n",
      "identifi\n",
      "peopl\n",
      "need\n",
      "help\n",
      "appeal\n",
      "king\n",
      "directli\n",
      "give\n",
      "peopl\n",
      "opportun\n",
      "direct\n",
      "appeal\n",
      "king\n",
      "numer\n",
      "road\n",
      "trip\n",
      "across\n",
      "countri\n",
      "stop\n",
      "everi\n",
      "potenti\n",
      "appel\n",
      "along\n",
      "road\n",
      "sever\n",
      "kidu\n",
      "scheme\n",
      "design\n",
      "help\n",
      "certain\n",
      "group\n",
      "peopl\n",
      "student\n",
      "unabl\n",
      "afford\n",
      "even\n",
      "free\n",
      "educ\n",
      "avail\n",
      "countri\n",
      "elderli\n",
      "citizen\n",
      "requir\n",
      "medic\n",
      "treatment\n",
      "king\n",
      "also\n",
      "continu\n",
      "tradit\n",
      "give\n",
      "state\n",
      "land\n",
      "landless\n",
      "farmer\n",
      "around\n",
      "countri\n",
      "ongo\n",
      "project\n",
      "take\n",
      "remot\n",
      "villag\n",
      "commun\n",
      "kidu\n",
      "includ\n",
      "provid\n",
      "immedi\n",
      "assist\n",
      "victim\n",
      "natur\n",
      "disast\n",
      "king\n",
      "person\n",
      "supervis\n",
      "rebuild\n",
      "effort\n",
      "follow\n",
      "major\n",
      "earthquak\n",
      "flood\n",
      "king\n",
      "grant\n",
      "nu\n",
      "million\n",
      "arm\n",
      "forc\n",
      "zhung\n",
      "dratshang\n",
      "dzong\n",
      "reconstruct\n",
      "fund\n",
      "june\n",
      "histor\n",
      "wangduephodrang\n",
      "dzong\n",
      "destroy\n",
      "fire\n",
      "suprem\n",
      "command\n",
      "arm\n",
      "forc\n",
      "command\n",
      "arm\n",
      "forc\n",
      "de\n",
      "suup\n",
      "site\n",
      "immedi\n",
      "help\n",
      "dzongkhag\n",
      "offici\n",
      "citizen\n",
      "mani\n",
      "thing\n",
      "save\n",
      "fire\n"
     ]
    }
   ],
   "source": [
    "### apply steming to the corpus\n",
    "\n",
    "steming = PorterStemmer()\n",
    "for i in corpus:\n",
    "    words = nltk.word_tokenize(i)\n",
    "   \n",
    "    for word in words:\n",
    "        if word not in set(stopwords.words('english')):\n",
    "\n",
    "            print(steming.stem(word))\n",
    "    \n",
    "        \n",
    "     \n",
    "    \n",
    "   \n",
    "#print(steming)\n"
   ]
  },
  {
   "cell_type": "code",
   "execution_count": 72,
   "metadata": {},
   "outputs": [
    {
     "name": "stdout",
     "output_type": "stream",
     "text": [
      "one\n",
      "important\n",
      "ongoing\n",
      "work\n",
      "king\n",
      "involves\n",
      "kidu\n",
      "tradition\n",
      "based\n",
      "rule\n",
      "dharma\n",
      "king\n",
      "whose\n",
      "sacred\n",
      "duty\n",
      "care\n",
      "people\n",
      "people\n",
      "access\n",
      "kidu\n",
      "several\n",
      "way\n",
      "applying\n",
      "office\n",
      "royal\n",
      "chamberlain\n",
      "accepts\n",
      "application\n",
      "working\n",
      "hour\n",
      "sending\n",
      "application\n",
      "dzongkhag\n",
      "kidu\n",
      "officer\n",
      "every\n",
      "district\n",
      "whose\n",
      "responsibility\n",
      "collect\n",
      "application\n",
      "well\n",
      "identify\n",
      "people\n",
      "need\n",
      "help\n",
      "appealing\n",
      "king\n",
      "directly\n",
      "give\n",
      "people\n",
      "opportunity\n",
      "direct\n",
      "appeal\n",
      "king\n",
      "numerous\n",
      "road\n",
      "trip\n",
      "across\n",
      "country\n",
      "stop\n",
      "every\n",
      "potential\n",
      "appellant\n",
      "along\n",
      "road\n",
      "several\n",
      "kidu\n",
      "scheme\n",
      "designed\n",
      "help\n",
      "certain\n",
      "group\n",
      "people\n",
      "student\n",
      "unable\n",
      "afford\n",
      "even\n",
      "free\n",
      "education\n",
      "available\n",
      "country\n",
      "elderly\n",
      "citizen\n",
      "requiring\n",
      "medical\n",
      "treatment\n",
      "king\n",
      "also\n",
      "continued\n",
      "tradition\n",
      "giving\n",
      "state\n",
      "land\n",
      "landless\n",
      "farmer\n",
      "around\n",
      "country\n",
      "ongoing\n",
      "project\n",
      "take\n",
      "remote\n",
      "village\n",
      "community\n",
      "kidu\n",
      "includes\n",
      "providing\n",
      "immediate\n",
      "assistance\n",
      "victim\n",
      "natural\n",
      "disaster\n",
      "king\n",
      "personally\n",
      "supervised\n",
      "rebuilding\n",
      "effort\n",
      "following\n",
      "major\n",
      "earthquake\n",
      "flood\n",
      "king\n",
      "granted\n",
      "nu\n",
      "million\n",
      "armed\n",
      "force\n",
      "zhung\n",
      "dratshang\n",
      "dzong\n",
      "reconstruction\n",
      "fund\n",
      "june\n",
      "historic\n",
      "wangduephodrang\n",
      "dzong\n",
      "destroyed\n",
      "fire\n",
      "supreme\n",
      "commander\n",
      "armed\n",
      "force\n",
      "commanded\n",
      "armed\n",
      "force\n",
      "de\n",
      "suups\n",
      "site\n",
      "immediately\n",
      "help\n",
      "dzongkhag\n",
      "official\n",
      "citizen\n",
      "many\n",
      "thing\n",
      "saved\n",
      "fire\n"
     ]
    }
   ],
   "source": [
    "for i in corpus:\n",
    "    words = nltk.word_tokenize(i)\n",
    "    for word in words:\n",
    "        if word not in set(stopwords.words('english')):\n",
    "            print(lemitization.lemmatize(word))\n",
    "\n"
   ]
  },
  {
   "cell_type": "code",
   "execution_count": null,
   "metadata": {},
   "outputs": [],
   "source": [
    "## stopwords.words('english') will show the stopwords"
   ]
  },
  {
   "cell_type": "code",
   "execution_count": 73,
   "metadata": {},
   "outputs": [
    {
     "data": {
      "text/plain": [
       "<10x151 sparse matrix of type '<class 'numpy.int64'>'\n",
       "\twith 217 stored elements in Compressed Sparse Row format>"
      ]
     },
     "execution_count": 73,
     "metadata": {},
     "output_type": "execute_result"
    }
   ],
   "source": [
    "## back of words\n",
    "\n",
    "from sklearn.feature_extraction.text import CountVectorizer\n",
    "cv = CountVectorizer()\n",
    "cv.fit_transform(corpus)"
   ]
  },
  {
   "cell_type": "code",
   "execution_count": 74,
   "metadata": {},
   "outputs": [],
   "source": [
    "cv.vocabulary"
   ]
  },
  {
   "cell_type": "code",
   "execution_count": 87,
   "metadata": {},
   "outputs": [],
   "source": [
    "## apply stop words \n",
    "\n",
    "import re\n",
    "corpus = []\n",
    "\n",
    "for i in range(len(sentences)):\n",
    "    review = re.sub('[^a-zA-Z]', ' ', sentences[i]) # remove special characters\n",
    "    #convert into lower case\n",
    "    review = review.lower().split()\n",
    "    review = [lemitization.lemmatize(word) for word in review  if word not in set(stopwords.words('english')) ]\n",
    "    review = ' '.join(review)\n",
    "    corpus.append(review)\n",
    "\n",
    "    #review = re.sub('[^a-zA-Z]', ' ', sentences[i])"
   ]
  },
  {
   "cell_type": "code",
   "execution_count": 88,
   "metadata": {},
   "outputs": [
    {
     "data": {
      "text/plain": [
       "['one important ongoing work king involves kidu tradition based rule dharma king whose sacred duty care people',\n",
       " 'people access kidu several way applying office royal chamberlain accepts application working hour sending application dzongkhag kidu officer every district whose responsibility collect application well identify people need help appealing king directly',\n",
       " 'give people opportunity direct appeal king numerous road trip across country stop every potential appellant along road',\n",
       " 'several kidu scheme designed help certain group people student unable afford even free education available country elderly citizen requiring medical treatment',\n",
       " 'king also continued tradition giving state land landless farmer around country',\n",
       " 'ongoing project take remote village community',\n",
       " 'kidu includes providing immediate assistance victim natural disaster',\n",
       " 'king personally supervised rebuilding effort following major earthquake flood',\n",
       " 'king granted nu million armed force zhung dratshang dzong reconstruction fund june historic wangduephodrang dzong destroyed fire',\n",
       " 'supreme commander armed force commanded armed force de suups site immediately help dzongkhag official citizen many thing saved fire']"
      ]
     },
     "execution_count": 88,
     "metadata": {},
     "output_type": "execute_result"
    }
   ],
   "source": [
    "corpus"
   ]
  },
  {
   "cell_type": "code",
   "execution_count": 94,
   "metadata": {},
   "outputs": [
    {
     "name": "stdout",
     "output_type": "stream",
     "text": [
      " One of the most important and ongoing works of the king involves Kidu, a tradition based on the rule of a Dharma king whose sacred duty is to care for his people.\n"
     ]
    }
   ],
   "source": [
    "# for i in sentences:\n",
    "#     print(i)\n",
    "\n",
    "for i in range(len(sentences)):\n",
    "    print(sentences[i])\n",
    "    break"
   ]
  },
  {
   "cell_type": "code",
   "execution_count": 108,
   "metadata": {},
   "outputs": [
    {
     "name": "stdout",
     "output_type": "stream",
     "text": [
      "[['one', 'important', 'ongoing', 'work', 'king', 'involves', 'kidu', 'tradition', 'based', 'rule', 'dharma', 'king', 'whose', 'sacred', 'duty', 'care', 'people'], ['people', 'access', 'kidu', 'several', 'way', 'applying', 'office', 'royal', 'chamberlain', 'accepts', 'application', 'working', 'hour', 'sending', 'application', 'dzongkhag', 'kidu', 'officer', 'every', 'district', 'whose', 'responsibility', 'collect', 'application', 'well', 'identify', 'people', 'need', 'help', 'appealing', 'king', 'directly'], ['give', 'people', 'opportunity', 'direct', 'appeal', 'king', 'numerous', 'road', 'trip', 'across', 'country', 'stop', 'every', 'potential', 'appellant', 'along', 'road'], ['several', 'kidu', 'scheme', 'designed', 'help', 'certain', 'group', 'people', 'student', 'unable', 'afford', 'even', 'free', 'education', 'available', 'country', 'elderly', 'citizen', 'requiring', 'medical', 'treatment'], ['king', 'also', 'continued', 'tradition', 'giving', 'state', 'land', 'landless', 'farmer', 'around', 'country'], ['ongoing', 'project', 'take', 'remote', 'village', 'community'], ['kidu', 'includes', 'providing', 'immediate', 'assistance', 'victim', 'natural', 'disaster'], ['king', 'personally', 'supervised', 'rebuilding', 'effort', 'following', 'major', 'earthquake', 'flood'], ['king', 'granted', 'nu', 'million', 'armed', 'force', 'zhung', 'dratshang', 'dzong', 'reconstruction', 'fund', 'june', 'historic', 'wangduephodrang', 'dzong', 'destroyed', 'fire'], ['supreme', 'commander', 'armed', 'force', 'commanded', 'armed', 'force', 'de', 'suups', 'site', 'immediately', 'help', 'dzongkhag', 'official', 'citizen', 'many', 'thing', 'saved', 'fire']]\n"
     ]
    }
   ],
   "source": [
    "stop_words = []\n",
    "for word in sentences:\n",
    "    \n",
    "    remove_special = re.sub('[^a-zA-Z]', ' ', word)\n",
    "    convert_lower = remove_special.lower().split()\n",
    "    convert_lower = [lemitization.lemmatize(word) for word  in convert_lower if word not in set(stopwords.words('english'))]\n",
    "    stop_words.append(convert_lower)\n",
    "print(stop_words)"
   ]
  },
  {
   "cell_type": "code",
   "execution_count": null,
   "metadata": {},
   "outputs": [],
   "source": []
  }
 ],
 "metadata": {
  "kernelspec": {
   "display_name": "Python 3.9.7 ('base')",
   "language": "python",
   "name": "python3"
  },
  "language_info": {
   "codemirror_mode": {
    "name": "ipython",
    "version": 3
   },
   "file_extension": ".py",
   "mimetype": "text/x-python",
   "name": "python",
   "nbconvert_exporter": "python",
   "pygments_lexer": "ipython3",
   "version": "3.9.7"
  },
  "orig_nbformat": 4,
  "vscode": {
   "interpreter": {
    "hash": "ad2bdc8ecc057115af97d19610ffacc2b4e99fae6737bb82f5d7fb13d2f2c186"
   }
  }
 },
 "nbformat": 4,
 "nbformat_minor": 2
}
