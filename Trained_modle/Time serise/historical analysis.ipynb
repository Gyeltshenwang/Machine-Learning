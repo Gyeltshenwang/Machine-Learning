{
 "cells": [
  {
   "cell_type": "code",
   "execution_count": 2,
   "id": "608f595f",
   "metadata": {},
   "outputs": [],
   "source": [
    "import pandas as pd\n",
    "import datetime as dt\n",
    "\n"
   ]
  },
  {
   "cell_type": "code",
   "execution_count": 10,
   "id": "ce523fbf",
   "metadata": {},
   "outputs": [],
   "source": [
    "df = pd.read_csv('historical.csv',parse_dates=['Date'],index_col='Date')"
   ]
  },
  {
   "cell_type": "code",
   "execution_count": 11,
   "id": "21ce957e",
   "metadata": {},
   "outputs": [
    {
     "data": {
      "text/html": [
       "<div>\n",
       "<style scoped>\n",
       "    .dataframe tbody tr th:only-of-type {\n",
       "        vertical-align: middle;\n",
       "    }\n",
       "\n",
       "    .dataframe tbody tr th {\n",
       "        vertical-align: top;\n",
       "    }\n",
       "\n",
       "    .dataframe thead th {\n",
       "        text-align: right;\n",
       "    }\n",
       "</style>\n",
       "<table border=\"1\" class=\"dataframe\">\n",
       "  <thead>\n",
       "    <tr style=\"text-align: right;\">\n",
       "      <th></th>\n",
       "      <th>Close/Last</th>\n",
       "      <th>Volume</th>\n",
       "      <th>Open</th>\n",
       "      <th>High</th>\n",
       "      <th>Low</th>\n",
       "    </tr>\n",
       "    <tr>\n",
       "      <th>Date</th>\n",
       "      <th></th>\n",
       "      <th></th>\n",
       "      <th></th>\n",
       "      <th></th>\n",
       "      <th></th>\n",
       "    </tr>\n",
       "  </thead>\n",
       "  <tbody>\n",
       "    <tr>\n",
       "      <th>2022-05-17</th>\n",
       "      <td>$149.24</td>\n",
       "      <td>78336250</td>\n",
       "      <td>$148.86</td>\n",
       "      <td>$149.77</td>\n",
       "      <td>$146.68</td>\n",
       "    </tr>\n",
       "    <tr>\n",
       "      <th>2022-05-16</th>\n",
       "      <td>$145.54</td>\n",
       "      <td>86643780</td>\n",
       "      <td>$145.55</td>\n",
       "      <td>$147.5199</td>\n",
       "      <td>$144.18</td>\n",
       "    </tr>\n",
       "    <tr>\n",
       "      <th>2022-05-13</th>\n",
       "      <td>$147.11</td>\n",
       "      <td>113990900</td>\n",
       "      <td>$144.59</td>\n",
       "      <td>$148.105</td>\n",
       "      <td>$143.11</td>\n",
       "    </tr>\n",
       "    <tr>\n",
       "      <th>2022-05-12</th>\n",
       "      <td>$142.56</td>\n",
       "      <td>182602000</td>\n",
       "      <td>$142.77</td>\n",
       "      <td>$146.2</td>\n",
       "      <td>$138.8</td>\n",
       "    </tr>\n",
       "    <tr>\n",
       "      <th>2022-05-11</th>\n",
       "      <td>$146.5</td>\n",
       "      <td>142689800</td>\n",
       "      <td>$153.5</td>\n",
       "      <td>$155.45</td>\n",
       "      <td>$145.81</td>\n",
       "    </tr>\n",
       "  </tbody>\n",
       "</table>\n",
       "</div>"
      ],
      "text/plain": [
       "           Close/Last     Volume     Open       High      Low\n",
       "Date                                                         \n",
       "2022-05-17    $149.24   78336250  $148.86    $149.77  $146.68\n",
       "2022-05-16    $145.54   86643780  $145.55  $147.5199  $144.18\n",
       "2022-05-13    $147.11  113990900  $144.59   $148.105  $143.11\n",
       "2022-05-12    $142.56  182602000  $142.77     $146.2   $138.8\n",
       "2022-05-11     $146.5  142689800   $153.5    $155.45  $145.81"
      ]
     },
     "execution_count": 11,
     "metadata": {},
     "output_type": "execute_result"
    }
   ],
   "source": [
    "df.head()"
   ]
  },
  {
   "cell_type": "code",
   "execution_count": 9,
   "id": "412f7e41",
   "metadata": {},
   "outputs": [
    {
     "data": {
      "text/plain": [
       "pandas._libs.tslibs.timestamps.Timestamp"
      ]
     },
     "execution_count": 9,
     "metadata": {},
     "output_type": "execute_result"
    }
   ],
   "source": [
    "type(df.Date[0])"
   ]
  },
  {
   "cell_type": "code",
   "execution_count": 16,
   "id": "225bb4ab",
   "metadata": {},
   "outputs": [
    {
     "data": {
      "text/plain": [
       "[<matplotlib.lines.Line2D at 0x20de3465b50>]"
      ]
     },
     "execution_count": 16,
     "metadata": {},
     "output_type": "execute_result"
    },
    {
     "data": {
      "image/png": "[encoded data removed]",
      "text/plain": [
       "<Figure size 432x288 with 1 Axes>"
      ]
     },
     "metadata": {
      "needs_background": "light"
     },
     "output_type": "display_data"
    }
   ],
   "source": [
    "import matplotlib.pyplot as plt\n",
    "plt.plot(df.index,df.Low)"
   ]
  },
  {
   "cell_type": "code",
   "execution_count": 18,
   "id": "3321e53a",
   "metadata": {},
   "outputs": [
    {
     "name": "stderr",
     "output_type": "stream",
     "text": [
      "C:\\Users\\GYELTS~2\\AppData\\Local\\Temp/ipykernel_4296/826350306.py:1: FutureWarning: Indexing a DataFrame with a datetimelike index using a single string to slice the rows, like `frame[string]`, is deprecated and will be removed in a future version. Use `frame.loc[string]` instead.\n",
      "  df['2022-5']\n"
     ]
    },
    {
     "data": {
      "text/html": [
       "<div>\n",
       "<style scoped>\n",
       "    .dataframe tbody tr th:only-of-type {\n",
       "        vertical-align: middle;\n",
       "    }\n",
       "\n",
       "    .dataframe tbody tr th {\n",
       "        vertical-align: top;\n",
       "    }\n",
       "\n",
       "    .dataframe thead th {\n",
       "        text-align: right;\n",
       "    }\n",
       "</style>\n",
       "<table border=\"1\" class=\"dataframe\">\n",
       "  <thead>\n",
       "    <tr style=\"text-align: right;\">\n",
       "      <th></th>\n",
       "      <th>Close/Last</th>\n",
       "      <th>Volume</th>\n",
       "      <th>Open</th>\n",
       "      <th>High</th>\n",
       "      <th>Low</th>\n",
       "    </tr>\n",
       "    <tr>\n",
       "      <th>Date</th>\n",
       "      <th></th>\n",
       "      <th></th>\n",
       "      <th></th>\n",
       "      <th></th>\n",
       "      <th></th>\n",
       "    </tr>\n",
       "  </thead>\n",
       "  <tbody>\n",
       "    <tr>\n",
       "      <th>2022-05-17</th>\n",
       "      <td>$149.24</td>\n",
       "      <td>78336250</td>\n",
       "      <td>$148.86</td>\n",
       "      <td>$149.77</td>\n",
       "      <td>$146.68</td>\n",
       "    </tr>\n",
       "    <tr>\n",
       "      <th>2022-05-16</th>\n",
       "      <td>$145.54</td>\n",
       "      <td>86643780</td>\n",
       "      <td>$145.55</td>\n",
       "      <td>$147.5199</td>\n",
       "      <td>$144.18</td>\n",
       "    </tr>\n",
       "    <tr>\n",
       "      <th>2022-05-13</th>\n",
       "      <td>$147.11</td>\n",
       "      <td>113990900</td>\n",
       "      <td>$144.59</td>\n",
       "      <td>$148.105</td>\n",
       "      <td>$143.11</td>\n",
       "    </tr>\n",
       "    <tr>\n",
       "      <th>2022-05-12</th>\n",
       "      <td>$142.56</td>\n",
       "      <td>182602000</td>\n",
       "      <td>$142.77</td>\n",
       "      <td>$146.2</td>\n",
       "      <td>$138.8</td>\n",
       "    </tr>\n",
       "    <tr>\n",
       "      <th>2022-05-11</th>\n",
       "      <td>$146.5</td>\n",
       "      <td>142689800</td>\n",
       "      <td>$153.5</td>\n",
       "      <td>$155.45</td>\n",
       "      <td>$145.81</td>\n",
       "    </tr>\n",
       "    <tr>\n",
       "      <th>2022-05-10</th>\n",
       "      <td>$154.51</td>\n",
       "      <td>115366700</td>\n",
       "      <td>$155.52</td>\n",
       "      <td>$156.74</td>\n",
       "      <td>$152.93</td>\n",
       "    </tr>\n",
       "    <tr>\n",
       "      <th>2022-05-09</th>\n",
       "      <td>$152.06</td>\n",
       "      <td>131577900</td>\n",
       "      <td>$154.925</td>\n",
       "      <td>$155.83</td>\n",
       "      <td>$151.49</td>\n",
       "    </tr>\n",
       "    <tr>\n",
       "      <th>2022-05-06</th>\n",
       "      <td>$157.28</td>\n",
       "      <td>116124600</td>\n",
       "      <td>$156.01</td>\n",
       "      <td>$159.44</td>\n",
       "      <td>$154.18</td>\n",
       "    </tr>\n",
       "    <tr>\n",
       "      <th>2022-05-05</th>\n",
       "      <td>$156.77</td>\n",
       "      <td>130525300</td>\n",
       "      <td>$163.85</td>\n",
       "      <td>$164.08</td>\n",
       "      <td>$154.95</td>\n",
       "    </tr>\n",
       "    <tr>\n",
       "      <th>2022-05-04</th>\n",
       "      <td>$166.02</td>\n",
       "      <td>108256500</td>\n",
       "      <td>$159.67</td>\n",
       "      <td>$166.48</td>\n",
       "      <td>$159.26</td>\n",
       "    </tr>\n",
       "    <tr>\n",
       "      <th>2022-05-03</th>\n",
       "      <td>$159.48</td>\n",
       "      <td>88966530</td>\n",
       "      <td>$158.15</td>\n",
       "      <td>$160.71</td>\n",
       "      <td>$156.32</td>\n",
       "    </tr>\n",
       "    <tr>\n",
       "      <th>2022-05-02</th>\n",
       "      <td>$157.96</td>\n",
       "      <td>123055300</td>\n",
       "      <td>$156.71</td>\n",
       "      <td>$158.23</td>\n",
       "      <td>$153.27</td>\n",
       "    </tr>\n",
       "  </tbody>\n",
       "</table>\n",
       "</div>"
      ],
      "text/plain": [
       "           Close/Last     Volume      Open       High      Low\n",
       "Date                                                          \n",
       "2022-05-17    $149.24   78336250   $148.86    $149.77  $146.68\n",
       "2022-05-16    $145.54   86643780   $145.55  $147.5199  $144.18\n",
       "2022-05-13    $147.11  113990900   $144.59   $148.105  $143.11\n",
       "2022-05-12    $142.56  182602000   $142.77     $146.2   $138.8\n",
       "2022-05-11     $146.5  142689800    $153.5    $155.45  $145.81\n",
       "2022-05-10    $154.51  115366700   $155.52    $156.74  $152.93\n",
       "2022-05-09    $152.06  131577900  $154.925    $155.83  $151.49\n",
       "2022-05-06    $157.28  116124600   $156.01    $159.44  $154.18\n",
       "2022-05-05    $156.77  130525300   $163.85    $164.08  $154.95\n",
       "2022-05-04    $166.02  108256500   $159.67    $166.48  $159.26\n",
       "2022-05-03    $159.48   88966530   $158.15    $160.71  $156.32\n",
       "2022-05-02    $157.96  123055300   $156.71    $158.23  $153.27"
      ]
     },
     "execution_count": 18,
     "metadata": {},
     "output_type": "execute_result"
    }
   ],
   "source": [
    "df['2022-5'] # displays the data of april 2022"
   ]
  },
  {
   "cell_type": "code",
   "execution_count": null,
   "id": "6e94b028",
   "metadata": {},
   "outputs": [],
   "source": []
  }
 ],
 "metadata": {
  "kernelspec": {
   "display_name": "Python 3 (ipykernel)",
   "language": "python",
   "name": "python3"
  },
  "language_info": {
   "codemirror_mode": {
    "name": "ipython",
    "version": 3
   },
   "file_extension": ".py",
   "mimetype": "text/x-python",
   "name": "python",
   "nbconvert_exporter": "python",
   "pygments_lexer": "ipython3",
   "version": "3.9.7"
  }
 },
 "nbformat": 4,
 "nbformat_minor": 5
}
