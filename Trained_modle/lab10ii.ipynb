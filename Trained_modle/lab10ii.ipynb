{
 "cells": [
  {
   "cell_type": "code",
   "execution_count": 52,
   "metadata": {},
   "outputs": [],
   "source": [
    "from tensorflow.keras.datasets import cifar10\n",
    "import numpy as np\n",
    "import tensorflow as tf\n",
    "from tensorflow.keras import layers\n"
   ]
  },
  {
   "cell_type": "code",
   "execution_count": 53,
   "metadata": {},
   "outputs": [],
   "source": [
    "(features_train, label_train), (features_test, label_test) = cifar10.load_data()"
   ]
  },
  {
   "cell_type": "code",
   "execution_count": null,
   "metadata": {},
   "outputs": [],
   "source": []
  },
  {
   "attachments": {},
   "cell_type": "markdown",
   "metadata": {},
   "source": [
    "solution 1\n"
   ]
  },
  {
   "attachments": {},
   "cell_type": "markdown",
   "metadata": {},
   "source": [
    "feature_train.shape : will show the number of samples in train, dimension of samples and  rgb channels.\n",
    "feature_test.shape : will show the number of samples in test, dimension of samples and  rgb channels\n",
    "label_train.shape : will show the number of label in train,\n",
    "label_test.shape : will show the number of label in  which will be used for the prediction of the model\n",
    "\n"
   ]
  },
  {
   "cell_type": "code",
   "execution_count": 54,
   "metadata": {},
   "outputs": [
    {
     "name": "stdout",
     "output_type": "stream",
     "text": [
      " shape of feature_train(50000, 32, 32, 3)\n",
      " shape of label_train(50000, 1)\n",
      " shape of feature_test(10000, 32, 32, 3)\n",
      " shape of label_test(10000, 1)\n"
     ]
    }
   ],
   "source": [
    "print(f' shape of feature_train{features_train.shape}\\n shape of label_train{label_train.shape}\\n shape of feature_test{features_test.shape}\\n shape of label_test{label_test.shape}')"
   ]
  },
  {
   "cell_type": "code",
   "execution_count": 55,
   "metadata": {},
   "outputs": [],
   "source": [
    "batch_size = 16\n",
    "img_height = 32\n",
    "img_width = 32\n"
   ]
  },
  {
   "cell_type": "code",
   "execution_count": 56,
   "metadata": {},
   "outputs": [],
   "source": [
    "from tensorflow.keras.preprocessing.image import ImageDataGenerator"
   ]
  },
  {
   "cell_type": "code",
   "execution_count": 57,
   "metadata": {},
   "outputs": [],
   "source": [
    "train_img_gen = ImageDataGenerator(\n",
    "    rescale = 1./255,\n",
    "    horizontal_flip = True,\n",
    "    rotation_range=10,\n",
    "    width_shift_range = 0.1, \n",
    "    height_shift_range=0.1\n",
    "    \n",
    "\n",
    ")"
   ]
  },
  {
   "cell_type": "code",
   "execution_count": 58,
   "metadata": {},
   "outputs": [],
   "source": [
    "import os\n"
   ]
  },
  {
   "cell_type": "code",
   "execution_count": 59,
   "metadata": {},
   "outputs": [],
   "source": [
    "\n",
    "\n",
    "train_data_gen = train_img_gen.flow(\n",
    "    features_train, \n",
    "    label_train,\n",
    "    batch_size=batch_size)\n"
   ]
  },
  {
   "cell_type": "code",
   "execution_count": 60,
   "metadata": {},
   "outputs": [],
   "source": [
    "val_data_gen = train_img_gen.flow(\n",
    "    features_test, \n",
    "    label_test,\n",
    "    batch_size=batch_size)\n"
   ]
  },
  {
   "cell_type": "code",
   "execution_count": null,
   "metadata": {},
   "outputs": [],
   "source": [
    "\n"
   ]
  },
  {
   "cell_type": "code",
   "execution_count": 61,
   "metadata": {},
   "outputs": [],
   "source": [
    "np.random.seed(8)\n",
    "tf.random.set_seed(8)\n"
   ]
  },
  {
   "cell_type": "code",
   "execution_count": 66,
   "metadata": {},
   "outputs": [],
   "source": [
    "model = tf.keras.Sequential()\n",
    "model.add(layers.Conv2D(64,(3,3),activation=\"relu\",input_shape=(32,32,3)))\n",
    "model.add(layers.MaxPooling2D())\n",
    "model.add(layers.Conv2D(128,(3,3),activation=\"relu\",input_shape=(32,32,3)))\n",
    "model.add(layers.MaxPooling2D())\n",
    "model.add(layers.Conv2D(128,(3,3),activation=\"relu\",input_shape=(32,32,3)))\n",
    "model.add(layers.Flatten())\n",
    "model.add(layers.Dense(128,activation=\"relu\"))\n",
    "model.add(layers.Dense(10,activation=\"softmax\"))\n"
   ]
  },
  {
   "cell_type": "code",
   "execution_count": 67,
   "metadata": {},
   "outputs": [
    {
     "name": "stdout",
     "output_type": "stream",
     "text": [
      "Model: \"sequential_5\"\n",
      "_________________________________________________________________\n",
      " Layer (type)                Output Shape              Param #   \n",
      "=================================================================\n",
      " conv2d_10 (Conv2D)          (None, 30, 30, 64)        1792      \n",
      "                                                                 \n",
      " max_pooling2d_5 (MaxPooling  (None, 15, 15, 64)       0         \n",
      " 2D)                                                             \n",
      "                                                                 \n",
      " conv2d_11 (Conv2D)          (None, 13, 13, 128)       73856     \n",
      "                                                                 \n",
      " max_pooling2d_6 (MaxPooling  (None, 6, 6, 128)        0         \n",
      " 2D)                                                             \n",
      "                                                                 \n",
      " conv2d_12 (Conv2D)          (None, 4, 4, 128)         147584    \n",
      "                                                                 \n",
      " flatten (Flatten)           (None, 2048)              0         \n",
      "                                                                 \n",
      " dense_4 (Dense)             (None, 128)               262272    \n",
      "                                                                 \n",
      " dense_5 (Dense)             (None, 10)                1290      \n",
      "                                                                 \n",
      "=================================================================\n",
      "Total params: 486,794\n",
      "Trainable params: 486,794\n",
      "Non-trainable params: 0\n",
      "_________________________________________________________________\n"
     ]
    }
   ],
   "source": [
    "model.summary()"
   ]
  },
  {
   "cell_type": "code",
   "execution_count": 68,
   "metadata": {},
   "outputs": [],
   "source": [
    "optimizer = tf.keras.optimizers.Adam(0.001)"
   ]
  },
  {
   "cell_type": "code",
   "execution_count": 69,
   "metadata": {},
   "outputs": [],
   "source": [
    "model.compile(loss = 'sparse_categorical_crossentropy', optimizer=optimizer, metrics=['accuracy'])"
   ]
  },
  {
   "cell_type": "code",
   "execution_count": 70,
   "metadata": {},
   "outputs": [],
   "source": [
    "from tensorflow.keras.callbacks import EarlyStopping, ModelCheckpoint, Callback, CSVLogger\n",
    "\n",
    "filepath = \"weights-improvement-{epoch:02d}-{val_accuracy:.2f}.h5\"\n",
    "checkpoint = ModelCheckpoint(filepath, monitor = 'val_accuracy', save_best_only = True, mode=\"max\")\n",
    "early_stop = EarlyStopping(monitor='val_loss', patience=3)\n",
    "\n",
    "callbacks_list = [checkpoint, early_stop]\n"
   ]
  },
  {
   "cell_type": "code",
   "execution_count": 76,
   "metadata": {},
   "outputs": [],
   "source": [
    "csv_logger = CSVLogger('training.csv')\n"
   ]
  },
  {
   "cell_type": "code",
   "execution_count": 79,
   "metadata": {},
   "outputs": [
    {
     "name": "stdout",
     "output_type": "stream",
     "text": [
      "Epoch 1/10\n",
      "3125/3125 [==============================] - 137s 44ms/step - loss: 0.7718 - accuracy: 0.1015 - val_loss: 0.8211 - val_accuracy: 0.1049\n",
      "Epoch 2/10\n",
      "3125/3125 [==============================] - 133s 42ms/step - loss: 0.7522 - accuracy: 0.0998 - val_loss: 0.8616 - val_accuracy: 0.1051\n",
      "Epoch 3/10\n",
      "3125/3125 [==============================] - 4947s 2s/step - loss: 0.7438 - accuracy: 0.1010 - val_loss: 0.8516 - val_accuracy: 0.0951\n",
      "Epoch 4/10\n",
      "3125/3125 [==============================] - 132s 42ms/step - loss: 0.7324 - accuracy: 0.1010 - val_loss: 0.8798 - val_accuracy: 0.0948\n",
      "Epoch 5/10\n",
      "3125/3125 [==============================] - 129s 41ms/step - loss: 0.7206 - accuracy: 0.1010 - val_loss: 0.8136 - val_accuracy: 0.1014\n",
      "Epoch 6/10\n",
      "3125/3125 [==============================] - 127s 41ms/step - loss: 0.7110 - accuracy: 0.1007 - val_loss: 0.8019 - val_accuracy: 0.0956\n",
      "Epoch 7/10\n",
      "3125/3125 [==============================] - 130s 42ms/step - loss: 0.7035 - accuracy: 0.1014 - val_loss: 0.7850 - val_accuracy: 0.1129\n",
      "Epoch 8/10\n",
      "3125/3125 [==============================] - 129s 41ms/step - loss: 0.6948 - accuracy: 0.1006 - val_loss: 0.7826 - val_accuracy: 0.1143\n",
      "Epoch 9/10\n",
      "3125/3125 [==============================] - 128s 41ms/step - loss: 0.6829 - accuracy: 0.1015 - val_loss: 0.7649 - val_accuracy: 0.1005\n",
      "Epoch 10/10\n",
      " 241/3125 [=>............................] - ETA: 1:46 - loss: 0.6593 - accuracy: 0.0991"
     ]
    }
   ],
   "source": [
    "model.fit(\n",
    "    train_data_gen,\n",
    "    steps_per_epoch=len(features_train) // batch_size,\n",
    "    epochs = 10,\n",
    "    validation_data=val_data_gen,\n",
    "    validation_steps=len(features_test) // batch_size,\n",
    "    callbacks = csv_logger,\n",
    "    # callbacks=[csv_logger]\n",
    "    )\n",
    "\n"
   ]
  },
  {
   "cell_type": "code",
   "execution_count": 72,
   "metadata": {},
   "outputs": [
    {
     "name": "stdout",
     "output_type": "stream",
     "text": [
      "1563/1563 [==============================] - 121s 77ms/step - loss: 3.4188 - accuracy: 0.0024\n"
     ]
    },
    {
     "data": {
      "text/plain": [
       "<keras.callbacks.History at 0x1e420216a60>"
      ]
     },
     "execution_count": 72,
     "metadata": {},
     "output_type": "execute_result"
    }
   ],
   "source": []
  },
  {
   "cell_type": "code",
   "execution_count": null,
   "metadata": {},
   "outputs": [],
   "source": []
  }
 ],
 "metadata": {
  "kernelspec": {
   "display_name": "Python 3.9.7 ('base')",
   "language": "python",
   "name": "python3"
  },
  "language_info": {
   "codemirror_mode": {
    "name": "ipython",
    "version": 3
   },
   "file_extension": ".py",
   "mimetype": "text/x-python",
   "name": "python",
   "nbconvert_exporter": "python",
   "pygments_lexer": "ipython3",
   "version": "3.9.7"
  },
  "orig_nbformat": 4,
  "vscode": {
   "interpreter": {
    "hash": "ad2bdc8ecc057115af97d19610ffacc2b4e99fae6737bb82f5d7fb13d2f2c186"
   }
  }
 },
 "nbformat": 4,
 "nbformat_minor": 2
}
