{
 "cells": [
  {
   "cell_type": "code",
   "execution_count": 1,
   "metadata": {
    "id": "eI80Y0YWbHvL"
   },
   "outputs": [],
   "source": [
    "from glob import glob\n",
    "import pandas as pd\n",
    "import matplotlib.pyplot as plt\n",
    "import numpy as np"
   ]
  },
  {
   "cell_type": "markdown",
   "metadata": {
    "id": "ZLQLQohQbYQh"
   },
   "source": [
    "Use glob() to list all files"
   ]
  },
  {
   "cell_type": "code",
   "execution_count": 2,
   "metadata": {
    "colab": {
     "base_uri": "https://localhost:8080/"
    },
    "id": "1mJDRlD2bg2W",
    "outputId": "d7bf8089-dcce-4b1f-c881-4012bfca2d6f"
   },
   "outputs": [
    {
     "name": "stdout",
     "output_type": "stream",
     "text": [
      "File names:  ['NewData.xlsx']\n"
     ]
    }
   ],
   "source": [
    "filenames = glob(\"*.xlsx\")\n",
    "print('File names: ',filenames)\n"
   ]
  },
  {
   "cell_type": "code",
   "execution_count": 4,
   "metadata": {
    "colab": {
     "base_uri": "https://localhost:8080/"
    },
    "id": "AmtHYawpkHwz",
    "outputId": "78ece915-1849-456a-e77f-b3264cd00812"
   },
   "outputs": [
    {
     "data": {
      "text/plain": [
       "(19877, 12)"
      ]
     },
     "execution_count": 4,
     "metadata": {},
     "output_type": "execute_result"
    }
   ],
   "source": [
    "data = pd.concat([pd.read_excel(file) for file in filenames])\n",
    "data.shape"
   ]
  },
  {
   "cell_type": "code",
   "execution_count": 5,
   "metadata": {
    "colab": {
     "base_uri": "https://localhost:8080/"
    },
    "id": "W1wZgigcjlDA",
    "outputId": "3e4879b9-e4d8-4832-ab89-bcd20a5e00a9"
   },
   "outputs": [
    {
     "data": {
      "text/plain": [
       "Index(['Unnamed: 0', 'NAME', 'GENDER', 'YEAR', 'STREAM', 'RESULT', 'ENG',\n",
       "       'DZO', 'PHY', 'CHE', 'MATH', 'BIO'],\n",
       "      dtype='object')"
      ]
     },
     "execution_count": 5,
     "metadata": {},
     "output_type": "execute_result"
    }
   ],
   "source": [
    "data.columns\n"
   ]
  },
  {
   "cell_type": "code",
   "execution_count": 8,
   "metadata": {
    "colab": {
     "base_uri": "https://localhost:8080/",
     "height": 206
    },
    "id": "G5JlqbsuMwdV",
    "outputId": "50facb94-1393-4708-fbbe-95311a479a1d"
   },
   "outputs": [
    {
     "data": {
      "text/html": [
       "<div>\n",
       "<style scoped>\n",
       "    .dataframe tbody tr th:only-of-type {\n",
       "        vertical-align: middle;\n",
       "    }\n",
       "\n",
       "    .dataframe tbody tr th {\n",
       "        vertical-align: top;\n",
       "    }\n",
       "\n",
       "    .dataframe thead th {\n",
       "        text-align: right;\n",
       "    }\n",
       "</style>\n",
       "<table border=\"1\" class=\"dataframe\">\n",
       "  <thead>\n",
       "    <tr style=\"text-align: right;\">\n",
       "      <th></th>\n",
       "      <th>NAME</th>\n",
       "      <th>GENDER</th>\n",
       "      <th>YEAR</th>\n",
       "      <th>STREAM</th>\n",
       "      <th>RESULT</th>\n",
       "      <th>ENG</th>\n",
       "      <th>DZO</th>\n",
       "      <th>PHY</th>\n",
       "      <th>CHE</th>\n",
       "      <th>MATH</th>\n",
       "      <th>BIO</th>\n",
       "    </tr>\n",
       "  </thead>\n",
       "  <tbody>\n",
       "    <tr>\n",
       "      <th>0</th>\n",
       "      <td>BHUDHIMAN KAMI</td>\n",
       "      <td>M</td>\n",
       "      <td>2012</td>\n",
       "      <td>SCIENCE</td>\n",
       "      <td>PCA</td>\n",
       "      <td>55.0</td>\n",
       "      <td>58.0</td>\n",
       "      <td>48.0</td>\n",
       "      <td>55.0</td>\n",
       "      <td>30.0</td>\n",
       "      <td>46.0</td>\n",
       "    </tr>\n",
       "    <tr>\n",
       "      <th>1</th>\n",
       "      <td>GALEY ZANGPO</td>\n",
       "      <td>M</td>\n",
       "      <td>2012</td>\n",
       "      <td>SCIENCE</td>\n",
       "      <td>PCA</td>\n",
       "      <td>55.0</td>\n",
       "      <td>60.0</td>\n",
       "      <td>44.0</td>\n",
       "      <td>62.0</td>\n",
       "      <td>40.0</td>\n",
       "      <td>50.0</td>\n",
       "    </tr>\n",
       "    <tr>\n",
       "      <th>2</th>\n",
       "      <td>JAMYANG LHENDUP GAYLLEY</td>\n",
       "      <td>M</td>\n",
       "      <td>2012</td>\n",
       "      <td>SCIENCE</td>\n",
       "      <td>PCA</td>\n",
       "      <td>69.0</td>\n",
       "      <td>55.0</td>\n",
       "      <td>74.0</td>\n",
       "      <td>74.0</td>\n",
       "      <td>60.0</td>\n",
       "      <td>62.0</td>\n",
       "    </tr>\n",
       "    <tr>\n",
       "      <th>3</th>\n",
       "      <td>JIGME SAMDRUP</td>\n",
       "      <td>M</td>\n",
       "      <td>2012</td>\n",
       "      <td>SCIENCE</td>\n",
       "      <td>PCA</td>\n",
       "      <td>58.0</td>\n",
       "      <td>48.0</td>\n",
       "      <td>55.0</td>\n",
       "      <td>72.0</td>\n",
       "      <td>74.0</td>\n",
       "      <td>NaN</td>\n",
       "    </tr>\n",
       "    <tr>\n",
       "      <th>4</th>\n",
       "      <td>KARMA GYELTSHEN</td>\n",
       "      <td>M</td>\n",
       "      <td>2012</td>\n",
       "      <td>SCIENCE</td>\n",
       "      <td>PCA</td>\n",
       "      <td>64.0</td>\n",
       "      <td>58.0</td>\n",
       "      <td>55.0</td>\n",
       "      <td>60.0</td>\n",
       "      <td>60.0</td>\n",
       "      <td>34.0</td>\n",
       "    </tr>\n",
       "  </tbody>\n",
       "</table>\n",
       "</div>"
      ],
      "text/plain": [
       "                      NAME GENDER  YEAR   STREAM RESULT   ENG   DZO   PHY  \\\n",
       "0           BHUDHIMAN KAMI      M  2012  SCIENCE    PCA  55.0  58.0  48.0   \n",
       "1             GALEY ZANGPO      M  2012  SCIENCE    PCA  55.0  60.0  44.0   \n",
       "2  JAMYANG LHENDUP GAYLLEY      M  2012  SCIENCE    PCA  69.0  55.0  74.0   \n",
       "3            JIGME SAMDRUP      M  2012  SCIENCE    PCA  58.0  48.0  55.0   \n",
       "4          KARMA GYELTSHEN      M  2012  SCIENCE    PCA  64.0  58.0  55.0   \n",
       "\n",
       "    CHE  MATH   BIO  \n",
       "0  55.0  30.0  46.0  \n",
       "1  62.0  40.0  50.0  \n",
       "2  74.0  60.0  62.0  \n",
       "3  72.0  74.0   NaN  \n",
       "4  60.0  60.0  34.0  "
      ]
     },
     "execution_count": 8,
     "metadata": {},
     "output_type": "execute_result"
    }
   ],
   "source": [
    "df=data[['NAME', 'GENDER','YEAR','STREAM','RESULT','ENG','DZO','PHY','CHE','MATH','BIO']]\n",
    "df.head()"
   ]
  },
  {
   "cell_type": "code",
   "execution_count": 31,
   "metadata": {},
   "outputs": [],
   "source": [
    "df.drop(['NAME'],axis = 1, inplace = True)"
   ]
  },
  {
   "cell_type": "code",
   "execution_count": null,
   "metadata": {},
   "outputs": [],
   "source": []
  },
  {
   "cell_type": "code",
   "execution_count": 32,
   "metadata": {
    "colab": {
     "base_uri": "https://localhost:8080/"
    },
    "id": "yWPjSs6Zu6sm",
    "outputId": "9727dcf6-afd0-4a13-ec24-855552dbbf57"
   },
   "outputs": [
    {
     "data": {
      "text/plain": [
       "0        2012\n",
       "1        2012\n",
       "2        2012\n",
       "3        2012\n",
       "4        2012\n",
       "         ... \n",
       "19872    2018\n",
       "19873    2018\n",
       "19874    2018\n",
       "19875    2018\n",
       "19876    2018\n",
       "Name: YEAR, Length: 19877, dtype: int32"
      ]
     },
     "execution_count": 32,
     "metadata": {},
     "output_type": "execute_result"
    }
   ],
   "source": [
    "df.YEAR.astype(int)"
   ]
  },
  {
   "cell_type": "code",
   "execution_count": 33,
   "metadata": {
    "colab": {
     "base_uri": "https://localhost:8080/"
    },
    "id": "DBubnTn5yza0",
    "outputId": "23fa3bba-75d2-4571-e949-26f8dcbed13d"
   },
   "outputs": [
    {
     "data": {
      "text/plain": [
       "GENDER     object\n",
       "YEAR        int64\n",
       "STREAM     object\n",
       "RESULT     object\n",
       "ENG       float64\n",
       "DZO       float64\n",
       "PHY       float64\n",
       "CHE       float64\n",
       "MATH      float64\n",
       "BIO       float64\n",
       "dtype: object"
      ]
     },
     "execution_count": 33,
     "metadata": {},
     "output_type": "execute_result"
    }
   ],
   "source": [
    "df.dtypes"
   ]
  },
  {
   "cell_type": "code",
   "execution_count": 34,
   "metadata": {
    "id": "Hwu5__VLNK3z"
   },
   "outputs": [],
   "source": [
    "df = df.groupby('STREAM')"
   ]
  },
  {
   "cell_type": "code",
   "execution_count": 35,
   "metadata": {
    "colab": {
     "base_uri": "https://localhost:8080/"
    },
    "id": "fgZYplhpNRTr",
    "outputId": "6c5f7ea2-f166-4e75-e6d5-915d2089b834"
   },
   "outputs": [
    {
     "data": {
      "text/plain": [
       "(19877, 10)"
      ]
     },
     "execution_count": 35,
     "metadata": {},
     "output_type": "execute_result"
    }
   ],
   "source": [
    "df = df.get_group('SCIENCE')\n",
    "df.shape"
   ]
  },
  {
   "cell_type": "code",
   "execution_count": 36,
   "metadata": {
    "colab": {
     "base_uri": "https://localhost:8080/",
     "height": 206
    },
    "id": "F-iLLrtnNpZK",
    "outputId": "7fa843ab-cd55-4cb4-d0ab-57319106de68"
   },
   "outputs": [
    {
     "data": {
      "text/html": [
       "<div>\n",
       "<style scoped>\n",
       "    .dataframe tbody tr th:only-of-type {\n",
       "        vertical-align: middle;\n",
       "    }\n",
       "\n",
       "    .dataframe tbody tr th {\n",
       "        vertical-align: top;\n",
       "    }\n",
       "\n",
       "    .dataframe thead th {\n",
       "        text-align: right;\n",
       "    }\n",
       "</style>\n",
       "<table border=\"1\" class=\"dataframe\">\n",
       "  <thead>\n",
       "    <tr style=\"text-align: right;\">\n",
       "      <th></th>\n",
       "      <th>GENDER</th>\n",
       "      <th>YEAR</th>\n",
       "      <th>STREAM</th>\n",
       "      <th>RESULT</th>\n",
       "      <th>ENG</th>\n",
       "      <th>DZO</th>\n",
       "      <th>PHY</th>\n",
       "      <th>CHE</th>\n",
       "      <th>MATH</th>\n",
       "      <th>BIO</th>\n",
       "    </tr>\n",
       "  </thead>\n",
       "  <tbody>\n",
       "    <tr>\n",
       "      <th>0</th>\n",
       "      <td>M</td>\n",
       "      <td>2012</td>\n",
       "      <td>SCIENCE</td>\n",
       "      <td>PCA</td>\n",
       "      <td>55.0</td>\n",
       "      <td>58.0</td>\n",
       "      <td>48.0</td>\n",
       "      <td>55.0</td>\n",
       "      <td>30.0</td>\n",
       "      <td>46.0</td>\n",
       "    </tr>\n",
       "    <tr>\n",
       "      <th>1</th>\n",
       "      <td>M</td>\n",
       "      <td>2012</td>\n",
       "      <td>SCIENCE</td>\n",
       "      <td>PCA</td>\n",
       "      <td>55.0</td>\n",
       "      <td>60.0</td>\n",
       "      <td>44.0</td>\n",
       "      <td>62.0</td>\n",
       "      <td>40.0</td>\n",
       "      <td>50.0</td>\n",
       "    </tr>\n",
       "    <tr>\n",
       "      <th>2</th>\n",
       "      <td>M</td>\n",
       "      <td>2012</td>\n",
       "      <td>SCIENCE</td>\n",
       "      <td>PCA</td>\n",
       "      <td>69.0</td>\n",
       "      <td>55.0</td>\n",
       "      <td>74.0</td>\n",
       "      <td>74.0</td>\n",
       "      <td>60.0</td>\n",
       "      <td>62.0</td>\n",
       "    </tr>\n",
       "    <tr>\n",
       "      <th>3</th>\n",
       "      <td>M</td>\n",
       "      <td>2012</td>\n",
       "      <td>SCIENCE</td>\n",
       "      <td>PCA</td>\n",
       "      <td>58.0</td>\n",
       "      <td>48.0</td>\n",
       "      <td>55.0</td>\n",
       "      <td>72.0</td>\n",
       "      <td>74.0</td>\n",
       "      <td>NaN</td>\n",
       "    </tr>\n",
       "    <tr>\n",
       "      <th>4</th>\n",
       "      <td>M</td>\n",
       "      <td>2012</td>\n",
       "      <td>SCIENCE</td>\n",
       "      <td>PCA</td>\n",
       "      <td>64.0</td>\n",
       "      <td>58.0</td>\n",
       "      <td>55.0</td>\n",
       "      <td>60.0</td>\n",
       "      <td>60.0</td>\n",
       "      <td>34.0</td>\n",
       "    </tr>\n",
       "  </tbody>\n",
       "</table>\n",
       "</div>"
      ],
      "text/plain": [
       "  GENDER  YEAR   STREAM RESULT   ENG   DZO   PHY   CHE  MATH   BIO\n",
       "0      M  2012  SCIENCE    PCA  55.0  58.0  48.0  55.0  30.0  46.0\n",
       "1      M  2012  SCIENCE    PCA  55.0  60.0  44.0  62.0  40.0  50.0\n",
       "2      M  2012  SCIENCE    PCA  69.0  55.0  74.0  74.0  60.0  62.0\n",
       "3      M  2012  SCIENCE    PCA  58.0  48.0  55.0  72.0  74.0   NaN\n",
       "4      M  2012  SCIENCE    PCA  64.0  58.0  55.0  60.0  60.0  34.0"
      ]
     },
     "execution_count": 36,
     "metadata": {},
     "output_type": "execute_result"
    }
   ],
   "source": [
    "df.head()"
   ]
  },
  {
   "cell_type": "markdown",
   "metadata": {
    "id": "6FAdSlbishoY"
   },
   "source": [
    "Renaming the columns"
   ]
  },
  {
   "cell_type": "markdown",
   "metadata": {
    "id": "OYs3Tkx7sm-4"
   },
   "source": [
    "Dropping the extra columns"
   ]
  },
  {
   "cell_type": "code",
   "execution_count": 420,
   "metadata": {
    "colab": {
     "base_uri": "https://localhost:8080/",
     "height": 423
    },
    "id": "rM3D2qCHvlxt",
    "outputId": "c81bbb1b-a83c-4de4-8a29-3857dd38d36b"
   },
   "outputs": [
    {
     "data": {
      "text/html": [
       "\n",
       "  <div id=\"df-93745917-0e76-4f32-b4ab-419a1d2264c6\">\n",
       "    <div class=\"colab-df-container\">\n",
       "      <div>\n",
       "<style scoped>\n",
       "    .dataframe tbody tr th:only-of-type {\n",
       "        vertical-align: middle;\n",
       "    }\n",
       "\n",
       "    .dataframe tbody tr th {\n",
       "        vertical-align: top;\n",
       "    }\n",
       "\n",
       "    .dataframe thead th {\n",
       "        text-align: right;\n",
       "    }\n",
       "</style>\n",
       "<table border=\"1\" class=\"dataframe\">\n",
       "  <thead>\n",
       "    <tr style=\"text-align: right;\">\n",
       "      <th></th>\n",
       "      <th>NAME</th>\n",
       "      <th>GENDER</th>\n",
       "      <th>YEAR</th>\n",
       "      <th>STREAM</th>\n",
       "      <th>RESULT</th>\n",
       "      <th>ENG</th>\n",
       "      <th>DZO</th>\n",
       "      <th>PHY</th>\n",
       "      <th>CHE</th>\n",
       "      <th>MATH</th>\n",
       "      <th>BIO</th>\n",
       "    </tr>\n",
       "  </thead>\n",
       "  <tbody>\n",
       "    <tr>\n",
       "      <th>0</th>\n",
       "      <td>NGAWANG TENZIN</td>\n",
       "      <td>M</td>\n",
       "      <td>2018</td>\n",
       "      <td>SCIENCE</td>\n",
       "      <td>PCA</td>\n",
       "      <td>66.0</td>\n",
       "      <td>57.0</td>\n",
       "      <td>55.0</td>\n",
       "      <td>42.0</td>\n",
       "      <td>43.0</td>\n",
       "      <td>49.0</td>\n",
       "    </tr>\n",
       "    <tr>\n",
       "      <th>1</th>\n",
       "      <td>SONAM LODAY CHEYNOR</td>\n",
       "      <td>M</td>\n",
       "      <td>2018</td>\n",
       "      <td>SCIENCE</td>\n",
       "      <td>PCA</td>\n",
       "      <td>74.0</td>\n",
       "      <td>57.0</td>\n",
       "      <td>64.0</td>\n",
       "      <td>49.0</td>\n",
       "      <td>40.0</td>\n",
       "      <td>49.0</td>\n",
       "    </tr>\n",
       "    <tr>\n",
       "      <th>2</th>\n",
       "      <td>SRAWAN PRADHAN</td>\n",
       "      <td>M</td>\n",
       "      <td>2018</td>\n",
       "      <td>SCIENCE</td>\n",
       "      <td>PCA</td>\n",
       "      <td>75.0</td>\n",
       "      <td>57.0</td>\n",
       "      <td>86.0</td>\n",
       "      <td>64.0</td>\n",
       "      <td>91.0</td>\n",
       "      <td>NaN</td>\n",
       "    </tr>\n",
       "    <tr>\n",
       "      <th>3</th>\n",
       "      <td>TANDIN TSHEWANG</td>\n",
       "      <td>M</td>\n",
       "      <td>2018</td>\n",
       "      <td>SCIENCE</td>\n",
       "      <td>PCA</td>\n",
       "      <td>45.0</td>\n",
       "      <td>42.0</td>\n",
       "      <td>44.0</td>\n",
       "      <td>37.0</td>\n",
       "      <td>43.0</td>\n",
       "      <td>NaN</td>\n",
       "    </tr>\n",
       "    <tr>\n",
       "      <th>4</th>\n",
       "      <td>TASHI TOBGAY</td>\n",
       "      <td>M</td>\n",
       "      <td>2018</td>\n",
       "      <td>SCIENCE</td>\n",
       "      <td>PCA</td>\n",
       "      <td>57.0</td>\n",
       "      <td>62.0</td>\n",
       "      <td>59.0</td>\n",
       "      <td>41.0</td>\n",
       "      <td>50.0</td>\n",
       "      <td>64.0</td>\n",
       "    </tr>\n",
       "    <tr>\n",
       "      <th>...</th>\n",
       "      <td>...</td>\n",
       "      <td>...</td>\n",
       "      <td>...</td>\n",
       "      <td>...</td>\n",
       "      <td>...</td>\n",
       "      <td>...</td>\n",
       "      <td>...</td>\n",
       "      <td>...</td>\n",
       "      <td>...</td>\n",
       "      <td>...</td>\n",
       "      <td>...</td>\n",
       "    </tr>\n",
       "    <tr>\n",
       "      <th>10044</th>\n",
       "      <td>SONAM WANGMO</td>\n",
       "      <td>F</td>\n",
       "      <td>2017</td>\n",
       "      <td>SCIENCE</td>\n",
       "      <td>PCA</td>\n",
       "      <td>64.0</td>\n",
       "      <td>78.0</td>\n",
       "      <td>49.0</td>\n",
       "      <td>53.0</td>\n",
       "      <td>33.0</td>\n",
       "      <td>50.0</td>\n",
       "    </tr>\n",
       "    <tr>\n",
       "      <th>10045</th>\n",
       "      <td>TSHERING DENDUP</td>\n",
       "      <td>M</td>\n",
       "      <td>2017</td>\n",
       "      <td>SCIENCE</td>\n",
       "      <td>PCA</td>\n",
       "      <td>64.0</td>\n",
       "      <td>67.0</td>\n",
       "      <td>63.0</td>\n",
       "      <td>62.0</td>\n",
       "      <td>58.0</td>\n",
       "      <td>NaN</td>\n",
       "    </tr>\n",
       "    <tr>\n",
       "      <th>10046</th>\n",
       "      <td>KARMA YANGZOM</td>\n",
       "      <td>F</td>\n",
       "      <td>2017</td>\n",
       "      <td>SCIENCE</td>\n",
       "      <td>PCA</td>\n",
       "      <td>60.0</td>\n",
       "      <td>71.0</td>\n",
       "      <td>62.0</td>\n",
       "      <td>63.0</td>\n",
       "      <td>30.0</td>\n",
       "      <td>58.0</td>\n",
       "    </tr>\n",
       "    <tr>\n",
       "      <th>10047</th>\n",
       "      <td>KUENZANG DORJI</td>\n",
       "      <td>M</td>\n",
       "      <td>2017</td>\n",
       "      <td>SCIENCE</td>\n",
       "      <td>PCA</td>\n",
       "      <td>40.0</td>\n",
       "      <td>52.0</td>\n",
       "      <td>46.0</td>\n",
       "      <td>42.0</td>\n",
       "      <td>25.0</td>\n",
       "      <td>NaN</td>\n",
       "    </tr>\n",
       "    <tr>\n",
       "      <th>10179</th>\n",
       "      <td>KEWAL RAM SUBEDI</td>\n",
       "      <td>M</td>\n",
       "      <td>2017</td>\n",
       "      <td>SCIENCE</td>\n",
       "      <td>PCA</td>\n",
       "      <td>49.0</td>\n",
       "      <td>50.0</td>\n",
       "      <td>72.0</td>\n",
       "      <td>61.0</td>\n",
       "      <td>76.0</td>\n",
       "      <td>NaN</td>\n",
       "    </tr>\n",
       "  </tbody>\n",
       "</table>\n",
       "<p>19863 rows × 11 columns</p>\n",
       "</div>\n",
       "      <button class=\"colab-df-convert\" onclick=\"convertToInteractive('df-93745917-0e76-4f32-b4ab-419a1d2264c6')\"\n",
       "              title=\"Convert this dataframe to an interactive table.\"\n",
       "              style=\"display:none;\">\n",
       "        \n",
       "  <svg xmlns=\"http://www.w3.org/2000/svg\" height=\"24px\"viewBox=\"0 0 24 24\"\n",
       "       width=\"24px\">\n",
       "    <path d=\"M0 0h24v24H0V0z\" fill=\"none\"/>\n",
       "    <path d=\"M18.56 5.44l.94 2.06.94-2.06 2.06-.94-2.06-.94-.94-2.06-.94 2.06-2.06.94zm-11 1L8.5 8.5l.94-2.06 2.06-.94-2.06-.94L8.5 2.5l-.94 2.06-2.06.94zm10 10l.94 2.06.94-2.06 2.06-.94-2.06-.94-.94-2.06-.94 2.06-2.06.94z\"/><path d=\"M17.41 7.96l-1.37-1.37c-.4-.4-.92-.59-1.43-.59-.52 0-1.04.2-1.43.59L10.3 9.45l-7.72 7.72c-.78.78-.78 2.05 0 2.83L4 21.41c.39.39.9.59 1.41.59.51 0 1.02-.2 1.41-.59l7.78-7.78 2.81-2.81c.8-.78.8-2.07 0-2.86zM5.41 20L4 18.59l7.72-7.72 1.47 1.35L5.41 20z\"/>\n",
       "  </svg>\n",
       "      </button>\n",
       "      \n",
       "  <style>\n",
       "    .colab-df-container {\n",
       "      display:flex;\n",
       "      flex-wrap:wrap;\n",
       "      gap: 12px;\n",
       "    }\n",
       "\n",
       "    .colab-df-convert {\n",
       "      background-color: #E8F0FE;\n",
       "      border: none;\n",
       "      border-radius: 50%;\n",
       "      cursor: pointer;\n",
       "      display: none;\n",
       "      fill: #1967D2;\n",
       "      height: 32px;\n",
       "      padding: 0 0 0 0;\n",
       "      width: 32px;\n",
       "    }\n",
       "\n",
       "    .colab-df-convert:hover {\n",
       "      background-color: #E2EBFA;\n",
       "      box-shadow: 0px 1px 2px rgba(60, 64, 67, 0.3), 0px 1px 3px 1px rgba(60, 64, 67, 0.15);\n",
       "      fill: #174EA6;\n",
       "    }\n",
       "\n",
       "    [theme=dark] .colab-df-convert {\n",
       "      background-color: #3B4455;\n",
       "      fill: #D2E3FC;\n",
       "    }\n",
       "\n",
       "    [theme=dark] .colab-df-convert:hover {\n",
       "      background-color: #434B5C;\n",
       "      box-shadow: 0px 1px 3px 1px rgba(0, 0, 0, 0.15);\n",
       "      filter: drop-shadow(0px 1px 2px rgba(0, 0, 0, 0.3));\n",
       "      fill: #FFFFFF;\n",
       "    }\n",
       "  </style>\n",
       "\n",
       "      <script>\n",
       "        const buttonEl =\n",
       "          document.querySelector('#df-93745917-0e76-4f32-b4ab-419a1d2264c6 button.colab-df-convert');\n",
       "        buttonEl.style.display =\n",
       "          google.colab.kernel.accessAllowed ? 'block' : 'none';\n",
       "\n",
       "        async function convertToInteractive(key) {\n",
       "          const element = document.querySelector('#df-93745917-0e76-4f32-b4ab-419a1d2264c6');\n",
       "          const dataTable =\n",
       "            await google.colab.kernel.invokeFunction('convertToInteractive',\n",
       "                                                     [key], {});\n",
       "          if (!dataTable) return;\n",
       "\n",
       "          const docLinkHtml = 'Like what you see? Visit the ' +\n",
       "            '<a target=\"_blank\" href=https://colab.research.google.com/notebooks/data_table.ipynb>data table notebook</a>'\n",
       "            + ' to learn more about interactive tables.';\n",
       "          element.innerHTML = '';\n",
       "          dataTable['output_type'] = 'display_data';\n",
       "          await google.colab.output.renderOutput(dataTable, element);\n",
       "          const docLink = document.createElement('div');\n",
       "          docLink.innerHTML = docLinkHtml;\n",
       "          element.appendChild(docLink);\n",
       "        }\n",
       "      </script>\n",
       "    </div>\n",
       "  </div>\n",
       "  "
      ],
      "text/plain": [
       "                      NAME GENDER  YEAR   STREAM RESULT   ENG   DZO   PHY  \\\n",
       "0           NGAWANG TENZIN      M  2018  SCIENCE    PCA  66.0  57.0  55.0   \n",
       "1      SONAM LODAY CHEYNOR      M  2018  SCIENCE    PCA  74.0  57.0  64.0   \n",
       "2           SRAWAN PRADHAN      M  2018  SCIENCE    PCA  75.0  57.0  86.0   \n",
       "3          TANDIN TSHEWANG      M  2018  SCIENCE    PCA  45.0  42.0  44.0   \n",
       "4             TASHI TOBGAY      M  2018  SCIENCE    PCA  57.0  62.0  59.0   \n",
       "...                    ...    ...   ...      ...    ...   ...   ...   ...   \n",
       "10044         SONAM WANGMO      F  2017  SCIENCE    PCA  64.0  78.0  49.0   \n",
       "10045      TSHERING DENDUP      M  2017  SCIENCE    PCA  64.0  67.0  63.0   \n",
       "10046        KARMA YANGZOM      F  2017  SCIENCE    PCA  60.0  71.0  62.0   \n",
       "10047       KUENZANG DORJI      M  2017  SCIENCE    PCA  40.0  52.0  46.0   \n",
       "10179     KEWAL RAM SUBEDI      M  2017  SCIENCE    PCA  49.0  50.0  72.0   \n",
       "\n",
       "        CHE  MATH   BIO  \n",
       "0      42.0  43.0  49.0  \n",
       "1      49.0  40.0  49.0  \n",
       "2      64.0  91.0   NaN  \n",
       "3      37.0  43.0   NaN  \n",
       "4      41.0  50.0  64.0  \n",
       "...     ...   ...   ...  \n",
       "10044  53.0  33.0  50.0  \n",
       "10045  62.0  58.0   NaN  \n",
       "10046  63.0  30.0  58.0  \n",
       "10047  42.0  25.0   NaN  \n",
       "10179  61.0  76.0   NaN  \n",
       "\n",
       "[19863 rows x 11 columns]"
      ]
     },
     "execution_count": 420,
     "metadata": {},
     "output_type": "execute_result"
    }
   ],
   "source": [
    "df.replace(0,np.nan,inplace=True)\n",
    "df"
   ]
  },
  {
   "cell_type": "code",
   "execution_count": 39,
   "metadata": {},
   "outputs": [],
   "source": [
    "# bio bukhan\n",
    "\n",
    "bio_df = df.drop(['MATH'], axis = 1)"
   ]
  },
  {
   "cell_type": "code",
   "execution_count": 40,
   "metadata": {},
   "outputs": [
    {
     "data": {
      "text/html": [
       "<div>\n",
       "<style scoped>\n",
       "    .dataframe tbody tr th:only-of-type {\n",
       "        vertical-align: middle;\n",
       "    }\n",
       "\n",
       "    .dataframe tbody tr th {\n",
       "        vertical-align: top;\n",
       "    }\n",
       "\n",
       "    .dataframe thead th {\n",
       "        text-align: right;\n",
       "    }\n",
       "</style>\n",
       "<table border=\"1\" class=\"dataframe\">\n",
       "  <thead>\n",
       "    <tr style=\"text-align: right;\">\n",
       "      <th></th>\n",
       "      <th>GENDER</th>\n",
       "      <th>YEAR</th>\n",
       "      <th>STREAM</th>\n",
       "      <th>RESULT</th>\n",
       "      <th>ENG</th>\n",
       "      <th>DZO</th>\n",
       "      <th>PHY</th>\n",
       "      <th>CHE</th>\n",
       "      <th>BIO</th>\n",
       "    </tr>\n",
       "  </thead>\n",
       "  <tbody>\n",
       "    <tr>\n",
       "      <th>0</th>\n",
       "      <td>M</td>\n",
       "      <td>2012</td>\n",
       "      <td>SCIENCE</td>\n",
       "      <td>PCA</td>\n",
       "      <td>55.0</td>\n",
       "      <td>58.0</td>\n",
       "      <td>48.0</td>\n",
       "      <td>55.0</td>\n",
       "      <td>46.0</td>\n",
       "    </tr>\n",
       "    <tr>\n",
       "      <th>1</th>\n",
       "      <td>M</td>\n",
       "      <td>2012</td>\n",
       "      <td>SCIENCE</td>\n",
       "      <td>PCA</td>\n",
       "      <td>55.0</td>\n",
       "      <td>60.0</td>\n",
       "      <td>44.0</td>\n",
       "      <td>62.0</td>\n",
       "      <td>50.0</td>\n",
       "    </tr>\n",
       "    <tr>\n",
       "      <th>2</th>\n",
       "      <td>M</td>\n",
       "      <td>2012</td>\n",
       "      <td>SCIENCE</td>\n",
       "      <td>PCA</td>\n",
       "      <td>69.0</td>\n",
       "      <td>55.0</td>\n",
       "      <td>74.0</td>\n",
       "      <td>74.0</td>\n",
       "      <td>62.0</td>\n",
       "    </tr>\n",
       "    <tr>\n",
       "      <th>3</th>\n",
       "      <td>M</td>\n",
       "      <td>2012</td>\n",
       "      <td>SCIENCE</td>\n",
       "      <td>PCA</td>\n",
       "      <td>58.0</td>\n",
       "      <td>48.0</td>\n",
       "      <td>55.0</td>\n",
       "      <td>72.0</td>\n",
       "      <td>NaN</td>\n",
       "    </tr>\n",
       "    <tr>\n",
       "      <th>4</th>\n",
       "      <td>M</td>\n",
       "      <td>2012</td>\n",
       "      <td>SCIENCE</td>\n",
       "      <td>PCA</td>\n",
       "      <td>64.0</td>\n",
       "      <td>58.0</td>\n",
       "      <td>55.0</td>\n",
       "      <td>60.0</td>\n",
       "      <td>34.0</td>\n",
       "    </tr>\n",
       "    <tr>\n",
       "      <th>...</th>\n",
       "      <td>...</td>\n",
       "      <td>...</td>\n",
       "      <td>...</td>\n",
       "      <td>...</td>\n",
       "      <td>...</td>\n",
       "      <td>...</td>\n",
       "      <td>...</td>\n",
       "      <td>...</td>\n",
       "      <td>...</td>\n",
       "    </tr>\n",
       "    <tr>\n",
       "      <th>19872</th>\n",
       "      <td>M</td>\n",
       "      <td>2018</td>\n",
       "      <td>SCIENCE</td>\n",
       "      <td>PCA</td>\n",
       "      <td>57.0</td>\n",
       "      <td>48.0</td>\n",
       "      <td>76.0</td>\n",
       "      <td>70.0</td>\n",
       "      <td>0.0</td>\n",
       "    </tr>\n",
       "    <tr>\n",
       "      <th>19873</th>\n",
       "      <td>M</td>\n",
       "      <td>2018</td>\n",
       "      <td>SCIENCE</td>\n",
       "      <td>PCA</td>\n",
       "      <td>45.0</td>\n",
       "      <td>40.0</td>\n",
       "      <td>45.0</td>\n",
       "      <td>44.0</td>\n",
       "      <td>0.0</td>\n",
       "    </tr>\n",
       "    <tr>\n",
       "      <th>19874</th>\n",
       "      <td>M</td>\n",
       "      <td>2018</td>\n",
       "      <td>SCIENCE</td>\n",
       "      <td>PCA</td>\n",
       "      <td>51.0</td>\n",
       "      <td>45.0</td>\n",
       "      <td>66.0</td>\n",
       "      <td>55.0</td>\n",
       "      <td>0.0</td>\n",
       "    </tr>\n",
       "    <tr>\n",
       "      <th>19875</th>\n",
       "      <td>M</td>\n",
       "      <td>2018</td>\n",
       "      <td>SCIENCE</td>\n",
       "      <td>PCA</td>\n",
       "      <td>58.0</td>\n",
       "      <td>74.0</td>\n",
       "      <td>55.0</td>\n",
       "      <td>69.0</td>\n",
       "      <td>0.0</td>\n",
       "    </tr>\n",
       "    <tr>\n",
       "      <th>19876</th>\n",
       "      <td>M</td>\n",
       "      <td>2018</td>\n",
       "      <td>SCIENCE</td>\n",
       "      <td>PCA</td>\n",
       "      <td>59.0</td>\n",
       "      <td>60.0</td>\n",
       "      <td>81.0</td>\n",
       "      <td>74.0</td>\n",
       "      <td>0.0</td>\n",
       "    </tr>\n",
       "  </tbody>\n",
       "</table>\n",
       "<p>19877 rows × 9 columns</p>\n",
       "</div>"
      ],
      "text/plain": [
       "      GENDER  YEAR   STREAM RESULT   ENG   DZO   PHY   CHE   BIO\n",
       "0          M  2012  SCIENCE    PCA  55.0  58.0  48.0  55.0  46.0\n",
       "1          M  2012  SCIENCE    PCA  55.0  60.0  44.0  62.0  50.0\n",
       "2          M  2012  SCIENCE    PCA  69.0  55.0  74.0  74.0  62.0\n",
       "3          M  2012  SCIENCE    PCA  58.0  48.0  55.0  72.0   NaN\n",
       "4          M  2012  SCIENCE    PCA  64.0  58.0  55.0  60.0  34.0\n",
       "...      ...   ...      ...    ...   ...   ...   ...   ...   ...\n",
       "19872      M  2018  SCIENCE    PCA  57.0  48.0  76.0  70.0   0.0\n",
       "19873      M  2018  SCIENCE    PCA  45.0  40.0  45.0  44.0   0.0\n",
       "19874      M  2018  SCIENCE    PCA  51.0  45.0  66.0  55.0   0.0\n",
       "19875      M  2018  SCIENCE    PCA  58.0  74.0  55.0  69.0   0.0\n",
       "19876      M  2018  SCIENCE    PCA  59.0  60.0  81.0  74.0   0.0\n",
       "\n",
       "[19877 rows x 9 columns]"
      ]
     },
     "execution_count": 40,
     "metadata": {},
     "output_type": "execute_result"
    }
   ],
   "source": [
    "\n",
    "bio_df"
   ]
  },
  {
   "cell_type": "code",
   "execution_count": 42,
   "metadata": {},
   "outputs": [
    {
     "data": {
      "text/html": [
       "<div>\n",
       "<style scoped>\n",
       "    .dataframe tbody tr th:only-of-type {\n",
       "        vertical-align: middle;\n",
       "    }\n",
       "\n",
       "    .dataframe tbody tr th {\n",
       "        vertical-align: top;\n",
       "    }\n",
       "\n",
       "    .dataframe thead th {\n",
       "        text-align: right;\n",
       "    }\n",
       "</style>\n",
       "<table border=\"1\" class=\"dataframe\">\n",
       "  <thead>\n",
       "    <tr style=\"text-align: right;\">\n",
       "      <th></th>\n",
       "      <th>GENDER</th>\n",
       "      <th>YEAR</th>\n",
       "      <th>STREAM</th>\n",
       "      <th>RESULT</th>\n",
       "      <th>ENG</th>\n",
       "      <th>DZO</th>\n",
       "      <th>PHY</th>\n",
       "      <th>CHE</th>\n",
       "      <th>MATH</th>\n",
       "    </tr>\n",
       "  </thead>\n",
       "  <tbody>\n",
       "    <tr>\n",
       "      <th>0</th>\n",
       "      <td>M</td>\n",
       "      <td>2012</td>\n",
       "      <td>SCIENCE</td>\n",
       "      <td>PCA</td>\n",
       "      <td>55.0</td>\n",
       "      <td>58.0</td>\n",
       "      <td>48.0</td>\n",
       "      <td>55.0</td>\n",
       "      <td>30.0</td>\n",
       "    </tr>\n",
       "    <tr>\n",
       "      <th>1</th>\n",
       "      <td>M</td>\n",
       "      <td>2012</td>\n",
       "      <td>SCIENCE</td>\n",
       "      <td>PCA</td>\n",
       "      <td>55.0</td>\n",
       "      <td>60.0</td>\n",
       "      <td>44.0</td>\n",
       "      <td>62.0</td>\n",
       "      <td>40.0</td>\n",
       "    </tr>\n",
       "    <tr>\n",
       "      <th>2</th>\n",
       "      <td>M</td>\n",
       "      <td>2012</td>\n",
       "      <td>SCIENCE</td>\n",
       "      <td>PCA</td>\n",
       "      <td>69.0</td>\n",
       "      <td>55.0</td>\n",
       "      <td>74.0</td>\n",
       "      <td>74.0</td>\n",
       "      <td>60.0</td>\n",
       "    </tr>\n",
       "    <tr>\n",
       "      <th>3</th>\n",
       "      <td>M</td>\n",
       "      <td>2012</td>\n",
       "      <td>SCIENCE</td>\n",
       "      <td>PCA</td>\n",
       "      <td>58.0</td>\n",
       "      <td>48.0</td>\n",
       "      <td>55.0</td>\n",
       "      <td>72.0</td>\n",
       "      <td>74.0</td>\n",
       "    </tr>\n",
       "    <tr>\n",
       "      <th>4</th>\n",
       "      <td>M</td>\n",
       "      <td>2012</td>\n",
       "      <td>SCIENCE</td>\n",
       "      <td>PCA</td>\n",
       "      <td>64.0</td>\n",
       "      <td>58.0</td>\n",
       "      <td>55.0</td>\n",
       "      <td>60.0</td>\n",
       "      <td>60.0</td>\n",
       "    </tr>\n",
       "    <tr>\n",
       "      <th>...</th>\n",
       "      <td>...</td>\n",
       "      <td>...</td>\n",
       "      <td>...</td>\n",
       "      <td>...</td>\n",
       "      <td>...</td>\n",
       "      <td>...</td>\n",
       "      <td>...</td>\n",
       "      <td>...</td>\n",
       "      <td>...</td>\n",
       "    </tr>\n",
       "    <tr>\n",
       "      <th>19872</th>\n",
       "      <td>M</td>\n",
       "      <td>2018</td>\n",
       "      <td>SCIENCE</td>\n",
       "      <td>PCA</td>\n",
       "      <td>57.0</td>\n",
       "      <td>48.0</td>\n",
       "      <td>76.0</td>\n",
       "      <td>70.0</td>\n",
       "      <td>92.0</td>\n",
       "    </tr>\n",
       "    <tr>\n",
       "      <th>19873</th>\n",
       "      <td>M</td>\n",
       "      <td>2018</td>\n",
       "      <td>SCIENCE</td>\n",
       "      <td>PCA</td>\n",
       "      <td>45.0</td>\n",
       "      <td>40.0</td>\n",
       "      <td>45.0</td>\n",
       "      <td>44.0</td>\n",
       "      <td>59.0</td>\n",
       "    </tr>\n",
       "    <tr>\n",
       "      <th>19874</th>\n",
       "      <td>M</td>\n",
       "      <td>2018</td>\n",
       "      <td>SCIENCE</td>\n",
       "      <td>PCA</td>\n",
       "      <td>51.0</td>\n",
       "      <td>45.0</td>\n",
       "      <td>66.0</td>\n",
       "      <td>55.0</td>\n",
       "      <td>57.0</td>\n",
       "    </tr>\n",
       "    <tr>\n",
       "      <th>19875</th>\n",
       "      <td>M</td>\n",
       "      <td>2018</td>\n",
       "      <td>SCIENCE</td>\n",
       "      <td>PCA</td>\n",
       "      <td>58.0</td>\n",
       "      <td>74.0</td>\n",
       "      <td>55.0</td>\n",
       "      <td>69.0</td>\n",
       "      <td>77.0</td>\n",
       "    </tr>\n",
       "    <tr>\n",
       "      <th>19876</th>\n",
       "      <td>M</td>\n",
       "      <td>2018</td>\n",
       "      <td>SCIENCE</td>\n",
       "      <td>PCA</td>\n",
       "      <td>59.0</td>\n",
       "      <td>60.0</td>\n",
       "      <td>81.0</td>\n",
       "      <td>74.0</td>\n",
       "      <td>92.0</td>\n",
       "    </tr>\n",
       "  </tbody>\n",
       "</table>\n",
       "<p>19877 rows × 9 columns</p>\n",
       "</div>"
      ],
      "text/plain": [
       "      GENDER  YEAR   STREAM RESULT   ENG   DZO   PHY   CHE  MATH\n",
       "0          M  2012  SCIENCE    PCA  55.0  58.0  48.0  55.0  30.0\n",
       "1          M  2012  SCIENCE    PCA  55.0  60.0  44.0  62.0  40.0\n",
       "2          M  2012  SCIENCE    PCA  69.0  55.0  74.0  74.0  60.0\n",
       "3          M  2012  SCIENCE    PCA  58.0  48.0  55.0  72.0  74.0\n",
       "4          M  2012  SCIENCE    PCA  64.0  58.0  55.0  60.0  60.0\n",
       "...      ...   ...      ...    ...   ...   ...   ...   ...   ...\n",
       "19872      M  2018  SCIENCE    PCA  57.0  48.0  76.0  70.0  92.0\n",
       "19873      M  2018  SCIENCE    PCA  45.0  40.0  45.0  44.0  59.0\n",
       "19874      M  2018  SCIENCE    PCA  51.0  45.0  66.0  55.0  57.0\n",
       "19875      M  2018  SCIENCE    PCA  58.0  74.0  55.0  69.0  77.0\n",
       "19876      M  2018  SCIENCE    PCA  59.0  60.0  81.0  74.0  92.0\n",
       "\n",
       "[19877 rows x 9 columns]"
      ]
     },
     "execution_count": 42,
     "metadata": {},
     "output_type": "execute_result"
    }
   ],
   "source": [
    "#math bukahan\n",
    "math_df = df.drop(['BIO'], axis = 1)\n",
    "math_df"
   ]
  },
  {
   "cell_type": "code",
   "execution_count": 43,
   "metadata": {},
   "outputs": [
    {
     "data": {
      "text/html": [
       "<div>\n",
       "<style scoped>\n",
       "    .dataframe tbody tr th:only-of-type {\n",
       "        vertical-align: middle;\n",
       "    }\n",
       "\n",
       "    .dataframe tbody tr th {\n",
       "        vertical-align: top;\n",
       "    }\n",
       "\n",
       "    .dataframe thead th {\n",
       "        text-align: right;\n",
       "    }\n",
       "</style>\n",
       "<table border=\"1\" class=\"dataframe\">\n",
       "  <thead>\n",
       "    <tr style=\"text-align: right;\">\n",
       "      <th></th>\n",
       "      <th>GENDER</th>\n",
       "      <th>YEAR</th>\n",
       "      <th>STREAM</th>\n",
       "      <th>RESULT</th>\n",
       "      <th>ENG</th>\n",
       "      <th>DZO</th>\n",
       "      <th>PHY</th>\n",
       "      <th>CHE</th>\n",
       "      <th>MATH</th>\n",
       "      <th>BIO</th>\n",
       "    </tr>\n",
       "  </thead>\n",
       "  <tbody>\n",
       "    <tr>\n",
       "      <th>0</th>\n",
       "      <td>M</td>\n",
       "      <td>2012</td>\n",
       "      <td>SCIENCE</td>\n",
       "      <td>PCA</td>\n",
       "      <td>55.0</td>\n",
       "      <td>58.0</td>\n",
       "      <td>48.0</td>\n",
       "      <td>55.0</td>\n",
       "      <td>30.0</td>\n",
       "      <td>46.0</td>\n",
       "    </tr>\n",
       "    <tr>\n",
       "      <th>1</th>\n",
       "      <td>M</td>\n",
       "      <td>2012</td>\n",
       "      <td>SCIENCE</td>\n",
       "      <td>PCA</td>\n",
       "      <td>55.0</td>\n",
       "      <td>60.0</td>\n",
       "      <td>44.0</td>\n",
       "      <td>62.0</td>\n",
       "      <td>40.0</td>\n",
       "      <td>50.0</td>\n",
       "    </tr>\n",
       "    <tr>\n",
       "      <th>2</th>\n",
       "      <td>M</td>\n",
       "      <td>2012</td>\n",
       "      <td>SCIENCE</td>\n",
       "      <td>PCA</td>\n",
       "      <td>69.0</td>\n",
       "      <td>55.0</td>\n",
       "      <td>74.0</td>\n",
       "      <td>74.0</td>\n",
       "      <td>60.0</td>\n",
       "      <td>62.0</td>\n",
       "    </tr>\n",
       "    <tr>\n",
       "      <th>3</th>\n",
       "      <td>M</td>\n",
       "      <td>2012</td>\n",
       "      <td>SCIENCE</td>\n",
       "      <td>PCA</td>\n",
       "      <td>58.0</td>\n",
       "      <td>48.0</td>\n",
       "      <td>55.0</td>\n",
       "      <td>72.0</td>\n",
       "      <td>74.0</td>\n",
       "      <td>NaN</td>\n",
       "    </tr>\n",
       "    <tr>\n",
       "      <th>4</th>\n",
       "      <td>M</td>\n",
       "      <td>2012</td>\n",
       "      <td>SCIENCE</td>\n",
       "      <td>PCA</td>\n",
       "      <td>64.0</td>\n",
       "      <td>58.0</td>\n",
       "      <td>55.0</td>\n",
       "      <td>60.0</td>\n",
       "      <td>60.0</td>\n",
       "      <td>34.0</td>\n",
       "    </tr>\n",
       "  </tbody>\n",
       "</table>\n",
       "</div>"
      ],
      "text/plain": [
       "  GENDER  YEAR   STREAM RESULT   ENG   DZO   PHY   CHE  MATH   BIO\n",
       "0      M  2012  SCIENCE    PCA  55.0  58.0  48.0  55.0  30.0  46.0\n",
       "1      M  2012  SCIENCE    PCA  55.0  60.0  44.0  62.0  40.0  50.0\n",
       "2      M  2012  SCIENCE    PCA  69.0  55.0  74.0  74.0  60.0  62.0\n",
       "3      M  2012  SCIENCE    PCA  58.0  48.0  55.0  72.0  74.0   NaN\n",
       "4      M  2012  SCIENCE    PCA  64.0  58.0  55.0  60.0  60.0  34.0"
      ]
     },
     "execution_count": 43,
     "metadata": {},
     "output_type": "execute_result"
    }
   ],
   "source": [
    "df.head()"
   ]
  },
  {
   "cell_type": "code",
   "execution_count": null,
   "metadata": {},
   "outputs": [],
   "source": []
  },
  {
   "cell_type": "code",
   "execution_count": 46,
   "metadata": {},
   "outputs": [
    {
     "data": {
      "text/plain": [
       "GENDER       0\n",
       "YEAR         0\n",
       "STREAM       0\n",
       "RESULT      14\n",
       "ENG         50\n",
       "DZO         50\n",
       "PHY         50\n",
       "CHE         50\n",
       "MATH        50\n",
       "BIO       4552\n",
       "dtype: int64"
      ]
     },
     "execution_count": 46,
     "metadata": {},
     "output_type": "execute_result"
    }
   ],
   "source": [
    "df.isna().sum()"
   ]
  },
  {
   "cell_type": "code",
   "execution_count": 66,
   "metadata": {},
   "outputs": [],
   "source": [
    "# removing na value in bio and math\n",
    "\n",
    "bio_math = df.dropna(subset=['BIO','MATH'])"
   ]
  },
  {
   "cell_type": "code",
   "execution_count": 67,
   "metadata": {
    "colab": {
     "base_uri": "https://localhost:8080/"
    },
    "id": "8BoS2BimfM7r",
    "outputId": "04bbf7e3-6ef0-4738-d081-79bac1370114"
   },
   "outputs": [
    {
     "data": {
      "text/plain": [
       "GENDER     0\n",
       "YEAR       0\n",
       "STREAM     0\n",
       "RESULT    14\n",
       "ENG        0\n",
       "DZO        0\n",
       "PHY        0\n",
       "CHE        0\n",
       "MATH       0\n",
       "BIO        0\n",
       "dtype: int64"
      ]
     },
     "execution_count": 67,
     "metadata": {},
     "output_type": "execute_result"
    }
   ],
   "source": [
    "bio_math.isnull().sum()"
   ]
  },
  {
   "cell_type": "code",
   "execution_count": 68,
   "metadata": {},
   "outputs": [
    {
     "data": {
      "text/html": [
       "<div>\n",
       "<style scoped>\n",
       "    .dataframe tbody tr th:only-of-type {\n",
       "        vertical-align: middle;\n",
       "    }\n",
       "\n",
       "    .dataframe tbody tr th {\n",
       "        vertical-align: top;\n",
       "    }\n",
       "\n",
       "    .dataframe thead th {\n",
       "        text-align: right;\n",
       "    }\n",
       "</style>\n",
       "<table border=\"1\" class=\"dataframe\">\n",
       "  <thead>\n",
       "    <tr style=\"text-align: right;\">\n",
       "      <th></th>\n",
       "      <th>GENDER</th>\n",
       "      <th>YEAR</th>\n",
       "      <th>STREAM</th>\n",
       "      <th>RESULT</th>\n",
       "      <th>ENG</th>\n",
       "      <th>DZO</th>\n",
       "      <th>PHY</th>\n",
       "      <th>CHE</th>\n",
       "      <th>MATH</th>\n",
       "      <th>BIO</th>\n",
       "    </tr>\n",
       "  </thead>\n",
       "  <tbody>\n",
       "    <tr>\n",
       "      <th>0</th>\n",
       "      <td>M</td>\n",
       "      <td>2012</td>\n",
       "      <td>SCIENCE</td>\n",
       "      <td>PCA</td>\n",
       "      <td>55.0</td>\n",
       "      <td>58.0</td>\n",
       "      <td>48.0</td>\n",
       "      <td>55.0</td>\n",
       "      <td>30.0</td>\n",
       "      <td>46.0</td>\n",
       "    </tr>\n",
       "    <tr>\n",
       "      <th>1</th>\n",
       "      <td>M</td>\n",
       "      <td>2012</td>\n",
       "      <td>SCIENCE</td>\n",
       "      <td>PCA</td>\n",
       "      <td>55.0</td>\n",
       "      <td>60.0</td>\n",
       "      <td>44.0</td>\n",
       "      <td>62.0</td>\n",
       "      <td>40.0</td>\n",
       "      <td>50.0</td>\n",
       "    </tr>\n",
       "    <tr>\n",
       "      <th>2</th>\n",
       "      <td>M</td>\n",
       "      <td>2012</td>\n",
       "      <td>SCIENCE</td>\n",
       "      <td>PCA</td>\n",
       "      <td>69.0</td>\n",
       "      <td>55.0</td>\n",
       "      <td>74.0</td>\n",
       "      <td>74.0</td>\n",
       "      <td>60.0</td>\n",
       "      <td>62.0</td>\n",
       "    </tr>\n",
       "    <tr>\n",
       "      <th>4</th>\n",
       "      <td>M</td>\n",
       "      <td>2012</td>\n",
       "      <td>SCIENCE</td>\n",
       "      <td>PCA</td>\n",
       "      <td>64.0</td>\n",
       "      <td>58.0</td>\n",
       "      <td>55.0</td>\n",
       "      <td>60.0</td>\n",
       "      <td>60.0</td>\n",
       "      <td>34.0</td>\n",
       "    </tr>\n",
       "    <tr>\n",
       "      <th>6</th>\n",
       "      <td>M</td>\n",
       "      <td>2012</td>\n",
       "      <td>SCIENCE</td>\n",
       "      <td>PCA</td>\n",
       "      <td>44.0</td>\n",
       "      <td>58.0</td>\n",
       "      <td>50.0</td>\n",
       "      <td>66.0</td>\n",
       "      <td>40.0</td>\n",
       "      <td>44.0</td>\n",
       "    </tr>\n",
       "  </tbody>\n",
       "</table>\n",
       "</div>"
      ],
      "text/plain": [
       "  GENDER  YEAR   STREAM RESULT   ENG   DZO   PHY   CHE  MATH   BIO\n",
       "0      M  2012  SCIENCE    PCA  55.0  58.0  48.0  55.0  30.0  46.0\n",
       "1      M  2012  SCIENCE    PCA  55.0  60.0  44.0  62.0  40.0  50.0\n",
       "2      M  2012  SCIENCE    PCA  69.0  55.0  74.0  74.0  60.0  62.0\n",
       "4      M  2012  SCIENCE    PCA  64.0  58.0  55.0  60.0  60.0  34.0\n",
       "6      M  2012  SCIENCE    PCA  44.0  58.0  50.0  66.0  40.0  44.0"
      ]
     },
     "execution_count": 68,
     "metadata": {},
     "output_type": "execute_result"
    }
   ],
   "source": [
    "bio_math.head()."
   ]
  },
  {
   "cell_type": "code",
   "execution_count": 83,
   "metadata": {},
   "outputs": [
    {
     "data": {
      "text/plain": [
       "(15325, 10)"
      ]
     },
     "execution_count": 83,
     "metadata": {},
     "output_type": "execute_result"
    }
   ],
   "source": [
    "bio_math.shape"
   ]
  },
  {
   "cell_type": "code",
   "execution_count": 95,
   "metadata": {},
   "outputs": [],
   "source": [
    "# math bukhan ba ka data cleaning \n",
    "# do for other "
   ]
  },
  {
   "cell_type": "code",
   "execution_count": 96,
   "metadata": {},
   "outputs": [
    {
     "name": "stderr",
     "output_type": "stream",
     "text": [
      "C:\\Users\\GYELTS~2\\AppData\\Local\\Temp/ipykernel_1500/1348538243.py:1: FutureWarning: Dropping of nuisance columns in DataFrame reductions (with 'numeric_only=None') is deprecated; in a future version this will raise TypeError.  Select only valid columns before calling the reduction.\n",
      "  math_df.mean()\n"
     ]
    },
    {
     "data": {
      "text/plain": [
       "YEAR    2015.669536\n",
       "ENG       56.234124\n",
       "DZO       60.401661\n",
       "PHY       56.040386\n",
       "CHE       55.343921\n",
       "MATH      58.666560\n",
       "dtype: float64"
      ]
     },
     "execution_count": 96,
     "metadata": {},
     "output_type": "execute_result"
    }
   ],
   "source": [
    "math_df.mean()"
   ]
  },
  {
   "cell_type": "code",
   "execution_count": 70,
   "metadata": {},
   "outputs": [
    {
     "name": "stderr",
     "output_type": "stream",
     "text": [
      "C:\\Users\\GYELTS~2\\AppData\\Local\\Temp/ipykernel_1500/1706149284.py:1: FutureWarning: Dropping of nuisance columns in DataFrame reductions (with 'numeric_only=None') is deprecated; in a future version this will raise TypeError.  Select only valid columns before calling the reduction.\n",
      "  math_df.median()\n"
     ]
    },
    {
     "data": {
      "text/plain": [
       "YEAR    2016.0\n",
       "ENG       57.0\n",
       "DZO       62.0\n",
       "PHY       56.0\n",
       "CHE       55.0\n",
       "MATH      60.0\n",
       "dtype: float64"
      ]
     },
     "execution_count": 70,
     "metadata": {},
     "output_type": "execute_result"
    }
   ],
   "source": [
    "math_df.median()"
   ]
  },
  {
   "cell_type": "code",
   "execution_count": 80,
   "metadata": {},
   "outputs": [],
   "source": [
    "math_df[['ENG','DZO','PHY','CHE','MATH']] =math_df[['ENG','DZO','PHY','CHE','MATH']].fillna(math_df[['ENG','DZO','PHY','CHE','MATH']].mean())"
   ]
  },
  {
   "cell_type": "code",
   "execution_count": 81,
   "metadata": {},
   "outputs": [
    {
     "data": {
      "text/plain": [
       "GENDER     0\n",
       "YEAR       0\n",
       "STREAM     0\n",
       "RESULT    14\n",
       "ENG        0\n",
       "DZO        0\n",
       "PHY        0\n",
       "CHE        0\n",
       "MATH       0\n",
       "dtype: int64"
      ]
     },
     "execution_count": 81,
     "metadata": {},
     "output_type": "execute_result"
    }
   ],
   "source": [
    "math_df.isna().sum()"
   ]
  },
  {
   "cell_type": "code",
   "execution_count": 82,
   "metadata": {},
   "outputs": [
    {
     "name": "stderr",
     "output_type": "stream",
     "text": [
      "C:\\Users\\GYELTS~2\\AppData\\Local\\Temp/ipykernel_1500/1348538243.py:1: FutureWarning: Dropping of nuisance columns in DataFrame reductions (with 'numeric_only=None') is deprecated; in a future version this will raise TypeError.  Select only valid columns before calling the reduction.\n",
      "  math_df.mean()\n"
     ]
    },
    {
     "data": {
      "text/plain": [
       "YEAR    2015.669769\n",
       "ENG       56.227922\n",
       "DZO       60.383669\n",
       "PHY       56.023655\n",
       "CHE       55.326020\n",
       "MATH      58.637666\n",
       "dtype: float64"
      ]
     },
     "execution_count": 82,
     "metadata": {},
     "output_type": "execute_result"
    }
   ],
   "source": [
    "math_df.mean()"
   ]
  },
  {
   "cell_type": "code",
   "execution_count": 93,
   "metadata": {},
   "outputs": [],
   "source": [
    "math_df.dropna(inplace=True)"
   ]
  },
  {
   "cell_type": "code",
   "execution_count": 94,
   "metadata": {},
   "outputs": [
    {
     "data": {
      "text/plain": [
       "GENDER    0\n",
       "YEAR      0\n",
       "STREAM    0\n",
       "RESULT    0\n",
       "ENG       0\n",
       "DZO       0\n",
       "PHY       0\n",
       "CHE       0\n",
       "MATH      0\n",
       "dtype: int64"
      ]
     },
     "execution_count": 94,
     "metadata": {},
     "output_type": "execute_result"
    }
   ],
   "source": [
    "math_df.isna().sum()"
   ]
  },
  {
   "cell_type": "code",
   "execution_count": 97,
   "metadata": {},
   "outputs": [
    {
     "data": {
      "text/html": [
       "<div>\n",
       "<style scoped>\n",
       "    .dataframe tbody tr th:only-of-type {\n",
       "        vertical-align: middle;\n",
       "    }\n",
       "\n",
       "    .dataframe tbody tr th {\n",
       "        vertical-align: top;\n",
       "    }\n",
       "\n",
       "    .dataframe thead th {\n",
       "        text-align: right;\n",
       "    }\n",
       "</style>\n",
       "<table border=\"1\" class=\"dataframe\">\n",
       "  <thead>\n",
       "    <tr style=\"text-align: right;\">\n",
       "      <th></th>\n",
       "      <th>YEAR</th>\n",
       "      <th>ENG</th>\n",
       "      <th>DZO</th>\n",
       "      <th>PHY</th>\n",
       "      <th>CHE</th>\n",
       "      <th>MATH</th>\n",
       "    </tr>\n",
       "  </thead>\n",
       "  <tbody>\n",
       "    <tr>\n",
       "      <th>YEAR</th>\n",
       "      <td>1.000000</td>\n",
       "      <td>0.183502</td>\n",
       "      <td>0.095567</td>\n",
       "      <td>0.228115</td>\n",
       "      <td>-0.025172</td>\n",
       "      <td>0.049485</td>\n",
       "    </tr>\n",
       "    <tr>\n",
       "      <th>ENG</th>\n",
       "      <td>0.183502</td>\n",
       "      <td>1.000000</td>\n",
       "      <td>0.594014</td>\n",
       "      <td>0.598042</td>\n",
       "      <td>0.598683</td>\n",
       "      <td>0.481965</td>\n",
       "    </tr>\n",
       "    <tr>\n",
       "      <th>DZO</th>\n",
       "      <td>0.095567</td>\n",
       "      <td>0.594014</td>\n",
       "      <td>1.000000</td>\n",
       "      <td>0.524065</td>\n",
       "      <td>0.552828</td>\n",
       "      <td>0.481505</td>\n",
       "    </tr>\n",
       "    <tr>\n",
       "      <th>PHY</th>\n",
       "      <td>0.228115</td>\n",
       "      <td>0.598042</td>\n",
       "      <td>0.524065</td>\n",
       "      <td>1.000000</td>\n",
       "      <td>0.797075</td>\n",
       "      <td>0.730506</td>\n",
       "    </tr>\n",
       "    <tr>\n",
       "      <th>CHE</th>\n",
       "      <td>-0.025172</td>\n",
       "      <td>0.598683</td>\n",
       "      <td>0.552828</td>\n",
       "      <td>0.797075</td>\n",
       "      <td>1.000000</td>\n",
       "      <td>0.740472</td>\n",
       "    </tr>\n",
       "    <tr>\n",
       "      <th>MATH</th>\n",
       "      <td>0.049485</td>\n",
       "      <td>0.481965</td>\n",
       "      <td>0.481505</td>\n",
       "      <td>0.730506</td>\n",
       "      <td>0.740472</td>\n",
       "      <td>1.000000</td>\n",
       "    </tr>\n",
       "  </tbody>\n",
       "</table>\n",
       "</div>"
      ],
      "text/plain": [
       "          YEAR       ENG       DZO       PHY       CHE      MATH\n",
       "YEAR  1.000000  0.183502  0.095567  0.228115 -0.025172  0.049485\n",
       "ENG   0.183502  1.000000  0.594014  0.598042  0.598683  0.481965\n",
       "DZO   0.095567  0.594014  1.000000  0.524065  0.552828  0.481505\n",
       "PHY   0.228115  0.598042  0.524065  1.000000  0.797075  0.730506\n",
       "CHE  -0.025172  0.598683  0.552828  0.797075  1.000000  0.740472\n",
       "MATH  0.049485  0.481965  0.481505  0.730506  0.740472  1.000000"
      ]
     },
     "execution_count": 97,
     "metadata": {},
     "output_type": "execute_result"
    }
   ],
   "source": [
    "math_df.corr()"
   ]
  },
  {
   "cell_type": "code",
   "execution_count": 98,
   "metadata": {},
   "outputs": [],
   "source": [
    "import seaborn as sns\n",
    "import matplotlib.pyplot as plt"
   ]
  },
  {
   "cell_type": "code",
   "execution_count": 106,
   "metadata": {},
   "outputs": [
    {
     "data": {
      "text/plain": [
       "<AxesSubplot:>"
      ]
     },
     "execution_count": 106,
     "metadata": {},
     "output_type": "execute_result"
    },
    {
     "data": {
      "image/png": "[encoded data removed]",
      "text/plain": [
       "<Figure size 432x288 with 2 Axes>"
      ]
     },
     "metadata": {
      "needs_background": "light"
     },
     "output_type": "display_data"
    }
   ],
   "source": [
    "sns.heatmap(math_df.corr(), annot= True)"
   ]
  },
  {
   "cell_type": "code",
   "execution_count": 107,
   "metadata": {},
   "outputs": [],
   "source": [
    "import sklearn"
   ]
  },
  {
   "cell_type": "code",
   "execution_count": 108,
   "metadata": {},
   "outputs": [
    {
     "data": {
      "text/html": [
       "<div>\n",
       "<style scoped>\n",
       "    .dataframe tbody tr th:only-of-type {\n",
       "        vertical-align: middle;\n",
       "    }\n",
       "\n",
       "    .dataframe tbody tr th {\n",
       "        vertical-align: top;\n",
       "    }\n",
       "\n",
       "    .dataframe thead th {\n",
       "        text-align: right;\n",
       "    }\n",
       "</style>\n",
       "<table border=\"1\" class=\"dataframe\">\n",
       "  <thead>\n",
       "    <tr style=\"text-align: right;\">\n",
       "      <th></th>\n",
       "      <th>GENDER</th>\n",
       "      <th>YEAR</th>\n",
       "      <th>STREAM</th>\n",
       "      <th>RESULT</th>\n",
       "      <th>ENG</th>\n",
       "      <th>DZO</th>\n",
       "      <th>PHY</th>\n",
       "      <th>CHE</th>\n",
       "      <th>MATH</th>\n",
       "    </tr>\n",
       "  </thead>\n",
       "  <tbody>\n",
       "    <tr>\n",
       "      <th>0</th>\n",
       "      <td>M</td>\n",
       "      <td>2012</td>\n",
       "      <td>SCIENCE</td>\n",
       "      <td>PCA</td>\n",
       "      <td>55.0</td>\n",
       "      <td>58.0</td>\n",
       "      <td>48.0</td>\n",
       "      <td>55.0</td>\n",
       "      <td>30.0</td>\n",
       "    </tr>\n",
       "    <tr>\n",
       "      <th>1</th>\n",
       "      <td>M</td>\n",
       "      <td>2012</td>\n",
       "      <td>SCIENCE</td>\n",
       "      <td>PCA</td>\n",
       "      <td>55.0</td>\n",
       "      <td>60.0</td>\n",
       "      <td>44.0</td>\n",
       "      <td>62.0</td>\n",
       "      <td>40.0</td>\n",
       "    </tr>\n",
       "    <tr>\n",
       "      <th>2</th>\n",
       "      <td>M</td>\n",
       "      <td>2012</td>\n",
       "      <td>SCIENCE</td>\n",
       "      <td>PCA</td>\n",
       "      <td>69.0</td>\n",
       "      <td>55.0</td>\n",
       "      <td>74.0</td>\n",
       "      <td>74.0</td>\n",
       "      <td>60.0</td>\n",
       "    </tr>\n",
       "    <tr>\n",
       "      <th>3</th>\n",
       "      <td>M</td>\n",
       "      <td>2012</td>\n",
       "      <td>SCIENCE</td>\n",
       "      <td>PCA</td>\n",
       "      <td>58.0</td>\n",
       "      <td>48.0</td>\n",
       "      <td>55.0</td>\n",
       "      <td>72.0</td>\n",
       "      <td>74.0</td>\n",
       "    </tr>\n",
       "    <tr>\n",
       "      <th>4</th>\n",
       "      <td>M</td>\n",
       "      <td>2012</td>\n",
       "      <td>SCIENCE</td>\n",
       "      <td>PCA</td>\n",
       "      <td>64.0</td>\n",
       "      <td>58.0</td>\n",
       "      <td>55.0</td>\n",
       "      <td>60.0</td>\n",
       "      <td>60.0</td>\n",
       "    </tr>\n",
       "  </tbody>\n",
       "</table>\n",
       "</div>"
      ],
      "text/plain": [
       "  GENDER  YEAR   STREAM RESULT   ENG   DZO   PHY   CHE  MATH\n",
       "0      M  2012  SCIENCE    PCA  55.0  58.0  48.0  55.0  30.0\n",
       "1      M  2012  SCIENCE    PCA  55.0  60.0  44.0  62.0  40.0\n",
       "2      M  2012  SCIENCE    PCA  69.0  55.0  74.0  74.0  60.0\n",
       "3      M  2012  SCIENCE    PCA  58.0  48.0  55.0  72.0  74.0\n",
       "4      M  2012  SCIENCE    PCA  64.0  58.0  55.0  60.0  60.0"
      ]
     },
     "execution_count": 108,
     "metadata": {},
     "output_type": "execute_result"
    }
   ],
   "source": [
    "math_df.head()"
   ]
  },
  {
   "cell_type": "code",
   "execution_count": null,
   "metadata": {},
   "outputs": [],
   "source": [
    "# spliting data for training and testing"
   ]
  },
  {
   "cell_type": "code",
   "execution_count": 180,
   "metadata": {},
   "outputs": [
    {
     "data": {
      "text/html": [
       "<div>\n",
       "<style scoped>\n",
       "    .dataframe tbody tr th:only-of-type {\n",
       "        vertical-align: middle;\n",
       "    }\n",
       "\n",
       "    .dataframe tbody tr th {\n",
       "        vertical-align: top;\n",
       "    }\n",
       "\n",
       "    .dataframe thead th {\n",
       "        text-align: right;\n",
       "    }\n",
       "</style>\n",
       "<table border=\"1\" class=\"dataframe\">\n",
       "  <thead>\n",
       "    <tr style=\"text-align: right;\">\n",
       "      <th></th>\n",
       "      <th>ENG</th>\n",
       "      <th>DZO</th>\n",
       "      <th>PHY</th>\n",
       "      <th>CHE</th>\n",
       "      <th>MATH</th>\n",
       "    </tr>\n",
       "  </thead>\n",
       "  <tbody>\n",
       "    <tr>\n",
       "      <th>0</th>\n",
       "      <td>55.0</td>\n",
       "      <td>58.0</td>\n",
       "      <td>48.0</td>\n",
       "      <td>55.0</td>\n",
       "      <td>30.0</td>\n",
       "    </tr>\n",
       "    <tr>\n",
       "      <th>1</th>\n",
       "      <td>55.0</td>\n",
       "      <td>60.0</td>\n",
       "      <td>44.0</td>\n",
       "      <td>62.0</td>\n",
       "      <td>40.0</td>\n",
       "    </tr>\n",
       "    <tr>\n",
       "      <th>2</th>\n",
       "      <td>69.0</td>\n",
       "      <td>55.0</td>\n",
       "      <td>74.0</td>\n",
       "      <td>74.0</td>\n",
       "      <td>60.0</td>\n",
       "    </tr>\n",
       "    <tr>\n",
       "      <th>3</th>\n",
       "      <td>58.0</td>\n",
       "      <td>48.0</td>\n",
       "      <td>55.0</td>\n",
       "      <td>72.0</td>\n",
       "      <td>74.0</td>\n",
       "    </tr>\n",
       "    <tr>\n",
       "      <th>4</th>\n",
       "      <td>64.0</td>\n",
       "      <td>58.0</td>\n",
       "      <td>55.0</td>\n",
       "      <td>60.0</td>\n",
       "      <td>60.0</td>\n",
       "    </tr>\n",
       "    <tr>\n",
       "      <th>...</th>\n",
       "      <td>...</td>\n",
       "      <td>...</td>\n",
       "      <td>...</td>\n",
       "      <td>...</td>\n",
       "      <td>...</td>\n",
       "    </tr>\n",
       "    <tr>\n",
       "      <th>19872</th>\n",
       "      <td>57.0</td>\n",
       "      <td>48.0</td>\n",
       "      <td>76.0</td>\n",
       "      <td>70.0</td>\n",
       "      <td>92.0</td>\n",
       "    </tr>\n",
       "    <tr>\n",
       "      <th>19873</th>\n",
       "      <td>45.0</td>\n",
       "      <td>40.0</td>\n",
       "      <td>45.0</td>\n",
       "      <td>44.0</td>\n",
       "      <td>59.0</td>\n",
       "    </tr>\n",
       "    <tr>\n",
       "      <th>19874</th>\n",
       "      <td>51.0</td>\n",
       "      <td>45.0</td>\n",
       "      <td>66.0</td>\n",
       "      <td>55.0</td>\n",
       "      <td>57.0</td>\n",
       "    </tr>\n",
       "    <tr>\n",
       "      <th>19875</th>\n",
       "      <td>58.0</td>\n",
       "      <td>74.0</td>\n",
       "      <td>55.0</td>\n",
       "      <td>69.0</td>\n",
       "      <td>77.0</td>\n",
       "    </tr>\n",
       "    <tr>\n",
       "      <th>19876</th>\n",
       "      <td>59.0</td>\n",
       "      <td>60.0</td>\n",
       "      <td>81.0</td>\n",
       "      <td>74.0</td>\n",
       "      <td>92.0</td>\n",
       "    </tr>\n",
       "  </tbody>\n",
       "</table>\n",
       "<p>19863 rows × 5 columns</p>\n",
       "</div>"
      ],
      "text/plain": [
       "        ENG   DZO   PHY   CHE  MATH\n",
       "0      55.0  58.0  48.0  55.0  30.0\n",
       "1      55.0  60.0  44.0  62.0  40.0\n",
       "2      69.0  55.0  74.0  74.0  60.0\n",
       "3      58.0  48.0  55.0  72.0  74.0\n",
       "4      64.0  58.0  55.0  60.0  60.0\n",
       "...     ...   ...   ...   ...   ...\n",
       "19872  57.0  48.0  76.0  70.0  92.0\n",
       "19873  45.0  40.0  45.0  44.0  59.0\n",
       "19874  51.0  45.0  66.0  55.0  57.0\n",
       "19875  58.0  74.0  55.0  69.0  77.0\n",
       "19876  59.0  60.0  81.0  74.0  92.0\n",
       "\n",
       "[19863 rows x 5 columns]"
      ]
     },
     "execution_count": 180,
     "metadata": {},
     "output_type": "execute_result"
    }
   ],
   "source": [
    "x = math_df.drop(['RESULT','GENDER','YEAR','STREAM'],axis = 1)\n",
    "x"
   ]
  },
  {
   "cell_type": "code",
   "execution_count": 181,
   "metadata": {},
   "outputs": [
    {
     "data": {
      "text/html": [
       "<div>\n",
       "<style scoped>\n",
       "    .dataframe tbody tr th:only-of-type {\n",
       "        vertical-align: middle;\n",
       "    }\n",
       "\n",
       "    .dataframe tbody tr th {\n",
       "        vertical-align: top;\n",
       "    }\n",
       "\n",
       "    .dataframe thead th {\n",
       "        text-align: right;\n",
       "    }\n",
       "</style>\n",
       "<table border=\"1\" class=\"dataframe\">\n",
       "  <thead>\n",
       "    <tr style=\"text-align: right;\">\n",
       "      <th></th>\n",
       "      <th>GENDER</th>\n",
       "      <th>YEAR</th>\n",
       "      <th>STREAM</th>\n",
       "      <th>RESULT</th>\n",
       "      <th>ENG</th>\n",
       "      <th>DZO</th>\n",
       "      <th>PHY</th>\n",
       "      <th>CHE</th>\n",
       "      <th>MATH</th>\n",
       "    </tr>\n",
       "  </thead>\n",
       "  <tbody>\n",
       "    <tr>\n",
       "      <th>0</th>\n",
       "      <td>M</td>\n",
       "      <td>2012</td>\n",
       "      <td>SCIENCE</td>\n",
       "      <td>PCA</td>\n",
       "      <td>55.0</td>\n",
       "      <td>58.0</td>\n",
       "      <td>48.0</td>\n",
       "      <td>55.0</td>\n",
       "      <td>30.0</td>\n",
       "    </tr>\n",
       "    <tr>\n",
       "      <th>1</th>\n",
       "      <td>M</td>\n",
       "      <td>2012</td>\n",
       "      <td>SCIENCE</td>\n",
       "      <td>PCA</td>\n",
       "      <td>55.0</td>\n",
       "      <td>60.0</td>\n",
       "      <td>44.0</td>\n",
       "      <td>62.0</td>\n",
       "      <td>40.0</td>\n",
       "    </tr>\n",
       "    <tr>\n",
       "      <th>2</th>\n",
       "      <td>M</td>\n",
       "      <td>2012</td>\n",
       "      <td>SCIENCE</td>\n",
       "      <td>PCA</td>\n",
       "      <td>69.0</td>\n",
       "      <td>55.0</td>\n",
       "      <td>74.0</td>\n",
       "      <td>74.0</td>\n",
       "      <td>60.0</td>\n",
       "    </tr>\n",
       "    <tr>\n",
       "      <th>3</th>\n",
       "      <td>M</td>\n",
       "      <td>2012</td>\n",
       "      <td>SCIENCE</td>\n",
       "      <td>PCA</td>\n",
       "      <td>58.0</td>\n",
       "      <td>48.0</td>\n",
       "      <td>55.0</td>\n",
       "      <td>72.0</td>\n",
       "      <td>74.0</td>\n",
       "    </tr>\n",
       "    <tr>\n",
       "      <th>4</th>\n",
       "      <td>M</td>\n",
       "      <td>2012</td>\n",
       "      <td>SCIENCE</td>\n",
       "      <td>PCA</td>\n",
       "      <td>64.0</td>\n",
       "      <td>58.0</td>\n",
       "      <td>55.0</td>\n",
       "      <td>60.0</td>\n",
       "      <td>60.0</td>\n",
       "    </tr>\n",
       "  </tbody>\n",
       "</table>\n",
       "</div>"
      ],
      "text/plain": [
       "  GENDER  YEAR   STREAM RESULT   ENG   DZO   PHY   CHE  MATH\n",
       "0      M  2012  SCIENCE    PCA  55.0  58.0  48.0  55.0  30.0\n",
       "1      M  2012  SCIENCE    PCA  55.0  60.0  44.0  62.0  40.0\n",
       "2      M  2012  SCIENCE    PCA  69.0  55.0  74.0  74.0  60.0\n",
       "3      M  2012  SCIENCE    PCA  58.0  48.0  55.0  72.0  74.0\n",
       "4      M  2012  SCIENCE    PCA  64.0  58.0  55.0  60.0  60.0"
      ]
     },
     "execution_count": 181,
     "metadata": {},
     "output_type": "execute_result"
    }
   ],
   "source": [
    "math_df.head()"
   ]
  },
  {
   "cell_type": "code",
   "execution_count": null,
   "metadata": {},
   "outputs": [],
   "source": []
  },
  {
   "cell_type": "code",
   "execution_count": 182,
   "metadata": {},
   "outputs": [
    {
     "data": {
      "text/plain": [
       "GENDER     object\n",
       "YEAR        int64\n",
       "STREAM     object\n",
       "RESULT     object\n",
       "ENG       float64\n",
       "DZO       float64\n",
       "PHY       float64\n",
       "CHE       float64\n",
       "MATH      float64\n",
       "dtype: object"
      ]
     },
     "execution_count": 182,
     "metadata": {},
     "output_type": "execute_result"
    }
   ],
   "source": [
    "math_df.dtypes"
   ]
  },
  {
   "cell_type": "markdown",
   "metadata": {},
   "source": []
  },
  {
   "cell_type": "code",
   "execution_count": 196,
   "metadata": {},
   "outputs": [
    {
     "data": {
      "text/html": [
       "<div>\n",
       "<style scoped>\n",
       "    .dataframe tbody tr th:only-of-type {\n",
       "        vertical-align: middle;\n",
       "    }\n",
       "\n",
       "    .dataframe tbody tr th {\n",
       "        vertical-align: top;\n",
       "    }\n",
       "\n",
       "    .dataframe thead th {\n",
       "        text-align: right;\n",
       "    }\n",
       "</style>\n",
       "<table border=\"1\" class=\"dataframe\">\n",
       "  <thead>\n",
       "    <tr style=\"text-align: right;\">\n",
       "      <th></th>\n",
       "      <th>RESULT</th>\n",
       "    </tr>\n",
       "  </thead>\n",
       "  <tbody>\n",
       "    <tr>\n",
       "      <th>0</th>\n",
       "      <td>PCA</td>\n",
       "    </tr>\n",
       "    <tr>\n",
       "      <th>1</th>\n",
       "      <td>PCA</td>\n",
       "    </tr>\n",
       "    <tr>\n",
       "      <th>2</th>\n",
       "      <td>PCA</td>\n",
       "    </tr>\n",
       "    <tr>\n",
       "      <th>3</th>\n",
       "      <td>PCA</td>\n",
       "    </tr>\n",
       "    <tr>\n",
       "      <th>4</th>\n",
       "      <td>PCA</td>\n",
       "    </tr>\n",
       "    <tr>\n",
       "      <th>...</th>\n",
       "      <td>...</td>\n",
       "    </tr>\n",
       "    <tr>\n",
       "      <th>19872</th>\n",
       "      <td>PCA</td>\n",
       "    </tr>\n",
       "    <tr>\n",
       "      <th>19873</th>\n",
       "      <td>PCA</td>\n",
       "    </tr>\n",
       "    <tr>\n",
       "      <th>19874</th>\n",
       "      <td>PCA</td>\n",
       "    </tr>\n",
       "    <tr>\n",
       "      <th>19875</th>\n",
       "      <td>PCA</td>\n",
       "    </tr>\n",
       "    <tr>\n",
       "      <th>19876</th>\n",
       "      <td>PCA</td>\n",
       "    </tr>\n",
       "  </tbody>\n",
       "</table>\n",
       "<p>19863 rows × 1 columns</p>\n",
       "</div>"
      ],
      "text/plain": [
       "      RESULT\n",
       "0        PCA\n",
       "1        PCA\n",
       "2        PCA\n",
       "3        PCA\n",
       "4        PCA\n",
       "...      ...\n",
       "19872    PCA\n",
       "19873    PCA\n",
       "19874    PCA\n",
       "19875    PCA\n",
       "19876    PCA\n",
       "\n",
       "[19863 rows x 1 columns]"
      ]
     },
     "execution_count": 196,
     "metadata": {},
     "output_type": "execute_result"
    }
   ],
   "source": [
    "\n",
    "# target value\n",
    "y =math_df.drop(['ENG','DZO','PHY','CHE','MATH','GENDER','YEAR','STREAM'], axis = 1)\n",
    "#y = pd.get_dummies(y,drop_first=True)\n"
   ]
  },
  {
   "cell_type": "code",
   "execution_count": 197,
   "metadata": {},
   "outputs": [
    {
     "data": {
      "text/plain": [
       "RESULT    object\n",
       "dtype: object"
      ]
     },
     "execution_count": 197,
     "metadata": {},
     "output_type": "execute_result"
    }
   ],
   "source": [
    "y.dtypes"
   ]
  },
  {
   "cell_type": "code",
   "execution_count": 205,
   "metadata": {},
   "outputs": [],
   "source": [
    "from sklearn.preprocessing import LabelEncoder\n",
    "labelEncoder = LabelEncoder()\n",
    "lab_y = labelEncoder.fit_transform(y)\n",
    "\n",
    "\n",
    "\n"
   ]
  },
  {
   "cell_type": "code",
   "execution_count": 206,
   "metadata": {},
   "outputs": [],
   "source": [
    "from sklearn.preprocessing import StandardScaler\n",
    "scaled = StandardScaler()\n",
    "\n",
    "scaled_x = scaled.fit_transform(x)"
   ]
  },
  {
   "cell_type": "code",
   "execution_count": 213,
   "metadata": {},
   "outputs": [
    {
     "data": {
      "text/plain": [
       "array([[ 0.16272524,  0.44548774, -0.46559436, -0.56969699,  0.85154467],\n",
       "       [ 0.53132462, -0.42983702, -1.58983733, -0.77452766, -0.8689119 ],\n",
       "       [-0.48232367, -1.46431173,  0.72478054, -0.77452766, -1.12958714],\n",
       "       ...,\n",
       "       [-0.57447352,  0.36591276, -0.39946242, -0.22831253, -0.71250676],\n",
       "       [ 0.71562431,  0.60463769,  0.59251666,  1.13722531,  0.79940962],\n",
       "       [-0.39017383, -0.42983702,  0.72478054, -0.36486631,  0.2259241 ]])"
      ]
     },
     "execution_count": 213,
     "metadata": {},
     "output_type": "execute_result"
    }
   ],
   "source": [
    "from sklearn.model_selection import train_test_split\n",
    "xtrain,xtest,ytrain,ytest = train_test_split(scaled_x,lab_y,test_size=0.2,stratify=y,random_state=5)\n",
    "xtrain"
   ]
  },
  {
   "cell_type": "code",
   "execution_count": 214,
   "metadata": {},
   "outputs": [
    {
     "data": {
      "text/plain": [
       "array([1, 1, 1, ..., 1, 1, 1])"
      ]
     },
     "execution_count": 214,
     "metadata": {},
     "output_type": "execute_result"
    }
   ],
   "source": [
    "ytrain"
   ]
  },
  {
   "cell_type": "code",
   "execution_count": 208,
   "metadata": {},
   "outputs": [
    {
     "data": {
      "text/plain": [
       "(15890, 5)"
      ]
     },
     "execution_count": 208,
     "metadata": {},
     "output_type": "execute_result"
    }
   ],
   "source": [
    "xtrain.shape"
   ]
  },
  {
   "cell_type": "code",
   "execution_count": 217,
   "metadata": {},
   "outputs": [
    {
     "data": {
      "text/plain": [
       "RidgeClassifier()"
      ]
     },
     "execution_count": 217,
     "metadata": {},
     "output_type": "execute_result"
    }
   ],
   "source": [
    "# this model\n",
    "from sklearn.linear_model import RidgeClassifier\n",
    "model = RidgeClassifier()\n",
    "model.fit(scaled_x,lab_y)"
   ]
  },
  {
   "cell_type": "code",
   "execution_count": 218,
   "metadata": {},
   "outputs": [
    {
     "data": {
      "text/plain": [
       "0.9456261799874135"
      ]
     },
     "execution_count": 218,
     "metadata": {},
     "output_type": "execute_result"
    }
   ],
   "source": [
    "model.score(xtrain,ytrain)\n"
   ]
  },
  {
   "cell_type": "code",
   "execution_count": 219,
   "metadata": {},
   "outputs": [
    {
     "data": {
      "text/plain": [
       "0.9468915177447772"
      ]
     },
     "execution_count": 219,
     "metadata": {},
     "output_type": "execute_result"
    }
   ],
   "source": [
    "model.score(xtest,ytest)"
   ]
  },
  {
   "cell_type": "code",
   "execution_count": 226,
   "metadata": {},
   "outputs": [
    {
     "data": {
      "text/plain": [
       "array([[ 0.34702493,  0.44548774,  0.46025278,  1.54688667,  0.53873438],\n",
       "       [-1.12737259, -1.22558679, -1.06078181, -0.84280455, -0.08688619],\n",
       "       [ 0.34702493,  0.44548774, -0.39946242, -0.91108145, -1.54666752],\n",
       "       ...,\n",
       "       [-0.48232367, -0.66856195,  0.26185697, -0.84280455,  0.0173839 ],\n",
       "       [ 0.99207384,  0.28633778,  1.18770411,  0.79584085,  0.17378905],\n",
       "       [-0.48232367,  0.12718783,  0.19572503, -0.22831253, -0.24329133]])"
      ]
     },
     "execution_count": 226,
     "metadata": {},
     "output_type": "execute_result"
    }
   ],
   "source": [
    "xtest"
   ]
  },
  {
   "cell_type": "code",
   "execution_count": null,
   "metadata": {},
   "outputs": [],
   "source": []
  },
  {
   "cell_type": "code",
   "execution_count": 225,
   "metadata": {},
   "outputs": [
    {
     "data": {
      "text/plain": [
       "array([1, 1, 1, ..., 1, 1, 1])"
      ]
     },
     "execution_count": 225,
     "metadata": {},
     "output_type": "execute_result"
    }
   ],
   "source": [
    "model1.predict(xtest)"
   ]
  },
  {
   "cell_type": "code",
   "execution_count": null,
   "metadata": {},
   "outputs": [],
   "source": []
  },
  {
   "cell_type": "code",
   "execution_count": 220,
   "metadata": {},
   "outputs": [],
   "source": [
    "# using decission tree"
   ]
  },
  {
   "cell_type": "code",
   "execution_count": 221,
   "metadata": {},
   "outputs": [
    {
     "data": {
      "text/plain": [
       "DecisionTreeClassifier(criterion='entropy')"
      ]
     },
     "execution_count": 221,
     "metadata": {},
     "output_type": "execute_result"
    }
   ],
   "source": [
    "from sklearn.tree import DecisionTreeClassifier\n",
    "model1 = DecisionTreeClassifier(criterion=\"entropy\")\n",
    "model1.fit(scaled_x,lab_y)"
   ]
  },
  {
   "cell_type": "code",
   "execution_count": 222,
   "metadata": {},
   "outputs": [
    {
     "data": {
      "text/plain": [
       "0.9998489654130795"
      ]
     },
     "execution_count": 222,
     "metadata": {},
     "output_type": "execute_result"
    }
   ],
   "source": [
    "model1.score(scaled_x,lab_yb"
   ]
  },
  {
   "cell_type": "code",
   "execution_count": 223,
   "metadata": {},
   "outputs": [
    {
     "data": {
      "text/plain": [
       "0.9994966020639315"
      ]
     },
     "execution_count": 223,
     "metadata": {},
     "output_type": "execute_result"
    }
   ],
   "source": [
    "model1.score(xtest,ytest)"
   ]
  },
  {
   "cell_type": "markdown",
   "metadata": {
    "id": "7tQeNTR-ma2z"
   },
   "source": [
    "#2012 Analysis"
   ]
  },
  {
   "cell_type": "code",
   "execution_count": 55,
   "metadata": {},
   "outputs": [
    {
     "data": {
      "text/plain": [
       "GENDER       0\n",
       "YEAR         0\n",
       "STREAM       0\n",
       "RESULT      14\n",
       "ENG         50\n",
       "DZO         50\n",
       "PHY         50\n",
       "CHE         50\n",
       "MATH        50\n",
       "BIO       4552\n",
       "dtype: int64"
      ]
     },
     "execution_count": 55,
     "metadata": {},
     "output_type": "execute_result"
    }
   ],
   "source": [
    "df.isna().sum()"
   ]
  },
  {
   "cell_type": "code",
   "execution_count": 423,
   "metadata": {
    "colab": {
     "base_uri": "https://localhost:8080/",
     "height": 206
    },
    "id": "OZNKRKjxlwzK",
    "outputId": "f3b528cb-9694-485e-b196-09101e25a3e1"
   },
   "outputs": [
    {
     "data": {
      "text/html": [
       "\n",
       "  <div id=\"df-3c293571-61ab-4793-9e3f-e762a9bcb655\">\n",
       "    <div class=\"colab-df-container\">\n",
       "      <div>\n",
       "<style scoped>\n",
       "    .dataframe tbody tr th:only-of-type {\n",
       "        vertical-align: middle;\n",
       "    }\n",
       "\n",
       "    .dataframe tbody tr th {\n",
       "        vertical-align: top;\n",
       "    }\n",
       "\n",
       "    .dataframe thead th {\n",
       "        text-align: right;\n",
       "    }\n",
       "</style>\n",
       "<table border=\"1\" class=\"dataframe\">\n",
       "  <thead>\n",
       "    <tr style=\"text-align: right;\">\n",
       "      <th></th>\n",
       "      <th>NAME</th>\n",
       "      <th>GENDER</th>\n",
       "      <th>YEAR</th>\n",
       "      <th>STREAM</th>\n",
       "      <th>RESULT</th>\n",
       "      <th>ENG</th>\n",
       "      <th>DZO</th>\n",
       "      <th>PHY</th>\n",
       "      <th>CHE</th>\n",
       "      <th>MATH</th>\n",
       "      <th>BIO</th>\n",
       "    </tr>\n",
       "  </thead>\n",
       "  <tbody>\n",
       "    <tr>\n",
       "      <th>625</th>\n",
       "      <td>BHUDHIMAN KAMI</td>\n",
       "      <td>M</td>\n",
       "      <td>2012</td>\n",
       "      <td>SCIENCE</td>\n",
       "      <td>PCA</td>\n",
       "      <td>55.0</td>\n",
       "      <td>58.0</td>\n",
       "      <td>48.0</td>\n",
       "      <td>55.0</td>\n",
       "      <td>30.0</td>\n",
       "      <td>46.0</td>\n",
       "    </tr>\n",
       "    <tr>\n",
       "      <th>626</th>\n",
       "      <td>GALEY ZANGPO</td>\n",
       "      <td>M</td>\n",
       "      <td>2012</td>\n",
       "      <td>SCIENCE</td>\n",
       "      <td>PCA</td>\n",
       "      <td>55.0</td>\n",
       "      <td>60.0</td>\n",
       "      <td>44.0</td>\n",
       "      <td>62.0</td>\n",
       "      <td>40.0</td>\n",
       "      <td>50.0</td>\n",
       "    </tr>\n",
       "    <tr>\n",
       "      <th>627</th>\n",
       "      <td>JAMYANG LHENDUP GAYLLEY</td>\n",
       "      <td>M</td>\n",
       "      <td>2012</td>\n",
       "      <td>SCIENCE</td>\n",
       "      <td>PCA</td>\n",
       "      <td>69.0</td>\n",
       "      <td>55.0</td>\n",
       "      <td>74.0</td>\n",
       "      <td>74.0</td>\n",
       "      <td>60.0</td>\n",
       "      <td>62.0</td>\n",
       "    </tr>\n",
       "    <tr>\n",
       "      <th>628</th>\n",
       "      <td>JIGME SAMDRUP</td>\n",
       "      <td>M</td>\n",
       "      <td>2012</td>\n",
       "      <td>SCIENCE</td>\n",
       "      <td>PCA</td>\n",
       "      <td>58.0</td>\n",
       "      <td>48.0</td>\n",
       "      <td>55.0</td>\n",
       "      <td>72.0</td>\n",
       "      <td>74.0</td>\n",
       "      <td>NaN</td>\n",
       "    </tr>\n",
       "    <tr>\n",
       "      <th>629</th>\n",
       "      <td>KARMA GYELTSHEN</td>\n",
       "      <td>M</td>\n",
       "      <td>2012</td>\n",
       "      <td>SCIENCE</td>\n",
       "      <td>PCA</td>\n",
       "      <td>64.0</td>\n",
       "      <td>58.0</td>\n",
       "      <td>55.0</td>\n",
       "      <td>60.0</td>\n",
       "      <td>60.0</td>\n",
       "      <td>34.0</td>\n",
       "    </tr>\n",
       "  </tbody>\n",
       "</table>\n",
       "</div>\n",
       "      <button class=\"colab-df-convert\" onclick=\"convertToInteractive('df-3c293571-61ab-4793-9e3f-e762a9bcb655')\"\n",
       "              title=\"Convert this dataframe to an interactive table.\"\n",
       "              style=\"display:none;\">\n",
       "        \n",
       "  <svg xmlns=\"http://www.w3.org/2000/svg\" height=\"24px\"viewBox=\"0 0 24 24\"\n",
       "       width=\"24px\">\n",
       "    <path d=\"M0 0h24v24H0V0z\" fill=\"none\"/>\n",
       "    <path d=\"M18.56 5.44l.94 2.06.94-2.06 2.06-.94-2.06-.94-.94-2.06-.94 2.06-2.06.94zm-11 1L8.5 8.5l.94-2.06 2.06-.94-2.06-.94L8.5 2.5l-.94 2.06-2.06.94zm10 10l.94 2.06.94-2.06 2.06-.94-2.06-.94-.94-2.06-.94 2.06-2.06.94z\"/><path d=\"M17.41 7.96l-1.37-1.37c-.4-.4-.92-.59-1.43-.59-.52 0-1.04.2-1.43.59L10.3 9.45l-7.72 7.72c-.78.78-.78 2.05 0 2.83L4 21.41c.39.39.9.59 1.41.59.51 0 1.02-.2 1.41-.59l7.78-7.78 2.81-2.81c.8-.78.8-2.07 0-2.86zM5.41 20L4 18.59l7.72-7.72 1.47 1.35L5.41 20z\"/>\n",
       "  </svg>\n",
       "      </button>\n",
       "      \n",
       "  <style>\n",
       "    .colab-df-container {\n",
       "      display:flex;\n",
       "      flex-wrap:wrap;\n",
       "      gap: 12px;\n",
       "    }\n",
       "\n",
       "    .colab-df-convert {\n",
       "      background-color: #E8F0FE;\n",
       "      border: none;\n",
       "      border-radius: 50%;\n",
       "      cursor: pointer;\n",
       "      display: none;\n",
       "      fill: #1967D2;\n",
       "      height: 32px;\n",
       "      padding: 0 0 0 0;\n",
       "      width: 32px;\n",
       "    }\n",
       "\n",
       "    .colab-df-convert:hover {\n",
       "      background-color: #E2EBFA;\n",
       "      box-shadow: 0px 1px 2px rgba(60, 64, 67, 0.3), 0px 1px 3px 1px rgba(60, 64, 67, 0.15);\n",
       "      fill: #174EA6;\n",
       "    }\n",
       "\n",
       "    [theme=dark] .colab-df-convert {\n",
       "      background-color: #3B4455;\n",
       "      fill: #D2E3FC;\n",
       "    }\n",
       "\n",
       "    [theme=dark] .colab-df-convert:hover {\n",
       "      background-color: #434B5C;\n",
       "      box-shadow: 0px 1px 3px 1px rgba(0, 0, 0, 0.15);\n",
       "      filter: drop-shadow(0px 1px 2px rgba(0, 0, 0, 0.3));\n",
       "      fill: #FFFFFF;\n",
       "    }\n",
       "  </style>\n",
       "\n",
       "      <script>\n",
       "        const buttonEl =\n",
       "          document.querySelector('#df-3c293571-61ab-4793-9e3f-e762a9bcb655 button.colab-df-convert');\n",
       "        buttonEl.style.display =\n",
       "          google.colab.kernel.accessAllowed ? 'block' : 'none';\n",
       "\n",
       "        async function convertToInteractive(key) {\n",
       "          const element = document.querySelector('#df-3c293571-61ab-4793-9e3f-e762a9bcb655');\n",
       "          const dataTable =\n",
       "            await google.colab.kernel.invokeFunction('convertToInteractive',\n",
       "                                                     [key], {});\n",
       "          if (!dataTable) return;\n",
       "\n",
       "          const docLinkHtml = 'Like what you see? Visit the ' +\n",
       "            '<a target=\"_blank\" href=https://colab.research.google.com/notebooks/data_table.ipynb>data table notebook</a>'\n",
       "            + ' to learn more about interactive tables.';\n",
       "          element.innerHTML = '';\n",
       "          dataTable['output_type'] = 'display_data';\n",
       "          await google.colab.output.renderOutput(dataTable, element);\n",
       "          const docLink = document.createElement('div');\n",
       "          docLink.innerHTML = docLinkHtml;\n",
       "          element.appendChild(docLink);\n",
       "        }\n",
       "      </script>\n",
       "    </div>\n",
       "  </div>\n",
       "  "
      ],
      "text/plain": [
       "                        NAME GENDER  YEAR   STREAM RESULT   ENG   DZO   PHY  \\\n",
       "625           BHUDHIMAN KAMI      M  2012  SCIENCE    PCA  55.0  58.0  48.0   \n",
       "626             GALEY ZANGPO      M  2012  SCIENCE    PCA  55.0  60.0  44.0   \n",
       "627  JAMYANG LHENDUP GAYLLEY      M  2012  SCIENCE    PCA  69.0  55.0  74.0   \n",
       "628            JIGME SAMDRUP      M  2012  SCIENCE    PCA  58.0  48.0  55.0   \n",
       "629          KARMA GYELTSHEN      M  2012  SCIENCE    PCA  64.0  58.0  55.0   \n",
       "\n",
       "      CHE  MATH   BIO  \n",
       "625  55.0  30.0  46.0  \n",
       "626  62.0  40.0  50.0  \n",
       "627  74.0  60.0  62.0  \n",
       "628  72.0  74.0   NaN  \n",
       "629  60.0  60.0  34.0  "
      ]
     },
     "execution_count": 423,
     "metadata": {},
     "output_type": "execute_result"
    }
   ],
   "source": [
    "df12 = df.groupby('YEAR')\n",
    "df12 = df12.get_group(2012)\n",
    "df12.head()"
   ]
  },
  {
   "cell_type": "markdown",
   "metadata": {
    "id": "JJoX4Uubmh9d"
   },
   "source": [
    "Average marks obtained"
   ]
  },
  {
   "cell_type": "code",
   "execution_count": 424,
   "metadata": {
    "id": "F4cevbFkmVSh"
   },
   "outputs": [],
   "source": [
    "eng12 = round(df12.ENG.mean(),1)\n",
    "dzo12 = round(df12.DZO.mean(),1)\n",
    "phy12 = round(df12.PHY.mean(),1)\n",
    "che12 = round(df12.CHE.mean(),1)\n",
    "math12 = round(df12.MATH.mean(),1)\n",
    "bio12 = round(df12.BIO.mean(),1)\n"
   ]
  },
  {
   "cell_type": "code",
   "execution_count": 425,
   "metadata": {
    "colab": {
     "base_uri": "https://localhost:8080/",
     "height": 296
    },
    "id": "dqlITLjM2jGp",
    "outputId": "3003e958-7391-4cd0-f60a-ff4b36281b1c"
   },
   "outputs": [
    {
     "data": {
      "text/plain": [
       "<function matplotlib.pyplot.show>"
      ]
     },
     "execution_count": 425,
     "metadata": {},
     "output_type": "execute_result"
    },
    {
     "data": {
      "image/png": "[encoded data removed]",
      "text/plain": [
       "<Figure size 432x288 with 1 Axes>"
      ]
     },
     "metadata": {
      "needs_background": "light"
     },
     "output_type": "display_data"
    }
   ],
   "source": [
    "marks=[eng12,dzo12,phy12,che12,math12,bio12]\n",
    "subject=['English','Dzongkha','Physics','Chemistry','Maths','Biology']\n",
    "plt.bar(subject,marks)\n",
    "for i in range(len(subject)):\n",
    "  plt.text(i,marks[i],marks[i],ha=\"center\",va=\"bottom\")\n",
    "plt.xlabel(\"Subjects\")\n",
    "plt.ylabel(\"Marks\")\n",
    "plt.show"
   ]
  },
  {
   "cell_type": "markdown",
   "metadata": {
    "id": "s0Irt1Jn3wwv"
   },
   "source": [
    "Total performance of the Students"
   ]
  },
  {
   "cell_type": "code",
   "execution_count": 462,
   "metadata": {
    "colab": {
     "base_uri": "https://localhost:8080/",
     "height": 312
    },
    "id": "glij01aj3b9a",
    "outputId": "0cac7440-a846-47bf-ab34-352033b8e5e9"
   },
   "outputs": [
    {
     "data": {
      "text/plain": [
       "<function matplotlib.pyplot.show>"
      ]
     },
     "execution_count": 462,
     "metadata": {},
     "output_type": "execute_result"
    },
    {
     "data": {
      "image/png": "[encoded data removed]",
      "text/plain": [
       "<Figure size 432x288 with 1 Axes>"
      ]
     },
     "metadata": {
      "needs_background": "light"
     },
     "output_type": "display_data"
    }
   ],
   "source": [
    "x = df12['RESULT'].unique()\n",
    "y=df12['RESULT'].value_counts()\n",
    "plt.bar(x,y)\n",
    "for i in range(len(x)):\n",
    "  plt.text(i,y[i],y[i],ha=\"center\",va = \"bottom\")\n",
    "plt.xlabel(\"Result Status\")\n",
    "plt.ylabel(\"No of Students\")\n",
    "plt.title(\"Total performance in 2012\")\n",
    "plt.show"
   ]
  },
  {
   "cell_type": "markdown",
   "metadata": {
    "id": "3GtkCJk_otPS"
   },
   "source": [
    "#2013 Analysis"
   ]
  },
  {
   "cell_type": "code",
   "execution_count": 464,
   "metadata": {
    "colab": {
     "base_uri": "https://localhost:8080/",
     "height": 206
    },
    "id": "dZEsGyPk22wH",
    "outputId": "d5bc88b1-a907-4272-f649-92c74d58807d"
   },
   "outputs": [
    {
     "data": {
      "text/html": [
       "\n",
       "  <div id=\"df-75380c3c-3980-4f6c-80f7-f691f51dd080\">\n",
       "    <div class=\"colab-df-container\">\n",
       "      <div>\n",
       "<style scoped>\n",
       "    .dataframe tbody tr th:only-of-type {\n",
       "        vertical-align: middle;\n",
       "    }\n",
       "\n",
       "    .dataframe tbody tr th {\n",
       "        vertical-align: top;\n",
       "    }\n",
       "\n",
       "    .dataframe thead th {\n",
       "        text-align: right;\n",
       "    }\n",
       "</style>\n",
       "<table border=\"1\" class=\"dataframe\">\n",
       "  <thead>\n",
       "    <tr style=\"text-align: right;\">\n",
       "      <th></th>\n",
       "      <th>NAME</th>\n",
       "      <th>GENDER</th>\n",
       "      <th>YEAR</th>\n",
       "      <th>STREAM</th>\n",
       "      <th>RESULT</th>\n",
       "      <th>ENG</th>\n",
       "      <th>DZO</th>\n",
       "      <th>PHY</th>\n",
       "      <th>CHE</th>\n",
       "      <th>MATH</th>\n",
       "      <th>BIO</th>\n",
       "    </tr>\n",
       "  </thead>\n",
       "  <tbody>\n",
       "    <tr>\n",
       "      <th>0</th>\n",
       "      <td>BASANT CHHETRI</td>\n",
       "      <td>M</td>\n",
       "      <td>2013</td>\n",
       "      <td>SCIENCE</td>\n",
       "      <td>PCA</td>\n",
       "      <td>62.0</td>\n",
       "      <td>25.0</td>\n",
       "      <td>46.0</td>\n",
       "      <td>50.0</td>\n",
       "      <td>20.0</td>\n",
       "      <td>44.0</td>\n",
       "    </tr>\n",
       "    <tr>\n",
       "      <th>1</th>\n",
       "      <td>BIK BAHADUR MONGAR</td>\n",
       "      <td>M</td>\n",
       "      <td>2013</td>\n",
       "      <td>SCIENCE</td>\n",
       "      <td>PCA</td>\n",
       "      <td>50.0</td>\n",
       "      <td>55.0</td>\n",
       "      <td>34.0</td>\n",
       "      <td>48.0</td>\n",
       "      <td>50.0</td>\n",
       "      <td>52.0</td>\n",
       "    </tr>\n",
       "    <tr>\n",
       "      <th>2</th>\n",
       "      <td>BIKASH NEPAL</td>\n",
       "      <td>M</td>\n",
       "      <td>2013</td>\n",
       "      <td>SCIENCE</td>\n",
       "      <td>PCA</td>\n",
       "      <td>55.0</td>\n",
       "      <td>55.0</td>\n",
       "      <td>62.0</td>\n",
       "      <td>69.0</td>\n",
       "      <td>90.0</td>\n",
       "      <td>NaN</td>\n",
       "    </tr>\n",
       "    <tr>\n",
       "      <th>3</th>\n",
       "      <td>BIR BDR. RAI</td>\n",
       "      <td>M</td>\n",
       "      <td>2013</td>\n",
       "      <td>SCIENCE</td>\n",
       "      <td>PCA</td>\n",
       "      <td>55.0</td>\n",
       "      <td>60.0</td>\n",
       "      <td>50.0</td>\n",
       "      <td>58.0</td>\n",
       "      <td>69.0</td>\n",
       "      <td>NaN</td>\n",
       "    </tr>\n",
       "    <tr>\n",
       "      <th>4</th>\n",
       "      <td>CHEKI DORJI</td>\n",
       "      <td>M</td>\n",
       "      <td>2013</td>\n",
       "      <td>SCIENCE</td>\n",
       "      <td>PCA</td>\n",
       "      <td>46.0</td>\n",
       "      <td>60.0</td>\n",
       "      <td>46.0</td>\n",
       "      <td>48.0</td>\n",
       "      <td>55.0</td>\n",
       "      <td>NaN</td>\n",
       "    </tr>\n",
       "  </tbody>\n",
       "</table>\n",
       "</div>\n",
       "      <button class=\"colab-df-convert\" onclick=\"convertToInteractive('df-75380c3c-3980-4f6c-80f7-f691f51dd080')\"\n",
       "              title=\"Convert this dataframe to an interactive table.\"\n",
       "              style=\"display:none;\">\n",
       "        \n",
       "  <svg xmlns=\"http://www.w3.org/2000/svg\" height=\"24px\"viewBox=\"0 0 24 24\"\n",
       "       width=\"24px\">\n",
       "    <path d=\"M0 0h24v24H0V0z\" fill=\"none\"/>\n",
       "    <path d=\"M18.56 5.44l.94 2.06.94-2.06 2.06-.94-2.06-.94-.94-2.06-.94 2.06-2.06.94zm-11 1L8.5 8.5l.94-2.06 2.06-.94-2.06-.94L8.5 2.5l-.94 2.06-2.06.94zm10 10l.94 2.06.94-2.06 2.06-.94-2.06-.94-.94-2.06-.94 2.06-2.06.94z\"/><path d=\"M17.41 7.96l-1.37-1.37c-.4-.4-.92-.59-1.43-.59-.52 0-1.04.2-1.43.59L10.3 9.45l-7.72 7.72c-.78.78-.78 2.05 0 2.83L4 21.41c.39.39.9.59 1.41.59.51 0 1.02-.2 1.41-.59l7.78-7.78 2.81-2.81c.8-.78.8-2.07 0-2.86zM5.41 20L4 18.59l7.72-7.72 1.47 1.35L5.41 20z\"/>\n",
       "  </svg>\n",
       "      </button>\n",
       "      \n",
       "  <style>\n",
       "    .colab-df-container {\n",
       "      display:flex;\n",
       "      flex-wrap:wrap;\n",
       "      gap: 12px;\n",
       "    }\n",
       "\n",
       "    .colab-df-convert {\n",
       "      background-color: #E8F0FE;\n",
       "      border: none;\n",
       "      border-radius: 50%;\n",
       "      cursor: pointer;\n",
       "      display: none;\n",
       "      fill: #1967D2;\n",
       "      height: 32px;\n",
       "      padding: 0 0 0 0;\n",
       "      width: 32px;\n",
       "    }\n",
       "\n",
       "    .colab-df-convert:hover {\n",
       "      background-color: #E2EBFA;\n",
       "      box-shadow: 0px 1px 2px rgba(60, 64, 67, 0.3), 0px 1px 3px 1px rgba(60, 64, 67, 0.15);\n",
       "      fill: #174EA6;\n",
       "    }\n",
       "\n",
       "    [theme=dark] .colab-df-convert {\n",
       "      background-color: #3B4455;\n",
       "      fill: #D2E3FC;\n",
       "    }\n",
       "\n",
       "    [theme=dark] .colab-df-convert:hover {\n",
       "      background-color: #434B5C;\n",
       "      box-shadow: 0px 1px 3px 1px rgba(0, 0, 0, 0.15);\n",
       "      filter: drop-shadow(0px 1px 2px rgba(0, 0, 0, 0.3));\n",
       "      fill: #FFFFFF;\n",
       "    }\n",
       "  </style>\n",
       "\n",
       "      <script>\n",
       "        const buttonEl =\n",
       "          document.querySelector('#df-75380c3c-3980-4f6c-80f7-f691f51dd080 button.colab-df-convert');\n",
       "        buttonEl.style.display =\n",
       "          google.colab.kernel.accessAllowed ? 'block' : 'none';\n",
       "\n",
       "        async function convertToInteractive(key) {\n",
       "          const element = document.querySelector('#df-75380c3c-3980-4f6c-80f7-f691f51dd080');\n",
       "          const dataTable =\n",
       "            await google.colab.kernel.invokeFunction('convertToInteractive',\n",
       "                                                     [key], {});\n",
       "          if (!dataTable) return;\n",
       "\n",
       "          const docLinkHtml = 'Like what you see? Visit the ' +\n",
       "            '<a target=\"_blank\" href=https://colab.research.google.com/notebooks/data_table.ipynb>data table notebook</a>'\n",
       "            + ' to learn more about interactive tables.';\n",
       "          element.innerHTML = '';\n",
       "          dataTable['output_type'] = 'display_data';\n",
       "          await google.colab.output.renderOutput(dataTable, element);\n",
       "          const docLink = document.createElement('div');\n",
       "          docLink.innerHTML = docLinkHtml;\n",
       "          element.appendChild(docLink);\n",
       "        }\n",
       "      </script>\n",
       "    </div>\n",
       "  </div>\n",
       "  "
      ],
      "text/plain": [
       "                 NAME GENDER  YEAR   STREAM RESULT   ENG   DZO   PHY   CHE  \\\n",
       "0      BASANT CHHETRI      M  2013  SCIENCE    PCA  62.0  25.0  46.0  50.0   \n",
       "1  BIK BAHADUR MONGAR      M  2013  SCIENCE    PCA  50.0  55.0  34.0  48.0   \n",
       "2        BIKASH NEPAL      M  2013  SCIENCE    PCA  55.0  55.0  62.0  69.0   \n",
       "3        BIR BDR. RAI      M  2013  SCIENCE    PCA  55.0  60.0  50.0  58.0   \n",
       "4         CHEKI DORJI      M  2013  SCIENCE    PCA  46.0  60.0  46.0  48.0   \n",
       "\n",
       "   MATH   BIO  \n",
       "0  20.0  44.0  \n",
       "1  50.0  52.0  \n",
       "2  90.0   NaN  \n",
       "3  69.0   NaN  \n",
       "4  55.0   NaN  "
      ]
     },
     "execution_count": 464,
     "metadata": {},
     "output_type": "execute_result"
    }
   ],
   "source": [
    "df13 = df.groupby('YEAR')\n",
    "df13 = df13.get_group(2013)\n",
    "df13.head()\n"
   ]
  },
  {
   "cell_type": "markdown",
   "metadata": {
    "id": "bqZgbaFvo8yD"
   },
   "source": [
    "Marks obtained"
   ]
  },
  {
   "cell_type": "code",
   "execution_count": 465,
   "metadata": {
    "id": "95rrbFImo0g4"
   },
   "outputs": [],
   "source": [
    "eng13 = round(df13.ENG.mean(),1)\n",
    "dzo13 = round(df13.DZO.mean(),1)\n",
    "phy13 = round(df13.PHY.mean(),1)\n",
    "che13 = round(df13.CHE.mean(),1)\n",
    "math13 = round(df13.MATH.mean(),1)\n",
    "bio13 = round(df13.BIO.mean(),1)\n"
   ]
  },
  {
   "cell_type": "code",
   "execution_count": 466,
   "metadata": {
    "colab": {
     "base_uri": "https://localhost:8080/",
     "height": 296
    },
    "id": "t0DXXXtcpB0K",
    "outputId": "ebd2a3c1-b8bf-42d0-b717-88807ef516ce"
   },
   "outputs": [
    {
     "data": {
      "text/plain": [
       "<function matplotlib.pyplot.show>"
      ]
     },
     "execution_count": 466,
     "metadata": {},
     "output_type": "execute_result"
    },
    {
     "data": {
      "image/png": "[encoded data removed]",
      "text/plain": [
       "<Figure size 432x288 with 1 Axes>"
      ]
     },
     "metadata": {
      "needs_background": "light"
     },
     "output_type": "display_data"
    }
   ],
   "source": [
    "marks=[eng13,dzo13,phy13,che13,math13,bio13]\n",
    "subject=['English','Dzongkha','Physics','Chemistry','Maths','Biology']\n",
    "plt.bar(subject,marks)\n",
    "for i in range(len(subject)):\n",
    "  plt.text(i,marks[i],marks[i],ha=\"center\",va=\"bottom\")\n",
    "plt.xlabel(\"Subjects\")\n",
    "plt.ylabel(\"Marks obtained\")\n",
    "plt.show"
   ]
  },
  {
   "cell_type": "code",
   "execution_count": 467,
   "metadata": {
    "colab": {
     "base_uri": "https://localhost:8080/",
     "height": 312
    },
    "id": "g0LyJST44l-n",
    "outputId": "2af1b1b2-20a4-4489-f35c-6463c2a3fa8a"
   },
   "outputs": [
    {
     "data": {
      "text/plain": [
       "<function matplotlib.pyplot.show>"
      ]
     },
     "execution_count": 467,
     "metadata": {},
     "output_type": "execute_result"
    },
    {
     "data": {
      "image/png": "[encoded data removed]",
      "text/plain": [
       "<Figure size 432x288 with 1 Axes>"
      ]
     },
     "metadata": {
      "needs_background": "light"
     },
     "output_type": "display_data"
    }
   ],
   "source": [
    "x = df13['RESULT'].unique()\n",
    "y=df13['RESULT'].value_counts()\n",
    "plt.bar(x,y)\n",
    "for i in range(len(x)):\n",
    "  plt.text(i,y[i],y[i],ha=\"center\",va = \"bottom\")\n",
    "plt.xlabel(\"Result Status\")\n",
    "plt.ylabel(\"No of Students\")\n",
    "plt.title(\"Total performance in 2013\")\n",
    "plt.show"
   ]
  },
  {
   "cell_type": "markdown",
   "metadata": {
    "id": "wFDUsqdy7rJU"
   },
   "source": [
    "#2014 Analysis"
   ]
  },
  {
   "cell_type": "code",
   "execution_count": 484,
   "metadata": {
    "id": "1L83tu937qVN"
   },
   "outputs": [],
   "source": []
  },
  {
   "cell_type": "markdown",
   "metadata": {
    "id": "gLlsYeKDtxoJ"
   },
   "source": [
    "#2015 Analysis"
   ]
  },
  {
   "cell_type": "code",
   "execution_count": 429,
   "metadata": {
    "colab": {
     "base_uri": "https://localhost:8080/",
     "height": 206
    },
    "id": "kxO4OWpashW3",
    "outputId": "51a675b6-4f22-416a-9ef3-f0c49cbeafb4"
   },
   "outputs": [
    {
     "data": {
      "text/html": [
       "\n",
       "  <div id=\"df-141e4e56-6e0f-49d6-b78d-3f298e4adc93\">\n",
       "    <div class=\"colab-df-container\">\n",
       "      <div>\n",
       "<style scoped>\n",
       "    .dataframe tbody tr th:only-of-type {\n",
       "        vertical-align: middle;\n",
       "    }\n",
       "\n",
       "    .dataframe tbody tr th {\n",
       "        vertical-align: top;\n",
       "    }\n",
       "\n",
       "    .dataframe thead th {\n",
       "        text-align: right;\n",
       "    }\n",
       "</style>\n",
       "<table border=\"1\" class=\"dataframe\">\n",
       "  <thead>\n",
       "    <tr style=\"text-align: right;\">\n",
       "      <th></th>\n",
       "      <th>NAME</th>\n",
       "      <th>GENDER</th>\n",
       "      <th>YEAR</th>\n",
       "      <th>STREAM</th>\n",
       "      <th>RESULT</th>\n",
       "      <th>ENG</th>\n",
       "      <th>DZO</th>\n",
       "      <th>PHY</th>\n",
       "      <th>CHE</th>\n",
       "      <th>MATH</th>\n",
       "      <th>BIO</th>\n",
       "    </tr>\n",
       "  </thead>\n",
       "  <tbody>\n",
       "    <tr>\n",
       "      <th>536</th>\n",
       "      <td>AYUSH MISHRA</td>\n",
       "      <td>M</td>\n",
       "      <td>2015</td>\n",
       "      <td>SCIENCE</td>\n",
       "      <td>PCA</td>\n",
       "      <td>66.0</td>\n",
       "      <td>50.0</td>\n",
       "      <td>91.0</td>\n",
       "      <td>77.0</td>\n",
       "      <td>95.0</td>\n",
       "      <td>NaN</td>\n",
       "    </tr>\n",
       "    <tr>\n",
       "      <th>537</th>\n",
       "      <td>CHETEN TSHERING</td>\n",
       "      <td>M</td>\n",
       "      <td>2015</td>\n",
       "      <td>SCIENCE</td>\n",
       "      <td>PCA</td>\n",
       "      <td>60.0</td>\n",
       "      <td>65.0</td>\n",
       "      <td>78.0</td>\n",
       "      <td>50.0</td>\n",
       "      <td>52.0</td>\n",
       "      <td>NaN</td>\n",
       "    </tr>\n",
       "    <tr>\n",
       "      <th>538</th>\n",
       "      <td>CHIMI WANGCHUK</td>\n",
       "      <td>M</td>\n",
       "      <td>2015</td>\n",
       "      <td>SCIENCE</td>\n",
       "      <td>PCA</td>\n",
       "      <td>69.0</td>\n",
       "      <td>65.0</td>\n",
       "      <td>69.0</td>\n",
       "      <td>70.0</td>\n",
       "      <td>72.0</td>\n",
       "      <td>68.0</td>\n",
       "    </tr>\n",
       "    <tr>\n",
       "      <th>539</th>\n",
       "      <td>DIWASH CHHETRI</td>\n",
       "      <td>M</td>\n",
       "      <td>2015</td>\n",
       "      <td>SCIENCE</td>\n",
       "      <td>PCA</td>\n",
       "      <td>63.0</td>\n",
       "      <td>41.0</td>\n",
       "      <td>76.0</td>\n",
       "      <td>75.0</td>\n",
       "      <td>43.0</td>\n",
       "      <td>76.0</td>\n",
       "    </tr>\n",
       "    <tr>\n",
       "      <th>540</th>\n",
       "      <td>DORJEEY WANGCHUK</td>\n",
       "      <td>M</td>\n",
       "      <td>2015</td>\n",
       "      <td>SCIENCE</td>\n",
       "      <td>PCA</td>\n",
       "      <td>60.0</td>\n",
       "      <td>67.0</td>\n",
       "      <td>47.0</td>\n",
       "      <td>42.0</td>\n",
       "      <td>55.0</td>\n",
       "      <td>NaN</td>\n",
       "    </tr>\n",
       "  </tbody>\n",
       "</table>\n",
       "</div>\n",
       "      <button class=\"colab-df-convert\" onclick=\"convertToInteractive('df-141e4e56-6e0f-49d6-b78d-3f298e4adc93')\"\n",
       "              title=\"Convert this dataframe to an interactive table.\"\n",
       "              style=\"display:none;\">\n",
       "        \n",
       "  <svg xmlns=\"http://www.w3.org/2000/svg\" height=\"24px\"viewBox=\"0 0 24 24\"\n",
       "       width=\"24px\">\n",
       "    <path d=\"M0 0h24v24H0V0z\" fill=\"none\"/>\n",
       "    <path d=\"M18.56 5.44l.94 2.06.94-2.06 2.06-.94-2.06-.94-.94-2.06-.94 2.06-2.06.94zm-11 1L8.5 8.5l.94-2.06 2.06-.94-2.06-.94L8.5 2.5l-.94 2.06-2.06.94zm10 10l.94 2.06.94-2.06 2.06-.94-2.06-.94-.94-2.06-.94 2.06-2.06.94z\"/><path d=\"M17.41 7.96l-1.37-1.37c-.4-.4-.92-.59-1.43-.59-.52 0-1.04.2-1.43.59L10.3 9.45l-7.72 7.72c-.78.78-.78 2.05 0 2.83L4 21.41c.39.39.9.59 1.41.59.51 0 1.02-.2 1.41-.59l7.78-7.78 2.81-2.81c.8-.78.8-2.07 0-2.86zM5.41 20L4 18.59l7.72-7.72 1.47 1.35L5.41 20z\"/>\n",
       "  </svg>\n",
       "      </button>\n",
       "      \n",
       "  <style>\n",
       "    .colab-df-container {\n",
       "      display:flex;\n",
       "      flex-wrap:wrap;\n",
       "      gap: 12px;\n",
       "    }\n",
       "\n",
       "    .colab-df-convert {\n",
       "      background-color: #E8F0FE;\n",
       "      border: none;\n",
       "      border-radius: 50%;\n",
       "      cursor: pointer;\n",
       "      display: none;\n",
       "      fill: #1967D2;\n",
       "      height: 32px;\n",
       "      padding: 0 0 0 0;\n",
       "      width: 32px;\n",
       "    }\n",
       "\n",
       "    .colab-df-convert:hover {\n",
       "      background-color: #E2EBFA;\n",
       "      box-shadow: 0px 1px 2px rgba(60, 64, 67, 0.3), 0px 1px 3px 1px rgba(60, 64, 67, 0.15);\n",
       "      fill: #174EA6;\n",
       "    }\n",
       "\n",
       "    [theme=dark] .colab-df-convert {\n",
       "      background-color: #3B4455;\n",
       "      fill: #D2E3FC;\n",
       "    }\n",
       "\n",
       "    [theme=dark] .colab-df-convert:hover {\n",
       "      background-color: #434B5C;\n",
       "      box-shadow: 0px 1px 3px 1px rgba(0, 0, 0, 0.15);\n",
       "      filter: drop-shadow(0px 1px 2px rgba(0, 0, 0, 0.3));\n",
       "      fill: #FFFFFF;\n",
       "    }\n",
       "  </style>\n",
       "\n",
       "      <script>\n",
       "        const buttonEl =\n",
       "          document.querySelector('#df-141e4e56-6e0f-49d6-b78d-3f298e4adc93 button.colab-df-convert');\n",
       "        buttonEl.style.display =\n",
       "          google.colab.kernel.accessAllowed ? 'block' : 'none';\n",
       "\n",
       "        async function convertToInteractive(key) {\n",
       "          const element = document.querySelector('#df-141e4e56-6e0f-49d6-b78d-3f298e4adc93');\n",
       "          const dataTable =\n",
       "            await google.colab.kernel.invokeFunction('convertToInteractive',\n",
       "                                                     [key], {});\n",
       "          if (!dataTable) return;\n",
       "\n",
       "          const docLinkHtml = 'Like what you see? Visit the ' +\n",
       "            '<a target=\"_blank\" href=https://colab.research.google.com/notebooks/data_table.ipynb>data table notebook</a>'\n",
       "            + ' to learn more about interactive tables.';\n",
       "          element.innerHTML = '';\n",
       "          dataTable['output_type'] = 'display_data';\n",
       "          await google.colab.output.renderOutput(dataTable, element);\n",
       "          const docLink = document.createElement('div');\n",
       "          docLink.innerHTML = docLinkHtml;\n",
       "          element.appendChild(docLink);\n",
       "        }\n",
       "      </script>\n",
       "    </div>\n",
       "  </div>\n",
       "  "
      ],
      "text/plain": [
       "                 NAME GENDER  YEAR   STREAM RESULT   ENG   DZO   PHY   CHE  \\\n",
       "536      AYUSH MISHRA      M  2015  SCIENCE    PCA  66.0  50.0  91.0  77.0   \n",
       "537   CHETEN TSHERING      M  2015  SCIENCE    PCA  60.0  65.0  78.0  50.0   \n",
       "538    CHIMI WANGCHUK      M  2015  SCIENCE    PCA  69.0  65.0  69.0  70.0   \n",
       "539    DIWASH CHHETRI      M  2015  SCIENCE    PCA  63.0  41.0  76.0  75.0   \n",
       "540  DORJEEY WANGCHUK      M  2015  SCIENCE    PCA  60.0  67.0  47.0  42.0   \n",
       "\n",
       "     MATH   BIO  \n",
       "536  95.0   NaN  \n",
       "537  52.0   NaN  \n",
       "538  72.0  68.0  \n",
       "539  43.0  76.0  \n",
       "540  55.0   NaN  "
      ]
     },
     "execution_count": 429,
     "metadata": {},
     "output_type": "execute_result"
    }
   ],
   "source": [
    "df15 = df.groupby('YEAR')\n",
    "df15 = df15.get_group(2015)\n",
    "df15.head()"
   ]
  },
  {
   "cell_type": "markdown",
   "metadata": {
    "id": "yxZKoPyvvC-8"
   },
   "source": [
    "Marks obtained"
   ]
  },
  {
   "cell_type": "code",
   "execution_count": 430,
   "metadata": {
    "id": "6J3zdCIAvHu3"
   },
   "outputs": [],
   "source": [
    "eng15 = round(df15.ENG.mean(),1)\n",
    "dzo15 = round(df15.DZO.mean(),1)\n",
    "phy15 = round(df15.PHY.mean(),1)\n",
    "che15 = round(df15.CHE.mean(),1)\n",
    "math15 = round(df15.MATH.mean(),1)\n",
    "bio15 = round(df15.BIO.mean(),1)\n"
   ]
  },
  {
   "cell_type": "code",
   "execution_count": 431,
   "metadata": {
    "colab": {
     "base_uri": "https://localhost:8080/",
     "height": 296
    },
    "id": "u8b3e6z7ybbG",
    "outputId": "00acdf8a-94a5-4c1e-9178-cf4df3948136"
   },
   "outputs": [
    {
     "data": {
      "text/plain": [
       "<function matplotlib.pyplot.show>"
      ]
     },
     "execution_count": 431,
     "metadata": {},
     "output_type": "execute_result"
    },
    {
     "data": {
      "image/png": "[encoded data removed]",
      "text/plain": [
       "<Figure size 432x288 with 1 Axes>"
      ]
     },
     "metadata": {
      "needs_background": "light"
     },
     "output_type": "display_data"
    }
   ],
   "source": [
    "marks=[eng15,dzo15,phy15,che15,math15,bio15]\n",
    "subject=['English','Dzongkha','Physics','Chemistry','Maths','Biology']\n",
    "plt.bar(subject,marks)\n",
    "for i in range(len(subject)):\n",
    "  plt.text(i,marks[i],marks[i],ha=\"center\",va=\"bottom\")\n",
    "plt.xlabel(\"Subjects\")\n",
    "plt.ylabel(\"Marks obtained\")\n",
    "plt.show"
   ]
  },
  {
   "cell_type": "code",
   "execution_count": 468,
   "metadata": {
    "colab": {
     "base_uri": "https://localhost:8080/",
     "height": 312
    },
    "id": "nM9Y0IRc4ueG",
    "outputId": "870f7a3f-9424-4b33-cc72-8fa86df26618"
   },
   "outputs": [
    {
     "data": {
      "text/plain": [
       "<function matplotlib.pyplot.show>"
      ]
     },
     "execution_count": 468,
     "metadata": {},
     "output_type": "execute_result"
    },
    {
     "data": {
      "image/png": "[encoded data removed]",
      "text/plain": [
       "<Figure size 432x288 with 1 Axes>"
      ]
     },
     "metadata": {
      "needs_background": "light"
     },
     "output_type": "display_data"
    }
   ],
   "source": [
    "x = df15['RESULT'].unique()\n",
    "y=df15['RESULT'].value_counts()\n",
    "plt.bar(x,y)\n",
    "for i in range(len(x)):\n",
    "  plt.text(i,y[i],y[i],ha=\"center\",va = \"bottom\")\n",
    "plt.xlabel(\"Result Status\")\n",
    "plt.ylabel(\"No of Students\")\n",
    "plt.title(\"Total performance in 2015\")\n",
    "plt.show"
   ]
  },
  {
   "cell_type": "markdown",
   "metadata": {
    "id": "02idszRkyzVg"
   },
   "source": [
    "#2016 Analysis"
   ]
  },
  {
   "cell_type": "code",
   "execution_count": 432,
   "metadata": {
    "colab": {
     "base_uri": "https://localhost:8080/",
     "height": 206
    },
    "id": "nwq8Gkryyy-8",
    "outputId": "4c1e7469-e1e8-455e-8af8-51fa3ebe0ac8"
   },
   "outputs": [
    {
     "data": {
      "text/html": [
       "\n",
       "  <div id=\"df-4f373226-6f76-41cc-967b-7aa8dbe9d630\">\n",
       "    <div class=\"colab-df-container\">\n",
       "      <div>\n",
       "<style scoped>\n",
       "    .dataframe tbody tr th:only-of-type {\n",
       "        vertical-align: middle;\n",
       "    }\n",
       "\n",
       "    .dataframe tbody tr th {\n",
       "        vertical-align: top;\n",
       "    }\n",
       "\n",
       "    .dataframe thead th {\n",
       "        text-align: right;\n",
       "    }\n",
       "</style>\n",
       "<table border=\"1\" class=\"dataframe\">\n",
       "  <thead>\n",
       "    <tr style=\"text-align: right;\">\n",
       "      <th></th>\n",
       "      <th>NAME</th>\n",
       "      <th>GENDER</th>\n",
       "      <th>YEAR</th>\n",
       "      <th>STREAM</th>\n",
       "      <th>RESULT</th>\n",
       "      <th>ENG</th>\n",
       "      <th>DZO</th>\n",
       "      <th>PHY</th>\n",
       "      <th>CHE</th>\n",
       "      <th>MATH</th>\n",
       "      <th>BIO</th>\n",
       "    </tr>\n",
       "  </thead>\n",
       "  <tbody>\n",
       "    <tr>\n",
       "      <th>0</th>\n",
       "      <td>ARPAN MONGER</td>\n",
       "      <td>M</td>\n",
       "      <td>2016</td>\n",
       "      <td>SCIENCE</td>\n",
       "      <td>PCA</td>\n",
       "      <td>54.0</td>\n",
       "      <td>52.0</td>\n",
       "      <td>42.0</td>\n",
       "      <td>45.0</td>\n",
       "      <td>51.0</td>\n",
       "      <td>NaN</td>\n",
       "    </tr>\n",
       "    <tr>\n",
       "      <th>1</th>\n",
       "      <td>BIK RAM GURUNG</td>\n",
       "      <td>M</td>\n",
       "      <td>2016</td>\n",
       "      <td>SCIENCE</td>\n",
       "      <td>PCNA</td>\n",
       "      <td>50.0</td>\n",
       "      <td>54.0</td>\n",
       "      <td>47.0</td>\n",
       "      <td>35.0</td>\n",
       "      <td>22.0</td>\n",
       "      <td>NaN</td>\n",
       "    </tr>\n",
       "    <tr>\n",
       "      <th>2</th>\n",
       "      <td>BINOD KATEL</td>\n",
       "      <td>M</td>\n",
       "      <td>2016</td>\n",
       "      <td>SCIENCE</td>\n",
       "      <td>PCNA</td>\n",
       "      <td>45.0</td>\n",
       "      <td>41.0</td>\n",
       "      <td>43.0</td>\n",
       "      <td>31.0</td>\n",
       "      <td>35.0</td>\n",
       "      <td>NaN</td>\n",
       "    </tr>\n",
       "    <tr>\n",
       "      <th>3</th>\n",
       "      <td>KARMA TANDIN DORJI</td>\n",
       "      <td>M</td>\n",
       "      <td>2016</td>\n",
       "      <td>SCIENCE</td>\n",
       "      <td>PCA</td>\n",
       "      <td>55.0</td>\n",
       "      <td>56.0</td>\n",
       "      <td>67.0</td>\n",
       "      <td>57.0</td>\n",
       "      <td>70.0</td>\n",
       "      <td>NaN</td>\n",
       "    </tr>\n",
       "    <tr>\n",
       "      <th>4</th>\n",
       "      <td>KINLEY PENJOR</td>\n",
       "      <td>M</td>\n",
       "      <td>2016</td>\n",
       "      <td>SCIENCE</td>\n",
       "      <td>PCA</td>\n",
       "      <td>56.0</td>\n",
       "      <td>76.0</td>\n",
       "      <td>60.0</td>\n",
       "      <td>48.0</td>\n",
       "      <td>67.0</td>\n",
       "      <td>NaN</td>\n",
       "    </tr>\n",
       "  </tbody>\n",
       "</table>\n",
       "</div>\n",
       "      <button class=\"colab-df-convert\" onclick=\"convertToInteractive('df-4f373226-6f76-41cc-967b-7aa8dbe9d630')\"\n",
       "              title=\"Convert this dataframe to an interactive table.\"\n",
       "              style=\"display:none;\">\n",
       "        \n",
       "  <svg xmlns=\"http://www.w3.org/2000/svg\" height=\"24px\"viewBox=\"0 0 24 24\"\n",
       "       width=\"24px\">\n",
       "    <path d=\"M0 0h24v24H0V0z\" fill=\"none\"/>\n",
       "    <path d=\"M18.56 5.44l.94 2.06.94-2.06 2.06-.94-2.06-.94-.94-2.06-.94 2.06-2.06.94zm-11 1L8.5 8.5l.94-2.06 2.06-.94-2.06-.94L8.5 2.5l-.94 2.06-2.06.94zm10 10l.94 2.06.94-2.06 2.06-.94-2.06-.94-.94-2.06-.94 2.06-2.06.94z\"/><path d=\"M17.41 7.96l-1.37-1.37c-.4-.4-.92-.59-1.43-.59-.52 0-1.04.2-1.43.59L10.3 9.45l-7.72 7.72c-.78.78-.78 2.05 0 2.83L4 21.41c.39.39.9.59 1.41.59.51 0 1.02-.2 1.41-.59l7.78-7.78 2.81-2.81c.8-.78.8-2.07 0-2.86zM5.41 20L4 18.59l7.72-7.72 1.47 1.35L5.41 20z\"/>\n",
       "  </svg>\n",
       "      </button>\n",
       "      \n",
       "  <style>\n",
       "    .colab-df-container {\n",
       "      display:flex;\n",
       "      flex-wrap:wrap;\n",
       "      gap: 12px;\n",
       "    }\n",
       "\n",
       "    .colab-df-convert {\n",
       "      background-color: #E8F0FE;\n",
       "      border: none;\n",
       "      border-radius: 50%;\n",
       "      cursor: pointer;\n",
       "      display: none;\n",
       "      fill: #1967D2;\n",
       "      height: 32px;\n",
       "      padding: 0 0 0 0;\n",
       "      width: 32px;\n",
       "    }\n",
       "\n",
       "    .colab-df-convert:hover {\n",
       "      background-color: #E2EBFA;\n",
       "      box-shadow: 0px 1px 2px rgba(60, 64, 67, 0.3), 0px 1px 3px 1px rgba(60, 64, 67, 0.15);\n",
       "      fill: #174EA6;\n",
       "    }\n",
       "\n",
       "    [theme=dark] .colab-df-convert {\n",
       "      background-color: #3B4455;\n",
       "      fill: #D2E3FC;\n",
       "    }\n",
       "\n",
       "    [theme=dark] .colab-df-convert:hover {\n",
       "      background-color: #434B5C;\n",
       "      box-shadow: 0px 1px 3px 1px rgba(0, 0, 0, 0.15);\n",
       "      filter: drop-shadow(0px 1px 2px rgba(0, 0, 0, 0.3));\n",
       "      fill: #FFFFFF;\n",
       "    }\n",
       "  </style>\n",
       "\n",
       "      <script>\n",
       "        const buttonEl =\n",
       "          document.querySelector('#df-4f373226-6f76-41cc-967b-7aa8dbe9d630 button.colab-df-convert');\n",
       "        buttonEl.style.display =\n",
       "          google.colab.kernel.accessAllowed ? 'block' : 'none';\n",
       "\n",
       "        async function convertToInteractive(key) {\n",
       "          const element = document.querySelector('#df-4f373226-6f76-41cc-967b-7aa8dbe9d630');\n",
       "          const dataTable =\n",
       "            await google.colab.kernel.invokeFunction('convertToInteractive',\n",
       "                                                     [key], {});\n",
       "          if (!dataTable) return;\n",
       "\n",
       "          const docLinkHtml = 'Like what you see? Visit the ' +\n",
       "            '<a target=\"_blank\" href=https://colab.research.google.com/notebooks/data_table.ipynb>data table notebook</a>'\n",
       "            + ' to learn more about interactive tables.';\n",
       "          element.innerHTML = '';\n",
       "          dataTable['output_type'] = 'display_data';\n",
       "          await google.colab.output.renderOutput(dataTable, element);\n",
       "          const docLink = document.createElement('div');\n",
       "          docLink.innerHTML = docLinkHtml;\n",
       "          element.appendChild(docLink);\n",
       "        }\n",
       "      </script>\n",
       "    </div>\n",
       "  </div>\n",
       "  "
      ],
      "text/plain": [
       "                 NAME GENDER  YEAR   STREAM RESULT   ENG   DZO   PHY   CHE  \\\n",
       "0        ARPAN MONGER      M  2016  SCIENCE    PCA  54.0  52.0  42.0  45.0   \n",
       "1      BIK RAM GURUNG      M  2016  SCIENCE   PCNA  50.0  54.0  47.0  35.0   \n",
       "2         BINOD KATEL      M  2016  SCIENCE   PCNA  45.0  41.0  43.0  31.0   \n",
       "3  KARMA TANDIN DORJI      M  2016  SCIENCE    PCA  55.0  56.0  67.0  57.0   \n",
       "4       KINLEY PENJOR      M  2016  SCIENCE    PCA  56.0  76.0  60.0  48.0   \n",
       "\n",
       "   MATH  BIO  \n",
       "0  51.0  NaN  \n",
       "1  22.0  NaN  \n",
       "2  35.0  NaN  \n",
       "3  70.0  NaN  \n",
       "4  67.0  NaN  "
      ]
     },
     "execution_count": 432,
     "metadata": {},
     "output_type": "execute_result"
    }
   ],
   "source": [
    "df16 = df.groupby('YEAR')\n",
    "df16 = df16.get_group(2016)\n",
    "df16.head()"
   ]
  },
  {
   "cell_type": "code",
   "execution_count": 433,
   "metadata": {
    "id": "Ml-LeLAgzAhw"
   },
   "outputs": [],
   "source": [
    "eng16 = round(df16.ENG.mean(),1)\n",
    "dzo16 = round(df16.DZO.mean(),1)\n",
    "phy16 = round(df16.PHY.mean(),1)\n",
    "che16 = round(df16.CHE.mean(),1)\n",
    "math16 = round(df16.MATH.mean(),1)\n",
    "bio16 = round(df16.BIO.mean(),2)\n"
   ]
  },
  {
   "cell_type": "code",
   "execution_count": 469,
   "metadata": {
    "colab": {
     "base_uri": "https://localhost:8080/",
     "height": 312
    },
    "id": "1kf28CAzzAeM",
    "outputId": "e88eca86-207b-49b2-aa08-2b47a29ebc81"
   },
   "outputs": [
    {
     "data": {
      "text/plain": [
       "<function matplotlib.pyplot.show>"
      ]
     },
     "execution_count": 469,
     "metadata": {},
     "output_type": "execute_result"
    },
    {
     "data": {
      "image/png": "[encoded data removed]",
      "text/plain": [
       "<Figure size 432x288 with 1 Axes>"
      ]
     },
     "metadata": {
      "needs_background": "light"
     },
     "output_type": "display_data"
    }
   ],
   "source": [
    "marks=[eng16,dzo16,phy16,che16,math16,bio16]\n",
    "subject=['English','Dzongkha','Physics','Chemistry','Maths','Biology']\n",
    "plt.bar(subject,marks)\n",
    "for i in range(len(subject)):\n",
    "  plt.text(i,marks[i],marks[i],ha=\"center\",va=\"bottom\")\n",
    "plt.xlabel(\"Subjects\")\n",
    "plt.title(\"Average marks scored\")\n",
    "plt.ylabel(\"Marks obtained\")\n",
    "plt.show"
   ]
  },
  {
   "cell_type": "code",
   "execution_count": 470,
   "metadata": {
    "colab": {
     "base_uri": "https://localhost:8080/",
     "height": 312
    },
    "id": "iBh8LOqz5mEF",
    "outputId": "a3897d57-cbb4-44a1-ff6c-ad1385935a1d"
   },
   "outputs": [
    {
     "data": {
      "text/plain": [
       "<function matplotlib.pyplot.show>"
      ]
     },
     "execution_count": 470,
     "metadata": {},
     "output_type": "execute_result"
    },
    {
     "data": {
      "image/png": "[encoded data removed]",
      "text/plain": [
       "<Figure size 432x288 with 1 Axes>"
      ]
     },
     "metadata": {
      "needs_background": "light"
     },
     "output_type": "display_data"
    }
   ],
   "source": [
    "x = df16['RESULT'].unique()\n",
    "y=df16['RESULT'].value_counts()\n",
    "plt.bar(x,y)\n",
    "for i in range(len(x)):\n",
    "  plt.text(i,y[i],y[i],ha=\"center\",va = \"bottom\")\n",
    "plt.xlabel(\"Result Status\")\n",
    "plt.ylabel(\"No of Students\")\n",
    "plt.title(\"Total performance in 2016\")\n",
    "plt.show"
   ]
  },
  {
   "cell_type": "markdown",
   "metadata": {
    "id": "joaPV_WGz0tf"
   },
   "source": [
    "#2017 Analysis"
   ]
  },
  {
   "cell_type": "code",
   "execution_count": 435,
   "metadata": {
    "colab": {
     "base_uri": "https://localhost:8080/",
     "height": 206
    },
    "id": "8LdnK13nz4fa",
    "outputId": "aff311d3-9917-454a-a117-e0e3169c8c83"
   },
   "outputs": [
    {
     "data": {
      "text/html": [
       "\n",
       "  <div id=\"df-3780f953-424e-484b-adb4-b730add531b3\">\n",
       "    <div class=\"colab-df-container\">\n",
       "      <div>\n",
       "<style scoped>\n",
       "    .dataframe tbody tr th:only-of-type {\n",
       "        vertical-align: middle;\n",
       "    }\n",
       "\n",
       "    .dataframe tbody tr th {\n",
       "        vertical-align: top;\n",
       "    }\n",
       "\n",
       "    .dataframe thead th {\n",
       "        text-align: right;\n",
       "    }\n",
       "</style>\n",
       "<table border=\"1\" class=\"dataframe\">\n",
       "  <thead>\n",
       "    <tr style=\"text-align: right;\">\n",
       "      <th></th>\n",
       "      <th>NAME</th>\n",
       "      <th>GENDER</th>\n",
       "      <th>YEAR</th>\n",
       "      <th>STREAM</th>\n",
       "      <th>RESULT</th>\n",
       "      <th>ENG</th>\n",
       "      <th>DZO</th>\n",
       "      <th>PHY</th>\n",
       "      <th>CHE</th>\n",
       "      <th>MATH</th>\n",
       "      <th>BIO</th>\n",
       "    </tr>\n",
       "  </thead>\n",
       "  <tbody>\n",
       "    <tr>\n",
       "      <th>557</th>\n",
       "      <td>ABHINASH CHAMLING RAI</td>\n",
       "      <td>M</td>\n",
       "      <td>2017</td>\n",
       "      <td>SCIENCE</td>\n",
       "      <td>PCA</td>\n",
       "      <td>60.0</td>\n",
       "      <td>42.0</td>\n",
       "      <td>61.0</td>\n",
       "      <td>57.0</td>\n",
       "      <td>61.0</td>\n",
       "      <td>53.0</td>\n",
       "    </tr>\n",
       "    <tr>\n",
       "      <th>558</th>\n",
       "      <td>ANJAY KUMAR VERMA</td>\n",
       "      <td>M</td>\n",
       "      <td>2017</td>\n",
       "      <td>SCIENCE</td>\n",
       "      <td>PCA</td>\n",
       "      <td>61.0</td>\n",
       "      <td>NaN</td>\n",
       "      <td>50.0</td>\n",
       "      <td>47.0</td>\n",
       "      <td>46.0</td>\n",
       "      <td>NaN</td>\n",
       "    </tr>\n",
       "    <tr>\n",
       "      <th>559</th>\n",
       "      <td>DENASH GURUNG</td>\n",
       "      <td>M</td>\n",
       "      <td>2017</td>\n",
       "      <td>SCIENCE</td>\n",
       "      <td>PCA</td>\n",
       "      <td>62.0</td>\n",
       "      <td>65.0</td>\n",
       "      <td>59.0</td>\n",
       "      <td>56.0</td>\n",
       "      <td>44.0</td>\n",
       "      <td>NaN</td>\n",
       "    </tr>\n",
       "    <tr>\n",
       "      <th>560</th>\n",
       "      <td>DIPANSHU VATSA</td>\n",
       "      <td>M</td>\n",
       "      <td>2017</td>\n",
       "      <td>SCIENCE</td>\n",
       "      <td>PCA</td>\n",
       "      <td>70.0</td>\n",
       "      <td>NaN</td>\n",
       "      <td>64.0</td>\n",
       "      <td>56.0</td>\n",
       "      <td>77.0</td>\n",
       "      <td>NaN</td>\n",
       "    </tr>\n",
       "    <tr>\n",
       "      <th>561</th>\n",
       "      <td>JIGME TENZIN</td>\n",
       "      <td>M</td>\n",
       "      <td>2017</td>\n",
       "      <td>SCIENCE</td>\n",
       "      <td>PCA</td>\n",
       "      <td>56.0</td>\n",
       "      <td>61.0</td>\n",
       "      <td>62.0</td>\n",
       "      <td>57.0</td>\n",
       "      <td>58.0</td>\n",
       "      <td>66.0</td>\n",
       "    </tr>\n",
       "  </tbody>\n",
       "</table>\n",
       "</div>\n",
       "      <button class=\"colab-df-convert\" onclick=\"convertToInteractive('df-3780f953-424e-484b-adb4-b730add531b3')\"\n",
       "              title=\"Convert this dataframe to an interactive table.\"\n",
       "              style=\"display:none;\">\n",
       "        \n",
       "  <svg xmlns=\"http://www.w3.org/2000/svg\" height=\"24px\"viewBox=\"0 0 24 24\"\n",
       "       width=\"24px\">\n",
       "    <path d=\"M0 0h24v24H0V0z\" fill=\"none\"/>\n",
       "    <path d=\"M18.56 5.44l.94 2.06.94-2.06 2.06-.94-2.06-.94-.94-2.06-.94 2.06-2.06.94zm-11 1L8.5 8.5l.94-2.06 2.06-.94-2.06-.94L8.5 2.5l-.94 2.06-2.06.94zm10 10l.94 2.06.94-2.06 2.06-.94-2.06-.94-.94-2.06-.94 2.06-2.06.94z\"/><path d=\"M17.41 7.96l-1.37-1.37c-.4-.4-.92-.59-1.43-.59-.52 0-1.04.2-1.43.59L10.3 9.45l-7.72 7.72c-.78.78-.78 2.05 0 2.83L4 21.41c.39.39.9.59 1.41.59.51 0 1.02-.2 1.41-.59l7.78-7.78 2.81-2.81c.8-.78.8-2.07 0-2.86zM5.41 20L4 18.59l7.72-7.72 1.47 1.35L5.41 20z\"/>\n",
       "  </svg>\n",
       "      </button>\n",
       "      \n",
       "  <style>\n",
       "    .colab-df-container {\n",
       "      display:flex;\n",
       "      flex-wrap:wrap;\n",
       "      gap: 12px;\n",
       "    }\n",
       "\n",
       "    .colab-df-convert {\n",
       "      background-color: #E8F0FE;\n",
       "      border: none;\n",
       "      border-radius: 50%;\n",
       "      cursor: pointer;\n",
       "      display: none;\n",
       "      fill: #1967D2;\n",
       "      height: 32px;\n",
       "      padding: 0 0 0 0;\n",
       "      width: 32px;\n",
       "    }\n",
       "\n",
       "    .colab-df-convert:hover {\n",
       "      background-color: #E2EBFA;\n",
       "      box-shadow: 0px 1px 2px rgba(60, 64, 67, 0.3), 0px 1px 3px 1px rgba(60, 64, 67, 0.15);\n",
       "      fill: #174EA6;\n",
       "    }\n",
       "\n",
       "    [theme=dark] .colab-df-convert {\n",
       "      background-color: #3B4455;\n",
       "      fill: #D2E3FC;\n",
       "    }\n",
       "\n",
       "    [theme=dark] .colab-df-convert:hover {\n",
       "      background-color: #434B5C;\n",
       "      box-shadow: 0px 1px 3px 1px rgba(0, 0, 0, 0.15);\n",
       "      filter: drop-shadow(0px 1px 2px rgba(0, 0, 0, 0.3));\n",
       "      fill: #FFFFFF;\n",
       "    }\n",
       "  </style>\n",
       "\n",
       "      <script>\n",
       "        const buttonEl =\n",
       "          document.querySelector('#df-3780f953-424e-484b-adb4-b730add531b3 button.colab-df-convert');\n",
       "        buttonEl.style.display =\n",
       "          google.colab.kernel.accessAllowed ? 'block' : 'none';\n",
       "\n",
       "        async function convertToInteractive(key) {\n",
       "          const element = document.querySelector('#df-3780f953-424e-484b-adb4-b730add531b3');\n",
       "          const dataTable =\n",
       "            await google.colab.kernel.invokeFunction('convertToInteractive',\n",
       "                                                     [key], {});\n",
       "          if (!dataTable) return;\n",
       "\n",
       "          const docLinkHtml = 'Like what you see? Visit the ' +\n",
       "            '<a target=\"_blank\" href=https://colab.research.google.com/notebooks/data_table.ipynb>data table notebook</a>'\n",
       "            + ' to learn more about interactive tables.';\n",
       "          element.innerHTML = '';\n",
       "          dataTable['output_type'] = 'display_data';\n",
       "          await google.colab.output.renderOutput(dataTable, element);\n",
       "          const docLink = document.createElement('div');\n",
       "          docLink.innerHTML = docLinkHtml;\n",
       "          element.appendChild(docLink);\n",
       "        }\n",
       "      </script>\n",
       "    </div>\n",
       "  </div>\n",
       "  "
      ],
      "text/plain": [
       "                      NAME GENDER  YEAR   STREAM RESULT   ENG   DZO   PHY  \\\n",
       "557  ABHINASH CHAMLING RAI      M  2017  SCIENCE    PCA  60.0  42.0  61.0   \n",
       "558      ANJAY KUMAR VERMA      M  2017  SCIENCE    PCA  61.0   NaN  50.0   \n",
       "559          DENASH GURUNG      M  2017  SCIENCE    PCA  62.0  65.0  59.0   \n",
       "560         DIPANSHU VATSA      M  2017  SCIENCE    PCA  70.0   NaN  64.0   \n",
       "561           JIGME TENZIN      M  2017  SCIENCE    PCA  56.0  61.0  62.0   \n",
       "\n",
       "      CHE  MATH   BIO  \n",
       "557  57.0  61.0  53.0  \n",
       "558  47.0  46.0   NaN  \n",
       "559  56.0  44.0   NaN  \n",
       "560  56.0  77.0   NaN  \n",
       "561  57.0  58.0  66.0  "
      ]
     },
     "execution_count": 435,
     "metadata": {},
     "output_type": "execute_result"
    }
   ],
   "source": [
    "df17 = df.groupby('YEAR')\n",
    "df17 = df17.get_group(2017)\n",
    "df17.head()"
   ]
  },
  {
   "cell_type": "code",
   "execution_count": 436,
   "metadata": {
    "id": "EXhUcGDmz_iZ"
   },
   "outputs": [],
   "source": [
    "eng17 = round(df17.ENG.mean(),1)\n",
    "dzo17 = round(df17.DZO.mean(),1)\n",
    "phy17 = round(df17.PHY.mean(),1)\n",
    "che17 = round(df17.CHE.mean(),1)\n",
    "math17 = round(df17.MATH.mean(),1)\n",
    "bio17 = round(df17.BIO.mean(),1)\n"
   ]
  },
  {
   "cell_type": "code",
   "execution_count": 437,
   "metadata": {
    "colab": {
     "base_uri": "https://localhost:8080/",
     "height": 296
    },
    "id": "lLiiF77f0T2T",
    "outputId": "f4cbb058-5c7b-4590-d29a-a531503bf4d2"
   },
   "outputs": [
    {
     "data": {
      "text/plain": [
       "<function matplotlib.pyplot.show>"
      ]
     },
     "execution_count": 437,
     "metadata": {},
     "output_type": "execute_result"
    },
    {
     "data": {
      "image/png": "[encoded data removed]",
      "text/plain": [
       "<Figure size 432x288 with 1 Axes>"
      ]
     },
     "metadata": {
      "needs_background": "light"
     },
     "output_type": "display_data"
    }
   ],
   "source": [
    "marks=[eng17,dzo17,phy17,che17,math17,bio17]\n",
    "subject=['English','Dzongkha','Physics','Chemistry','Maths','Biology']\n",
    "plt.bar(subject,marks)\n",
    "for i in range(len(subject)):\n",
    "  plt.text(i,marks[i],marks[i],ha=\"center\",va=\"bottom\")\n",
    "plt.xlabel(\"Subjects\")\n",
    "plt.ylabel(\"Marks obtained\")\n",
    "plt.show"
   ]
  },
  {
   "cell_type": "code",
   "execution_count": 471,
   "metadata": {
    "colab": {
     "base_uri": "https://localhost:8080/",
     "height": 312
    },
    "id": "oPMIYjMp5xGg",
    "outputId": "82d4332b-f5d8-472e-d115-7e474ab4b9a5"
   },
   "outputs": [
    {
     "data": {
      "text/plain": [
       "<function matplotlib.pyplot.show>"
      ]
     },
     "execution_count": 471,
     "metadata": {},
     "output_type": "execute_result"
    },
    {
     "data": {
      "image/png": "[encoded data removed]",
      "text/plain": [
       "<Figure size 432x288 with 1 Axes>"
      ]
     },
     "metadata": {
      "needs_background": "light"
     },
     "output_type": "display_data"
    }
   ],
   "source": [
    "x = df17['RESULT'].unique()\n",
    "y=df17['RESULT'].value_counts()\n",
    "plt.bar(x,y)\n",
    "for i in range(len(x)):\n",
    "  plt.text(i,y[i],y[i],ha=\"center\",va = \"bottom\")\n",
    "plt.xlabel(\"Result Status\")\n",
    "plt.ylabel(\"No of Students\")\n",
    "plt.title(\"Total performance in 2017\")\n",
    "plt.show"
   ]
  },
  {
   "cell_type": "markdown",
   "metadata": {
    "id": "gW9UTkzF0jpL"
   },
   "source": [
    "#2018 Analysis"
   ]
  },
  {
   "cell_type": "code",
   "execution_count": 438,
   "metadata": {
    "colab": {
     "base_uri": "https://localhost:8080/",
     "height": 206
    },
    "id": "F7NJjLrR0ipZ",
    "outputId": "c1266d09-1189-4888-8b41-4de4f2f85789"
   },
   "outputs": [
    {
     "data": {
      "text/html": [
       "\n",
       "  <div id=\"df-f5950547-6659-4e0e-9e09-8e264f8e263f\">\n",
       "    <div class=\"colab-df-container\">\n",
       "      <div>\n",
       "<style scoped>\n",
       "    .dataframe tbody tr th:only-of-type {\n",
       "        vertical-align: middle;\n",
       "    }\n",
       "\n",
       "    .dataframe tbody tr th {\n",
       "        vertical-align: top;\n",
       "    }\n",
       "\n",
       "    .dataframe thead th {\n",
       "        text-align: right;\n",
       "    }\n",
       "</style>\n",
       "<table border=\"1\" class=\"dataframe\">\n",
       "  <thead>\n",
       "    <tr style=\"text-align: right;\">\n",
       "      <th></th>\n",
       "      <th>NAME</th>\n",
       "      <th>GENDER</th>\n",
       "      <th>YEAR</th>\n",
       "      <th>STREAM</th>\n",
       "      <th>RESULT</th>\n",
       "      <th>ENG</th>\n",
       "      <th>DZO</th>\n",
       "      <th>PHY</th>\n",
       "      <th>CHE</th>\n",
       "      <th>MATH</th>\n",
       "      <th>BIO</th>\n",
       "    </tr>\n",
       "  </thead>\n",
       "  <tbody>\n",
       "    <tr>\n",
       "      <th>0</th>\n",
       "      <td>NGAWANG TENZIN</td>\n",
       "      <td>M</td>\n",
       "      <td>2018</td>\n",
       "      <td>SCIENCE</td>\n",
       "      <td>PCA</td>\n",
       "      <td>66.0</td>\n",
       "      <td>57.0</td>\n",
       "      <td>55.0</td>\n",
       "      <td>42.0</td>\n",
       "      <td>43.0</td>\n",
       "      <td>49.0</td>\n",
       "    </tr>\n",
       "    <tr>\n",
       "      <th>1</th>\n",
       "      <td>SONAM LODAY CHEYNOR</td>\n",
       "      <td>M</td>\n",
       "      <td>2018</td>\n",
       "      <td>SCIENCE</td>\n",
       "      <td>PCA</td>\n",
       "      <td>74.0</td>\n",
       "      <td>57.0</td>\n",
       "      <td>64.0</td>\n",
       "      <td>49.0</td>\n",
       "      <td>40.0</td>\n",
       "      <td>49.0</td>\n",
       "    </tr>\n",
       "    <tr>\n",
       "      <th>2</th>\n",
       "      <td>SRAWAN PRADHAN</td>\n",
       "      <td>M</td>\n",
       "      <td>2018</td>\n",
       "      <td>SCIENCE</td>\n",
       "      <td>PCA</td>\n",
       "      <td>75.0</td>\n",
       "      <td>57.0</td>\n",
       "      <td>86.0</td>\n",
       "      <td>64.0</td>\n",
       "      <td>91.0</td>\n",
       "      <td>NaN</td>\n",
       "    </tr>\n",
       "    <tr>\n",
       "      <th>3</th>\n",
       "      <td>TANDIN TSHEWANG</td>\n",
       "      <td>M</td>\n",
       "      <td>2018</td>\n",
       "      <td>SCIENCE</td>\n",
       "      <td>PCA</td>\n",
       "      <td>45.0</td>\n",
       "      <td>42.0</td>\n",
       "      <td>44.0</td>\n",
       "      <td>37.0</td>\n",
       "      <td>43.0</td>\n",
       "      <td>NaN</td>\n",
       "    </tr>\n",
       "    <tr>\n",
       "      <th>4</th>\n",
       "      <td>TASHI TOBGAY</td>\n",
       "      <td>M</td>\n",
       "      <td>2018</td>\n",
       "      <td>SCIENCE</td>\n",
       "      <td>PCA</td>\n",
       "      <td>57.0</td>\n",
       "      <td>62.0</td>\n",
       "      <td>59.0</td>\n",
       "      <td>41.0</td>\n",
       "      <td>50.0</td>\n",
       "      <td>64.0</td>\n",
       "    </tr>\n",
       "  </tbody>\n",
       "</table>\n",
       "</div>\n",
       "      <button class=\"colab-df-convert\" onclick=\"convertToInteractive('df-f5950547-6659-4e0e-9e09-8e264f8e263f')\"\n",
       "              title=\"Convert this dataframe to an interactive table.\"\n",
       "              style=\"display:none;\">\n",
       "        \n",
       "  <svg xmlns=\"http://www.w3.org/2000/svg\" height=\"24px\"viewBox=\"0 0 24 24\"\n",
       "       width=\"24px\">\n",
       "    <path d=\"M0 0h24v24H0V0z\" fill=\"none\"/>\n",
       "    <path d=\"M18.56 5.44l.94 2.06.94-2.06 2.06-.94-2.06-.94-.94-2.06-.94 2.06-2.06.94zm-11 1L8.5 8.5l.94-2.06 2.06-.94-2.06-.94L8.5 2.5l-.94 2.06-2.06.94zm10 10l.94 2.06.94-2.06 2.06-.94-2.06-.94-.94-2.06-.94 2.06-2.06.94z\"/><path d=\"M17.41 7.96l-1.37-1.37c-.4-.4-.92-.59-1.43-.59-.52 0-1.04.2-1.43.59L10.3 9.45l-7.72 7.72c-.78.78-.78 2.05 0 2.83L4 21.41c.39.39.9.59 1.41.59.51 0 1.02-.2 1.41-.59l7.78-7.78 2.81-2.81c.8-.78.8-2.07 0-2.86zM5.41 20L4 18.59l7.72-7.72 1.47 1.35L5.41 20z\"/>\n",
       "  </svg>\n",
       "      </button>\n",
       "      \n",
       "  <style>\n",
       "    .colab-df-container {\n",
       "      display:flex;\n",
       "      flex-wrap:wrap;\n",
       "      gap: 12px;\n",
       "    }\n",
       "\n",
       "    .colab-df-convert {\n",
       "      background-color: #E8F0FE;\n",
       "      border: none;\n",
       "      border-radius: 50%;\n",
       "      cursor: pointer;\n",
       "      display: none;\n",
       "      fill: #1967D2;\n",
       "      height: 32px;\n",
       "      padding: 0 0 0 0;\n",
       "      width: 32px;\n",
       "    }\n",
       "\n",
       "    .colab-df-convert:hover {\n",
       "      background-color: #E2EBFA;\n",
       "      box-shadow: 0px 1px 2px rgba(60, 64, 67, 0.3), 0px 1px 3px 1px rgba(60, 64, 67, 0.15);\n",
       "      fill: #174EA6;\n",
       "    }\n",
       "\n",
       "    [theme=dark] .colab-df-convert {\n",
       "      background-color: #3B4455;\n",
       "      fill: #D2E3FC;\n",
       "    }\n",
       "\n",
       "    [theme=dark] .colab-df-convert:hover {\n",
       "      background-color: #434B5C;\n",
       "      box-shadow: 0px 1px 3px 1px rgba(0, 0, 0, 0.15);\n",
       "      filter: drop-shadow(0px 1px 2px rgba(0, 0, 0, 0.3));\n",
       "      fill: #FFFFFF;\n",
       "    }\n",
       "  </style>\n",
       "\n",
       "      <script>\n",
       "        const buttonEl =\n",
       "          document.querySelector('#df-f5950547-6659-4e0e-9e09-8e264f8e263f button.colab-df-convert');\n",
       "        buttonEl.style.display =\n",
       "          google.colab.kernel.accessAllowed ? 'block' : 'none';\n",
       "\n",
       "        async function convertToInteractive(key) {\n",
       "          const element = document.querySelector('#df-f5950547-6659-4e0e-9e09-8e264f8e263f');\n",
       "          const dataTable =\n",
       "            await google.colab.kernel.invokeFunction('convertToInteractive',\n",
       "                                                     [key], {});\n",
       "          if (!dataTable) return;\n",
       "\n",
       "          const docLinkHtml = 'Like what you see? Visit the ' +\n",
       "            '<a target=\"_blank\" href=https://colab.research.google.com/notebooks/data_table.ipynb>data table notebook</a>'\n",
       "            + ' to learn more about interactive tables.';\n",
       "          element.innerHTML = '';\n",
       "          dataTable['output_type'] = 'display_data';\n",
       "          await google.colab.output.renderOutput(dataTable, element);\n",
       "          const docLink = document.createElement('div');\n",
       "          docLink.innerHTML = docLinkHtml;\n",
       "          element.appendChild(docLink);\n",
       "        }\n",
       "      </script>\n",
       "    </div>\n",
       "  </div>\n",
       "  "
      ],
      "text/plain": [
       "                  NAME GENDER  YEAR   STREAM RESULT   ENG   DZO   PHY   CHE  \\\n",
       "0       NGAWANG TENZIN      M  2018  SCIENCE    PCA  66.0  57.0  55.0  42.0   \n",
       "1  SONAM LODAY CHEYNOR      M  2018  SCIENCE    PCA  74.0  57.0  64.0  49.0   \n",
       "2       SRAWAN PRADHAN      M  2018  SCIENCE    PCA  75.0  57.0  86.0  64.0   \n",
       "3      TANDIN TSHEWANG      M  2018  SCIENCE    PCA  45.0  42.0  44.0  37.0   \n",
       "4         TASHI TOBGAY      M  2018  SCIENCE    PCA  57.0  62.0  59.0  41.0   \n",
       "\n",
       "   MATH   BIO  \n",
       "0  43.0  49.0  \n",
       "1  40.0  49.0  \n",
       "2  91.0   NaN  \n",
       "3  43.0   NaN  \n",
       "4  50.0  64.0  "
      ]
     },
     "execution_count": 438,
     "metadata": {},
     "output_type": "execute_result"
    }
   ],
   "source": [
    "df18 = df.groupby('YEAR')\n",
    "df18 = df18.get_group(2018)\n",
    "df18.head()"
   ]
  },
  {
   "cell_type": "code",
   "execution_count": 439,
   "metadata": {
    "id": "ofBN1qT90pZb"
   },
   "outputs": [],
   "source": [
    "eng18 = round(df18.ENG.mean(),1)\n",
    "dzo18 = round(df18.DZO.mean(),1)\n",
    "phy18 = round(df18.PHY.mean(),1)\n",
    "che18 = round(df18.CHE.mean(),1)\n",
    "math18 = round(df18.MATH.mean(),1)\n",
    "bio18 = round(df18.BIO.mean(),1)\n"
   ]
  },
  {
   "cell_type": "markdown",
   "metadata": {
    "id": "OJzwIiEN0lYI"
   },
   "source": []
  },
  {
   "cell_type": "code",
   "execution_count": 440,
   "metadata": {
    "colab": {
     "base_uri": "https://localhost:8080/",
     "height": 299
    },
    "id": "EvybJTsv01Vi",
    "outputId": "25d4bb0f-667c-4557-bba0-001025f69981"
   },
   "outputs": [
    {
     "data": {
      "text/plain": [
       "<function matplotlib.pyplot.show>"
      ]
     },
     "execution_count": 440,
     "metadata": {},
     "output_type": "execute_result"
    },
    {
     "data": {
      "image/png": "[encoded data removed]",
      "text/plain": [
       "<Figure size 432x288 with 1 Axes>"
      ]
     },
     "metadata": {
      "needs_background": "light"
     },
     "output_type": "display_data"
    }
   ],
   "source": [
    "marks=[eng18,dzo18,phy18,che18,math18,bio18]\n",
    "subject=['English','Dzongkha','Physics','Chemistry','Maths','Biology']\n",
    "plt.bar(subject,marks)\n",
    "for i in range(len(subject)):\n",
    "  plt.text(i,marks[i],marks[i],ha=\"center\",va=\"bottom\")\n",
    "plt.xlabel(\"Subjects\")\n",
    "plt.ylabel(\"Marks obtained\")\n",
    "plt.show"
   ]
  },
  {
   "cell_type": "code",
   "execution_count": 478,
   "metadata": {
    "colab": {
     "base_uri": "https://localhost:8080/",
     "height": 312
    },
    "id": "UGNV5AhL52t3",
    "outputId": "a4bbbc5d-cbf5-4267-a455-142a8fb1bca8"
   },
   "outputs": [
    {
     "data": {
      "text/plain": [
       "<function matplotlib.pyplot.show>"
      ]
     },
     "execution_count": 478,
     "metadata": {},
     "output_type": "execute_result"
    },
    {
     "data": {
      "image/png": "[encoded data removed]",
      "text/plain": [
       "<Figure size 432x288 with 1 Axes>"
      ]
     },
     "metadata": {
      "needs_background": "light"
     },
     "output_type": "display_data"
    }
   ],
   "source": [
    "x = df18['RESULT'].unique()\n",
    "y=df18['RESULT'].value_counts()\n",
    "plt.bar(x,y)\n",
    "for i in range(len(x)):\n",
    "  plt.text(i,y[i],y[i],ha=\"center\",va = \"bottom\")\n",
    "plt.xlabel(\"Result Status\")\n",
    "plt.ylabel(\"No of Students\")\n",
    "plt.title(\"Total performance in 2018\")\n",
    "plt.show"
   ]
  },
  {
   "cell_type": "markdown",
   "metadata": {
    "id": "KR4S4H1w1UaY"
   },
   "source": [
    "#2019 Analysis"
   ]
  },
  {
   "cell_type": "code",
   "execution_count": 474,
   "metadata": {
    "colab": {
     "base_uri": "https://localhost:8080/",
     "height": 206
    },
    "id": "5eDPoK-Y1XpJ",
    "outputId": "8e237eb5-f653-490e-b686-e4f56b39fcf1"
   },
   "outputs": [
    {
     "data": {
      "text/html": [
       "\n",
       "  <div id=\"df-29be9399-f204-4162-b304-bf85ec948bc6\">\n",
       "    <div class=\"colab-df-container\">\n",
       "      <div>\n",
       "<style scoped>\n",
       "    .dataframe tbody tr th:only-of-type {\n",
       "        vertical-align: middle;\n",
       "    }\n",
       "\n",
       "    .dataframe tbody tr th {\n",
       "        vertical-align: top;\n",
       "    }\n",
       "\n",
       "    .dataframe thead th {\n",
       "        text-align: right;\n",
       "    }\n",
       "</style>\n",
       "<table border=\"1\" class=\"dataframe\">\n",
       "  <thead>\n",
       "    <tr style=\"text-align: right;\">\n",
       "      <th></th>\n",
       "      <th>NAME</th>\n",
       "      <th>GENDER</th>\n",
       "      <th>YEAR</th>\n",
       "      <th>STREAM</th>\n",
       "      <th>RESULT</th>\n",
       "      <th>ENG</th>\n",
       "      <th>DZO</th>\n",
       "      <th>PHY</th>\n",
       "      <th>CHE</th>\n",
       "      <th>MATH</th>\n",
       "      <th>BIO</th>\n",
       "    </tr>\n",
       "  </thead>\n",
       "  <tbody>\n",
       "    <tr>\n",
       "      <th>169</th>\n",
       "      <td>BIKASH GHALLEY</td>\n",
       "      <td>M</td>\n",
       "      <td>2019</td>\n",
       "      <td>SCIENCE</td>\n",
       "      <td>PCA</td>\n",
       "      <td>63.0</td>\n",
       "      <td>58.0</td>\n",
       "      <td>75.0</td>\n",
       "      <td>58.0</td>\n",
       "      <td>56.0</td>\n",
       "      <td>NaN</td>\n",
       "    </tr>\n",
       "    <tr>\n",
       "      <th>170</th>\n",
       "      <td>KUENZANG LHENDUP DORJI</td>\n",
       "      <td>M</td>\n",
       "      <td>2019</td>\n",
       "      <td>SCIENCE</td>\n",
       "      <td>ABS</td>\n",
       "      <td>NaN</td>\n",
       "      <td>NaN</td>\n",
       "      <td>NaN</td>\n",
       "      <td>NaN</td>\n",
       "      <td>NaN</td>\n",
       "      <td>NaN</td>\n",
       "    </tr>\n",
       "    <tr>\n",
       "      <th>171</th>\n",
       "      <td>NGEEDUP DHOJEE</td>\n",
       "      <td>M</td>\n",
       "      <td>2019</td>\n",
       "      <td>SCIENCE</td>\n",
       "      <td>PCA</td>\n",
       "      <td>70.0</td>\n",
       "      <td>65.0</td>\n",
       "      <td>57.0</td>\n",
       "      <td>59.0</td>\n",
       "      <td>59.0</td>\n",
       "      <td>76.0</td>\n",
       "    </tr>\n",
       "    <tr>\n",
       "      <th>172</th>\n",
       "      <td>NIMA</td>\n",
       "      <td>M</td>\n",
       "      <td>2019</td>\n",
       "      <td>SCIENCE</td>\n",
       "      <td>PCA</td>\n",
       "      <td>58.0</td>\n",
       "      <td>58.0</td>\n",
       "      <td>54.0</td>\n",
       "      <td>51.0</td>\n",
       "      <td>37.0</td>\n",
       "      <td>61.0</td>\n",
       "    </tr>\n",
       "    <tr>\n",
       "      <th>173</th>\n",
       "      <td>SHERAB THARCHEN DORJI</td>\n",
       "      <td>M</td>\n",
       "      <td>2019</td>\n",
       "      <td>SCIENCE</td>\n",
       "      <td>PCA</td>\n",
       "      <td>61.0</td>\n",
       "      <td>57.0</td>\n",
       "      <td>74.0</td>\n",
       "      <td>69.0</td>\n",
       "      <td>63.0</td>\n",
       "      <td>NaN</td>\n",
       "    </tr>\n",
       "  </tbody>\n",
       "</table>\n",
       "</div>\n",
       "      <button class=\"colab-df-convert\" onclick=\"convertToInteractive('df-29be9399-f204-4162-b304-bf85ec948bc6')\"\n",
       "              title=\"Convert this dataframe to an interactive table.\"\n",
       "              style=\"display:none;\">\n",
       "        \n",
       "  <svg xmlns=\"http://www.w3.org/2000/svg\" height=\"24px\"viewBox=\"0 0 24 24\"\n",
       "       width=\"24px\">\n",
       "    <path d=\"M0 0h24v24H0V0z\" fill=\"none\"/>\n",
       "    <path d=\"M18.56 5.44l.94 2.06.94-2.06 2.06-.94-2.06-.94-.94-2.06-.94 2.06-2.06.94zm-11 1L8.5 8.5l.94-2.06 2.06-.94-2.06-.94L8.5 2.5l-.94 2.06-2.06.94zm10 10l.94 2.06.94-2.06 2.06-.94-2.06-.94-.94-2.06-.94 2.06-2.06.94z\"/><path d=\"M17.41 7.96l-1.37-1.37c-.4-.4-.92-.59-1.43-.59-.52 0-1.04.2-1.43.59L10.3 9.45l-7.72 7.72c-.78.78-.78 2.05 0 2.83L4 21.41c.39.39.9.59 1.41.59.51 0 1.02-.2 1.41-.59l7.78-7.78 2.81-2.81c.8-.78.8-2.07 0-2.86zM5.41 20L4 18.59l7.72-7.72 1.47 1.35L5.41 20z\"/>\n",
       "  </svg>\n",
       "      </button>\n",
       "      \n",
       "  <style>\n",
       "    .colab-df-container {\n",
       "      display:flex;\n",
       "      flex-wrap:wrap;\n",
       "      gap: 12px;\n",
       "    }\n",
       "\n",
       "    .colab-df-convert {\n",
       "      background-color: #E8F0FE;\n",
       "      border: none;\n",
       "      border-radius: 50%;\n",
       "      cursor: pointer;\n",
       "      display: none;\n",
       "      fill: #1967D2;\n",
       "      height: 32px;\n",
       "      padding: 0 0 0 0;\n",
       "      width: 32px;\n",
       "    }\n",
       "\n",
       "    .colab-df-convert:hover {\n",
       "      background-color: #E2EBFA;\n",
       "      box-shadow: 0px 1px 2px rgba(60, 64, 67, 0.3), 0px 1px 3px 1px rgba(60, 64, 67, 0.15);\n",
       "      fill: #174EA6;\n",
       "    }\n",
       "\n",
       "    [theme=dark] .colab-df-convert {\n",
       "      background-color: #3B4455;\n",
       "      fill: #D2E3FC;\n",
       "    }\n",
       "\n",
       "    [theme=dark] .colab-df-convert:hover {\n",
       "      background-color: #434B5C;\n",
       "      box-shadow: 0px 1px 3px 1px rgba(0, 0, 0, 0.15);\n",
       "      filter: drop-shadow(0px 1px 2px rgba(0, 0, 0, 0.3));\n",
       "      fill: #FFFFFF;\n",
       "    }\n",
       "  </style>\n",
       "\n",
       "      <script>\n",
       "        const buttonEl =\n",
       "          document.querySelector('#df-29be9399-f204-4162-b304-bf85ec948bc6 button.colab-df-convert');\n",
       "        buttonEl.style.display =\n",
       "          google.colab.kernel.accessAllowed ? 'block' : 'none';\n",
       "\n",
       "        async function convertToInteractive(key) {\n",
       "          const element = document.querySelector('#df-29be9399-f204-4162-b304-bf85ec948bc6');\n",
       "          const dataTable =\n",
       "            await google.colab.kernel.invokeFunction('convertToInteractive',\n",
       "                                                     [key], {});\n",
       "          if (!dataTable) return;\n",
       "\n",
       "          const docLinkHtml = 'Like what you see? Visit the ' +\n",
       "            '<a target=\"_blank\" href=https://colab.research.google.com/notebooks/data_table.ipynb>data table notebook</a>'\n",
       "            + ' to learn more about interactive tables.';\n",
       "          element.innerHTML = '';\n",
       "          dataTable['output_type'] = 'display_data';\n",
       "          await google.colab.output.renderOutput(dataTable, element);\n",
       "          const docLink = document.createElement('div');\n",
       "          docLink.innerHTML = docLinkHtml;\n",
       "          element.appendChild(docLink);\n",
       "        }\n",
       "      </script>\n",
       "    </div>\n",
       "  </div>\n",
       "  "
      ],
      "text/plain": [
       "                       NAME GENDER  YEAR   STREAM RESULT   ENG   DZO   PHY  \\\n",
       "169          BIKASH GHALLEY      M  2019  SCIENCE    PCA  63.0  58.0  75.0   \n",
       "170  KUENZANG LHENDUP DORJI      M  2019  SCIENCE    ABS   NaN   NaN   NaN   \n",
       "171          NGEEDUP DHOJEE      M  2019  SCIENCE    PCA  70.0  65.0  57.0   \n",
       "172                    NIMA      M  2019  SCIENCE    PCA  58.0  58.0  54.0   \n",
       "173   SHERAB THARCHEN DORJI      M  2019  SCIENCE    PCA  61.0  57.0  74.0   \n",
       "\n",
       "      CHE  MATH   BIO  \n",
       "169  58.0  56.0   NaN  \n",
       "170   NaN   NaN   NaN  \n",
       "171  59.0  59.0  76.0  \n",
       "172  51.0  37.0  61.0  \n",
       "173  69.0  63.0   NaN  "
      ]
     },
     "execution_count": 474,
     "metadata": {},
     "output_type": "execute_result"
    }
   ],
   "source": [
    "df19 = df.groupby('YEAR')\n",
    "df19 = df19.get_group(2019)\n",
    "df19.head()"
   ]
  },
  {
   "cell_type": "code",
   "execution_count": 475,
   "metadata": {
    "id": "R8SyP0G41fOz"
   },
   "outputs": [],
   "source": [
    "eng19 = round(df19.ENG.mean(),1)\n",
    "dzo19 = round(df19.DZO.mean(),1)\n",
    "phy19 = round(df19.PHY.mean(),1)\n",
    "che19 = round(df19.CHE.mean(),1)\n",
    "math19 = round(df19.MATH.mean(),1)\n",
    "bio19 = round(df19.BIO.mean(),1)\n"
   ]
  },
  {
   "cell_type": "code",
   "execution_count": 476,
   "metadata": {
    "colab": {
     "base_uri": "https://localhost:8080/",
     "height": 296
    },
    "id": "wa6hb3Dt1pW6",
    "outputId": "f8a62fd0-a496-44d2-8fd6-4742482e6ae4"
   },
   "outputs": [
    {
     "data": {
      "text/plain": [
       "<function matplotlib.pyplot.show>"
      ]
     },
     "execution_count": 476,
     "metadata": {},
     "output_type": "execute_result"
    },
    {
     "data": {
      "image/png": "[encoded data removed]",
      "text/plain": [
       "<Figure size 432x288 with 1 Axes>"
      ]
     },
     "metadata": {
      "needs_background": "light"
     },
     "output_type": "display_data"
    }
   ],
   "source": [
    "marks=[eng18,dzo19,phy19,che19,math19,bio19]\n",
    "subject=['English','Dzongkha','Physics','Chemistry','Maths','Biology']\n",
    "plt.bar(subject,marks)\n",
    "for i in range(len(subject)):\n",
    "  plt.text(i,marks[i],marks[i],ha=\"center\",va=\"bottom\")\n",
    "plt.xlabel(\"Subjects\")\n",
    "plt.ylabel(\"Marks obtained\")\n",
    "plt.show"
   ]
  },
  {
   "cell_type": "code",
   "execution_count": 477,
   "metadata": {
    "colab": {
     "base_uri": "https://localhost:8080/",
     "height": 312
    },
    "id": "2x4vva3rutyt",
    "outputId": "5a2866db-4627-4b91-a5aa-b7d183ab4e65"
   },
   "outputs": [
    {
     "data": {
      "text/plain": [
       "<function matplotlib.pyplot.show>"
      ]
     },
     "execution_count": 477,
     "metadata": {},
     "output_type": "execute_result"
    },
    {
     "data": {
      "image/png": "[encoded data removed]",
      "text/plain": [
       "<Figure size 432x288 with 1 Axes>"
      ]
     },
     "metadata": {
      "needs_background": "light"
     },
     "output_type": "display_data"
    }
   ],
   "source": [
    "x = df19['RESULT'].unique()\n",
    "y=df19['RESULT'].value_counts()\n",
    "plt.bar(x,y)\n",
    "for i in range(len(x)):\n",
    "  plt.text(i,y[i],y[i],ha=\"center\",va = \"bottom\")\n",
    "plt.xlabel(\"Result Status\")\n",
    "plt.ylabel(\"No of Students\")\n",
    "plt.title(\"Total performance in 2019\")\n",
    "plt.show"
   ]
  },
  {
   "cell_type": "markdown",
   "metadata": {
    "id": "DOCSna6h66Y4"
   },
   "source": [
    "#Graphing the average marks obtained in each subject over the years"
   ]
  },
  {
   "cell_type": "code",
   "execution_count": 480,
   "metadata": {
    "colab": {
     "base_uri": "https://localhost:8080/",
     "height": 165
    },
    "id": "jT1BBEms6JKD",
    "outputId": "55155d7e-8a7b-4717-f0c8-dd64555102b5"
   },
   "outputs": [
    {
     "ename": "NameError",
     "evalue": "ignored",
     "output_type": "error",
     "traceback": [
      "\u001b[0;31m---------------------------------------------------------------------------\u001b[0m",
      "\u001b[0;31mNameError\u001b[0m                                 Traceback (most recent call last)",
      "\u001b[0;32m<ipython-input-480-951ca6d8875d>\u001b[0m in \u001b[0;36m<module>\u001b[0;34m()\u001b[0m\n\u001b[0;32m----> 1\u001b[0;31m \u001b[0mx\u001b[0m\u001b[0;34m=\u001b[0m\u001b[0;34m[\u001b[0m\u001b[0meng12\u001b[0m\u001b[0;34m,\u001b[0m\u001b[0meng13\u001b[0m\u001b[0;34m,\u001b[0m\u001b[0meng14\u001b[0m\u001b[0;34m,\u001b[0m\u001b[0meng15\u001b[0m\u001b[0;34m,\u001b[0m\u001b[0meng16\u001b[0m\u001b[0;34m,\u001b[0m\u001b[0meng17\u001b[0m\u001b[0;34m,\u001b[0m\u001b[0meng18\u001b[0m\u001b[0;34m,\u001b[0m\u001b[0meng19\u001b[0m\u001b[0;34m]\u001b[0m\u001b[0;34m\u001b[0m\u001b[0;34m\u001b[0m\u001b[0m\n\u001b[0m",
      "\u001b[0;31mNameError\u001b[0m: name 'eng14' is not defined"
     ]
    }
   ],
   "source": [
    "x=[eng12,eng13,eng14,eng15,eng16,eng17,eng18,eng19]"
   ]
  }
 ],
 "metadata": {
  "colab": {
   "collapsed_sections": [],
   "name": "science.ipynb",
   "provenance": []
  },
  "kernelspec": {
   "display_name": "Python 3 (ipykernel)",
   "language": "python",
   "name": "python3"
  },
  "language_info": {
   "codemirror_mode": {
    "name": "ipython",
    "version": 3
   },
   "file_extension": ".py",
   "mimetype": "text/x-python",
   "name": "python",
   "nbconvert_exporter": "python",
   "pygments_lexer": "ipython3",
   "version": "3.9.7"
  }
 },
 "nbformat": 4,
 "nbformat_minor": 1
}
